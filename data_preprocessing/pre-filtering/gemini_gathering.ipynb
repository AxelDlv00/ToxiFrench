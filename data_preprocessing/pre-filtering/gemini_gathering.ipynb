{
 "cells": [
  {
   "cell_type": "markdown",
   "id": "6c784ded",
   "metadata": {},
   "source": [
    "# Creating a batch $D_{\\text{filtered}}$ with [Gemini 2.0-flash](https://ai.google.dev/gemini-api/docs/quickstart?hl=fr)'s prefiltering"
   ]
  },
  {
   "cell_type": "markdown",
   "id": "15c83d3f",
   "metadata": {},
   "source": [
    "In [this notebook](gemini_prefiltering.ipynb), we pre-filtered some toxic content to balance the dataset. We will create a batch from these filterings. "
   ]
  },
  {
   "cell_type": "markdown",
   "id": "2b174835",
   "metadata": {},
   "source": [
    "## Libraries"
   ]
  },
  {
   "cell_type": "code",
   "execution_count": 1,
   "id": "72c631c8",
   "metadata": {},
   "outputs": [],
   "source": [
    "from pathlib import Path\n",
    "import os\n",
    "import pandas as pd\n",
    "from rich.console import Console\n",
    "\n",
    "console = Console()"
   ]
  },
  {
   "cell_type": "markdown",
   "id": "cbc6087c",
   "metadata": {},
   "source": [
    "## Global variables"
   ]
  },
  {
   "cell_type": "code",
   "execution_count": 2,
   "id": "b6310ac9",
   "metadata": {},
   "outputs": [],
   "source": [
    "ROOT = Path(\"../..\")\n",
    "DATA_DIR = ROOT / \"data\"\n",
    "SUBSETS_FILTERED = DATA_DIR / \"pre-filtering\"\n",
    "files = [f for f in os.listdir(SUBSETS_FILTERED) if f.endswith(\".csv\") and \"checkpoint\" not in f]\n",
    "output_csv_1 = DATA_DIR / \"subsets_Di\" / \"subset_filtered.csv\"\n",
    "output_csv_2 = DATA_DIR / \"subsets_Di_annotated\" / \"subset_filtered_gpt-4o-mini.csv\"\n",
    "console = Console()"
   ]
  },
  {
   "cell_type": "markdown",
   "id": "d00586e4",
   "metadata": {},
   "source": [
    "## Load dataset"
   ]
  },
  {
   "cell_type": "code",
   "execution_count": 11,
   "id": "e87214cb",
   "metadata": {},
   "outputs": [
    {
     "data": {
      "text/html": [
       "<div>\n",
       "<style scoped>\n",
       "    .dataframe tbody tr th:only-of-type {\n",
       "        vertical-align: middle;\n",
       "    }\n",
       "\n",
       "    .dataframe tbody tr th {\n",
       "        vertical-align: top;\n",
       "    }\n",
       "\n",
       "    .dataframe thead th {\n",
       "        text-align: right;\n",
       "    }\n",
       "</style>\n",
       "<table border=\"1\" class=\"dataframe\">\n",
       "  <thead>\n",
       "    <tr style=\"text-align: right;\">\n",
       "      <th></th>\n",
       "      <th>msg_id</th>\n",
       "      <th>user</th>\n",
       "      <th>content</th>\n",
       "      <th>topic</th>\n",
       "      <th>deleted</th>\n",
       "      <th>banned</th>\n",
       "      <th>hour</th>\n",
       "      <th>gemini_prediction</th>\n",
       "    </tr>\n",
       "  </thead>\n",
       "  <tbody>\n",
       "    <tr>\n",
       "      <th>4</th>\n",
       "      <td>anon_msg_4222a131e996</td>\n",
       "      <td>anon_user_8c8e6fd0a1</td>\n",
       "      <td>Bah dans une société saine il ressortent jamai...</td>\n",
       "      <td>anon_topic_6ee71e37</td>\n",
       "      <td>1</td>\n",
       "      <td>1</td>\n",
       "      <td>0</td>\n",
       "      <td>1</td>\n",
       "    </tr>\n",
       "    <tr>\n",
       "      <th>24</th>\n",
       "      <td>anon_msg_68296d1810d2</td>\n",
       "      <td>anon_user_e414b0c5f8</td>\n",
       "      <td>Ayaaaaa ce tarax\\nLe meme qui disait il y a 5 ...</td>\n",
       "      <td>anon_topic_246f3619</td>\n",
       "      <td>1</td>\n",
       "      <td>1</td>\n",
       "      <td>15</td>\n",
       "      <td>1</td>\n",
       "    </tr>\n",
       "    <tr>\n",
       "      <th>46</th>\n",
       "      <td>anon_msg_05aaf2d18d1f</td>\n",
       "      <td>anon_user_5ca2bf0253</td>\n",
       "      <td>AYAAAAAAA maintenant le député LFI dénonce le ...</td>\n",
       "      <td>anon_topic_ea0e3e29</td>\n",
       "      <td>1</td>\n",
       "      <td>1</td>\n",
       "      <td>12</td>\n",
       "      <td>1</td>\n",
       "    </tr>\n",
       "    <tr>\n",
       "      <th>208</th>\n",
       "      <td>anon_msg_8598730afbe0</td>\n",
       "      <td>anon_user_f00e4728d0</td>\n",
       "      <td>Week-end foot j'ai dit\\nL'odeur de ton calbard...</td>\n",
       "      <td>anon_topic_2dc6f771</td>\n",
       "      <td>1</td>\n",
       "      <td>1</td>\n",
       "      <td>13</td>\n",
       "      <td>1</td>\n",
       "    </tr>\n",
       "    <tr>\n",
       "      <th>222</th>\n",
       "      <td>anon_msg_adbef7ac4c23</td>\n",
       "      <td>anon_user_2be664cd79</td>\n",
       "      <td>Nettoie la, même en portant plainte tu récupér...</td>\n",
       "      <td>anon_topic_ab747476</td>\n",
       "      <td>1</td>\n",
       "      <td>1</td>\n",
       "      <td>12</td>\n",
       "      <td>1</td>\n",
       "    </tr>\n",
       "    <tr>\n",
       "      <th>...</th>\n",
       "      <td>...</td>\n",
       "      <td>...</td>\n",
       "      <td>...</td>\n",
       "      <td>...</td>\n",
       "      <td>...</td>\n",
       "      <td>...</td>\n",
       "      <td>...</td>\n",
       "      <td>...</td>\n",
       "    </tr>\n",
       "    <tr>\n",
       "      <th>179895</th>\n",
       "      <td>anon_msg_1cb0569b7e2e</td>\n",
       "      <td>anon_user_16c349ba60</td>\n",
       "      <td>NOOOOOOOOOOOOOOOOOOOOOOOOOOOOOOOOOOOOOOOOOOOOO...</td>\n",
       "      <td>anon_topic_50f50f16</td>\n",
       "      <td>1</td>\n",
       "      <td>1</td>\n",
       "      <td>13</td>\n",
       "      <td>1</td>\n",
       "    </tr>\n",
       "    <tr>\n",
       "      <th>179916</th>\n",
       "      <td>anon_msg_3de75eb30c5e</td>\n",
       "      <td>anon_user_8f9fbbdd55</td>\n",
       "      <td>Ah bah si incelus premier le dit\\nOn peut clor...</td>\n",
       "      <td>anon_topic_952a0846</td>\n",
       "      <td>1</td>\n",
       "      <td>1</td>\n",
       "      <td>13</td>\n",
       "      <td>1</td>\n",
       "    </tr>\n",
       "    <tr>\n",
       "      <th>179923</th>\n",
       "      <td>anon_msg_34e07f6e807f</td>\n",
       "      <td>anon_user_86cbeabf14</td>\n",
       "      <td>Gourvès bonne mère sur la tête à Marius tu vas...</td>\n",
       "      <td>anon_topic_9a400bc8</td>\n",
       "      <td>1</td>\n",
       "      <td>1</td>\n",
       "      <td>0</td>\n",
       "      <td>1</td>\n",
       "    </tr>\n",
       "    <tr>\n",
       "      <th>179955</th>\n",
       "      <td>anon_msg_fcdc9ebf6f9a</td>\n",
       "      <td>anon_user_38cb3e2e7e</td>\n",
       "      <td>On s'en bat les couilles d'être detesté dans u...</td>\n",
       "      <td>anon_topic_da6605c9</td>\n",
       "      <td>1</td>\n",
       "      <td>1</td>\n",
       "      <td>14</td>\n",
       "      <td>1</td>\n",
       "    </tr>\n",
       "    <tr>\n",
       "      <th>179970</th>\n",
       "      <td>anon_msg_7be46d1bb87e</td>\n",
       "      <td>anon_user_1700a85c83</td>\n",
       "      <td>Donc tu passes ton temps à mentir, et il faut ...</td>\n",
       "      <td>anon_topic_41fc3e02</td>\n",
       "      <td>1</td>\n",
       "      <td>1</td>\n",
       "      <td>12</td>\n",
       "      <td>1</td>\n",
       "    </tr>\n",
       "  </tbody>\n",
       "</table>\n",
       "<p>7725 rows × 8 columns</p>\n",
       "</div>"
      ],
      "text/plain": [
       "                       msg_id                  user  \\\n",
       "4       anon_msg_4222a131e996  anon_user_8c8e6fd0a1   \n",
       "24      anon_msg_68296d1810d2  anon_user_e414b0c5f8   \n",
       "46      anon_msg_05aaf2d18d1f  anon_user_5ca2bf0253   \n",
       "208     anon_msg_8598730afbe0  anon_user_f00e4728d0   \n",
       "222     anon_msg_adbef7ac4c23  anon_user_2be664cd79   \n",
       "...                       ...                   ...   \n",
       "179895  anon_msg_1cb0569b7e2e  anon_user_16c349ba60   \n",
       "179916  anon_msg_3de75eb30c5e  anon_user_8f9fbbdd55   \n",
       "179923  anon_msg_34e07f6e807f  anon_user_86cbeabf14   \n",
       "179955  anon_msg_fcdc9ebf6f9a  anon_user_38cb3e2e7e   \n",
       "179970  anon_msg_7be46d1bb87e  anon_user_1700a85c83   \n",
       "\n",
       "                                                  content  \\\n",
       "4       Bah dans une société saine il ressortent jamai...   \n",
       "24      Ayaaaaa ce tarax\\nLe meme qui disait il y a 5 ...   \n",
       "46      AYAAAAAAA maintenant le député LFI dénonce le ...   \n",
       "208     Week-end foot j'ai dit\\nL'odeur de ton calbard...   \n",
       "222     Nettoie la, même en portant plainte tu récupér...   \n",
       "...                                                   ...   \n",
       "179895  NOOOOOOOOOOOOOOOOOOOOOOOOOOOOOOOOOOOOOOOOOOOOO...   \n",
       "179916  Ah bah si incelus premier le dit\\nOn peut clor...   \n",
       "179923  Gourvès bonne mère sur la tête à Marius tu vas...   \n",
       "179955  On s'en bat les couilles d'être detesté dans u...   \n",
       "179970  Donc tu passes ton temps à mentir, et il faut ...   \n",
       "\n",
       "                      topic  deleted  banned  hour  gemini_prediction  \n",
       "4       anon_topic_6ee71e37        1       1     0                  1  \n",
       "24      anon_topic_246f3619        1       1    15                  1  \n",
       "46      anon_topic_ea0e3e29        1       1    12                  1  \n",
       "208     anon_topic_2dc6f771        1       1    13                  1  \n",
       "222     anon_topic_ab747476        1       1    12                  1  \n",
       "...                     ...      ...     ...   ...                ...  \n",
       "179895  anon_topic_50f50f16        1       1    13                  1  \n",
       "179916  anon_topic_952a0846        1       1    13                  1  \n",
       "179923  anon_topic_9a400bc8        1       1     0                  1  \n",
       "179955  anon_topic_da6605c9        1       1    14                  1  \n",
       "179970  anon_topic_41fc3e02        1       1    12                  1  \n",
       "\n",
       "[7725 rows x 8 columns]"
      ]
     },
     "execution_count": 11,
     "metadata": {},
     "output_type": "execute_result"
    }
   ],
   "source": [
    "dfs = [pd.read_csv(SUBSETS_FILTERED / file) for file in files]\n",
    "df = pd.concat(dfs, ignore_index=True)\n",
    "df = df[df['gemini_prediction'].astype(int) == 1]\n",
    "df = df[df['banned'].astype(int) == 1]\n",
    "df = df[df['deleted'].astype(int) == 1]\n",
    "df"
   ]
  },
  {
   "cell_type": "code",
   "execution_count": 12,
   "id": "9d37663b",
   "metadata": {},
   "outputs": [
    {
     "data": {
      "text/html": [
       "<pre style=\"white-space:pre;overflow-x:auto;line-height:normal;font-family:Menlo,'DejaVu Sans Mono',consolas,'Courier New',monospace\">Text: on est chez nous, on fait ce qu'on veut, rage bien\n",
       "</pre>\n"
      ],
      "text/plain": [
       "Text: on est chez nous, on fait ce qu'on veut, rage bien\n"
      ]
     },
     "metadata": {},
     "output_type": "display_data"
    },
    {
     "data": {
      "text/html": [
       "<pre style=\"white-space:pre;overflow-x:auto;line-height:normal;font-family:Menlo,'DejaVu Sans Mono',consolas,'Courier New',monospace\">----------------------------------------\n",
       "</pre>\n"
      ],
      "text/plain": [
       "----------------------------------------\n"
      ]
     },
     "metadata": {},
     "output_type": "display_data"
    },
    {
     "data": {
      "text/html": [
       "<pre style=\"white-space:pre;overflow-x:auto;line-height:normal;font-family:Menlo,'DejaVu Sans Mono',consolas,'Courier New',monospace\">Text: déjà que ces ville la c'est le tiers monde j'imagine même pas ailleur sur le continent\n",
       "</pre>\n"
      ],
      "text/plain": [
       "Text: déjà que ces ville la c'est le tiers monde j'imagine même pas ailleur sur le continent\n"
      ]
     },
     "metadata": {},
     "output_type": "display_data"
    },
    {
     "data": {
      "text/html": [
       "<pre style=\"white-space:pre;overflow-x:auto;line-height:normal;font-family:Menlo,'DejaVu Sans Mono',consolas,'Courier New',monospace\">----------------------------------------\n",
       "</pre>\n"
      ],
      "text/plain": [
       "----------------------------------------\n"
      ]
     },
     "metadata": {},
     "output_type": "display_data"
    },
    {
     "data": {
      "text/html": [
       "<pre style=\"white-space:pre;overflow-x:auto;line-height:normal;font-family:Menlo,'DejaVu Sans Mono',consolas,'Courier New',monospace\">Text: les bouteilles de pisse accumulées depuis des années vont enfin avoir une utilité !\n",
       "</pre>\n"
      ],
      "text/plain": [
       "Text: les bouteilles de pisse accumulées depuis des années vont enfin avoir une utilité !\n"
      ]
     },
     "metadata": {},
     "output_type": "display_data"
    },
    {
     "data": {
      "text/html": [
       "<pre style=\"white-space:pre;overflow-x:auto;line-height:normal;font-family:Menlo,'DejaVu Sans Mono',consolas,'Courier New',monospace\">----------------------------------------\n",
       "</pre>\n"
      ],
      "text/plain": [
       "----------------------------------------\n"
      ]
     },
     "metadata": {},
     "output_type": "display_data"
    },
    {
     "data": {
      "text/html": [
       "<pre style=\"white-space:pre;overflow-x:auto;line-height:normal;font-family:Menlo,'DejaVu Sans Mono',consolas,'Courier New',monospace\">Text: selection naturel pour ceux qui ont raté le train\n",
       "</pre>\n"
      ],
      "text/plain": [
       "Text: selection naturel pour ceux qui ont raté le train\n"
      ]
     },
     "metadata": {},
     "output_type": "display_data"
    },
    {
     "data": {
      "text/html": [
       "<pre style=\"white-space:pre;overflow-x:auto;line-height:normal;font-family:Menlo,'DejaVu Sans Mono',consolas,'Courier New',monospace\">----------------------------------------\n",
       "</pre>\n"
      ],
      "text/plain": [
       "----------------------------------------\n"
      ]
     },
     "metadata": {},
     "output_type": "display_data"
    },
    {
     "data": {
      "text/html": [
       "<pre style=\"white-space:pre;overflow-x:auto;line-height:normal;font-family:Menlo,'DejaVu Sans Mono',consolas,'Courier New',monospace\">Text: Au lieu de faire des dons pour des bourges go vous payez un abo Canal+ sport et mater des vrais pros ..\n",
       "</pre>\n"
      ],
      "text/plain": [
       "Text: Au lieu de faire des dons pour des bourges go vous payez un abo Canal+ sport et mater des vrais pros ..\n"
      ]
     },
     "metadata": {},
     "output_type": "display_data"
    },
    {
     "data": {
      "text/html": [
       "<pre style=\"white-space:pre;overflow-x:auto;line-height:normal;font-family:Menlo,'DejaVu Sans Mono',consolas,'Courier New',monospace\">----------------------------------------\n",
       "</pre>\n"
      ],
      "text/plain": [
       "----------------------------------------\n"
      ]
     },
     "metadata": {},
     "output_type": "display_data"
    }
   ],
   "source": [
    "for i, row in df.sample(5, random_state=42).iterrows():\n",
    "    console.print(f\"Text: {row['content']}\")\n",
    "    console.print(\"-\" * 40)"
   ]
  },
  {
   "cell_type": "markdown",
   "id": "87c38567",
   "metadata": {},
   "source": [
    "## Save"
   ]
  },
  {
   "cell_type": "code",
   "execution_count": 13,
   "id": "309c1d22",
   "metadata": {},
   "outputs": [],
   "source": [
    "df.to_csv(output_csv_1, index=False)\n",
    "df.to_csv(output_csv_2, index=False)"
   ]
  }
 ],
 "metadata": {
  "kernelspec": {
   "display_name": "SJTU",
   "language": "python",
   "name": "python3"
  },
  "language_info": {
   "codemirror_mode": {
    "name": "ipython",
    "version": 3
   },
   "file_extension": ".py",
   "mimetype": "text/x-python",
   "name": "python",
   "nbconvert_exporter": "python",
   "pygments_lexer": "ipython3",
   "version": "3.10.13"
  }
 },
 "nbformat": 4,
 "nbformat_minor": 5
}
