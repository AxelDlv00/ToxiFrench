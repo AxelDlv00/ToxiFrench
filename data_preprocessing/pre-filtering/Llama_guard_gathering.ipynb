{
 "cells": [
  {
   "cell_type": "markdown",
   "id": "6c784ded",
   "metadata": {},
   "source": [
    "# Creating a batch $D_{\\text{filtered}}$ with [Gemini 2.0-flash](https://ai.google.dev/gemini-api/docs/quickstart?hl=fr) + [Llama-Guard-3-8B](https://huggingface.co/meta-llama/Llama-Guard-3-8B)'s prefiltering"
   ]
  },
  {
   "cell_type": "markdown",
   "id": "15c83d3f",
   "metadata": {},
   "source": [
    "In [this notebook](gemini_prefiltering.ipynb) and [this notebook](Llama_guard_prefiltering.ipynb), we pre-filtered some toxic content to balance the dataset. We will create a batch from these filterings. "
   ]
  },
  {
   "cell_type": "markdown",
   "id": "2b174835",
   "metadata": {},
   "source": [
    "## Libraries"
   ]
  },
  {
   "cell_type": "code",
   "execution_count": 1,
   "id": "72c631c8",
   "metadata": {},
   "outputs": [],
   "source": [
    "from pathlib import Path\n",
    "import os\n",
    "import pandas as pd\n",
    "from rich.console import Console\n",
    "\n",
    "console = Console()"
   ]
  },
  {
   "cell_type": "markdown",
   "id": "cbc6087c",
   "metadata": {},
   "source": [
    "## Global variables"
   ]
  },
  {
   "cell_type": "code",
   "execution_count": 7,
   "id": "b6310ac9",
   "metadata": {},
   "outputs": [],
   "source": [
    "ROOT = Path(\"../..\")\n",
    "DATA_DIR = ROOT / \"data\"\n",
    "SUBSETS_FILTERED = DATA_DIR / \"pre-filtering\"\n",
    "files = [f for f in os.listdir(SUBSETS_FILTERED) if f.endswith(\".csv\") and \"checkpoint\" not in f and 'llamaguard_and_gemini' in f]\n",
    "output_csv_1 = DATA_DIR / \"subsets_Di\" / \"subset_filtered.csv\"\n",
    "output_csv_2 = DATA_DIR / \"subsets_Di_annotated\" / \"subset_filtered_gpt-4o-mini.csv\"\n",
    "console = Console()"
   ]
  },
  {
   "cell_type": "markdown",
   "id": "d00586e4",
   "metadata": {},
   "source": [
    "## Load dataset"
   ]
  },
  {
   "cell_type": "code",
   "execution_count": 4,
   "id": "e87214cb",
   "metadata": {},
   "outputs": [
    {
     "data": {
      "text/html": [
       "<div>\n",
       "<style scoped>\n",
       "    .dataframe tbody tr th:only-of-type {\n",
       "        vertical-align: middle;\n",
       "    }\n",
       "\n",
       "    .dataframe tbody tr th {\n",
       "        vertical-align: top;\n",
       "    }\n",
       "\n",
       "    .dataframe thead th {\n",
       "        text-align: right;\n",
       "    }\n",
       "</style>\n",
       "<table border=\"1\" class=\"dataframe\">\n",
       "  <thead>\n",
       "    <tr style=\"text-align: right;\">\n",
       "      <th></th>\n",
       "      <th>msg_id</th>\n",
       "      <th>user</th>\n",
       "      <th>content</th>\n",
       "      <th>topic</th>\n",
       "      <th>deleted</th>\n",
       "      <th>banned</th>\n",
       "      <th>hour</th>\n",
       "      <th>llama_prediction</th>\n",
       "    </tr>\n",
       "  </thead>\n",
       "  <tbody>\n",
       "    <tr>\n",
       "      <th>4</th>\n",
       "      <td>anon_msg_373bf377933b</td>\n",
       "      <td>anon_user_5cfcc99e11</td>\n",
       "      <td>Barres-toi sans donner de raison elle ne mérit...</td>\n",
       "      <td>anon_topic_bb3c1e80</td>\n",
       "      <td>1</td>\n",
       "      <td>0</td>\n",
       "      <td>11</td>\n",
       "      <td>True</td>\n",
       "    </tr>\n",
       "    <tr>\n",
       "      <th>20</th>\n",
       "      <td>anon_msg_8c76e5ea5401</td>\n",
       "      <td>anon_user_62bd0aa998</td>\n",
       "      <td>Ah oui les agriculteurs qui vivent en Seine Sa...</td>\n",
       "      <td>anon_topic_83bbdbb1</td>\n",
       "      <td>0</td>\n",
       "      <td>0</td>\n",
       "      <td>12</td>\n",
       "      <td>True</td>\n",
       "    </tr>\n",
       "    <tr>\n",
       "      <th>27</th>\n",
       "      <td>anon_msg_cdcc06b5f882</td>\n",
       "      <td>anon_user_e769c386b5</td>\n",
       "      <td>je propose un invasion des états-unis pour se ...</td>\n",
       "      <td>anon_topic_de7347d6</td>\n",
       "      <td>1</td>\n",
       "      <td>0</td>\n",
       "      <td>11</td>\n",
       "      <td>True</td>\n",
       "    </tr>\n",
       "    <tr>\n",
       "      <th>28</th>\n",
       "      <td>anon_msg_175572b594d7</td>\n",
       "      <td>anon_user_972dc0a264</td>\n",
       "      <td>Je nie tout ça car je suis expert en escort as...</td>\n",
       "      <td>anon_topic_422f0859</td>\n",
       "      <td>1</td>\n",
       "      <td>0</td>\n",
       "      <td>0</td>\n",
       "      <td>True</td>\n",
       "    </tr>\n",
       "    <tr>\n",
       "      <th>33</th>\n",
       "      <td>anon_msg_3885c2832dab</td>\n",
       "      <td>anon_user_2ad71e016a</td>\n",
       "      <td>Sortir un couteau et menacer ouvertement un fl...</td>\n",
       "      <td>anon_topic_f3ec6e6d</td>\n",
       "      <td>1</td>\n",
       "      <td>0</td>\n",
       "      <td>13</td>\n",
       "      <td>True</td>\n",
       "    </tr>\n",
       "    <tr>\n",
       "      <th>...</th>\n",
       "      <td>...</td>\n",
       "      <td>...</td>\n",
       "      <td>...</td>\n",
       "      <td>...</td>\n",
       "      <td>...</td>\n",
       "      <td>...</td>\n",
       "      <td>...</td>\n",
       "      <td>...</td>\n",
       "    </tr>\n",
       "    <tr>\n",
       "      <th>41816</th>\n",
       "      <td>anon_msg_0299fab1f230</td>\n",
       "      <td>anon_user_485ca4b2c7</td>\n",
       "      <td>This\\n+ Les italiens massacrent les croissants...</td>\n",
       "      <td>anon_topic_53c6f06b</td>\n",
       "      <td>0</td>\n",
       "      <td>0</td>\n",
       "      <td>1</td>\n",
       "      <td>True</td>\n",
       "    </tr>\n",
       "    <tr>\n",
       "      <th>41821</th>\n",
       "      <td>anon_msg_43a9606c9e21</td>\n",
       "      <td>anon_user_2f87740825</td>\n",
       "      <td>Non mais nous khey ont peu pas les laisser dan...</td>\n",
       "      <td>anon_topic_d38c2c2a</td>\n",
       "      <td>1</td>\n",
       "      <td>0</td>\n",
       "      <td>1</td>\n",
       "      <td>True</td>\n",
       "    </tr>\n",
       "    <tr>\n",
       "      <th>41845</th>\n",
       "      <td>anon_msg_e24abf1cd5f6</td>\n",
       "      <td>anon_user_fb511cc977</td>\n",
       "      <td>la Russie a tout intérêt à s'allier avec les m...</td>\n",
       "      <td>anon_topic_d28eab06</td>\n",
       "      <td>1</td>\n",
       "      <td>0</td>\n",
       "      <td>12</td>\n",
       "      <td>True</td>\n",
       "    </tr>\n",
       "    <tr>\n",
       "      <th>41851</th>\n",
       "      <td>anon_msg_716f80784555</td>\n",
       "      <td>anon_user_305b6c4214</td>\n",
       "      <td>Putain t'as du faire des trucs d'homosexuelle ...</td>\n",
       "      <td>anon_topic_a492a8b1</td>\n",
       "      <td>1</td>\n",
       "      <td>1</td>\n",
       "      <td>13</td>\n",
       "      <td>True</td>\n",
       "    </tr>\n",
       "    <tr>\n",
       "      <th>41868</th>\n",
       "      <td>anon_msg_9f6e46ef762c</td>\n",
       "      <td>anon_user_3e12eadded</td>\n",
       "      <td>Sa faire tripoter par une 10/10 a poil, mais c...</td>\n",
       "      <td>anon_topic_4573ddb5</td>\n",
       "      <td>1</td>\n",
       "      <td>0</td>\n",
       "      <td>13</td>\n",
       "      <td>True</td>\n",
       "    </tr>\n",
       "  </tbody>\n",
       "</table>\n",
       "<p>5337 rows × 8 columns</p>\n",
       "</div>"
      ],
      "text/plain": [
       "                      msg_id                  user  \\\n",
       "4      anon_msg_373bf377933b  anon_user_5cfcc99e11   \n",
       "20     anon_msg_8c76e5ea5401  anon_user_62bd0aa998   \n",
       "27     anon_msg_cdcc06b5f882  anon_user_e769c386b5   \n",
       "28     anon_msg_175572b594d7  anon_user_972dc0a264   \n",
       "33     anon_msg_3885c2832dab  anon_user_2ad71e016a   \n",
       "...                      ...                   ...   \n",
       "41816  anon_msg_0299fab1f230  anon_user_485ca4b2c7   \n",
       "41821  anon_msg_43a9606c9e21  anon_user_2f87740825   \n",
       "41845  anon_msg_e24abf1cd5f6  anon_user_fb511cc977   \n",
       "41851  anon_msg_716f80784555  anon_user_305b6c4214   \n",
       "41868  anon_msg_9f6e46ef762c  anon_user_3e12eadded   \n",
       "\n",
       "                                                 content                topic  \\\n",
       "4      Barres-toi sans donner de raison elle ne mérit...  anon_topic_bb3c1e80   \n",
       "20     Ah oui les agriculteurs qui vivent en Seine Sa...  anon_topic_83bbdbb1   \n",
       "27     je propose un invasion des états-unis pour se ...  anon_topic_de7347d6   \n",
       "28     Je nie tout ça car je suis expert en escort as...  anon_topic_422f0859   \n",
       "33     Sortir un couteau et menacer ouvertement un fl...  anon_topic_f3ec6e6d   \n",
       "...                                                  ...                  ...   \n",
       "41816  This\\n+ Les italiens massacrent les croissants...  anon_topic_53c6f06b   \n",
       "41821  Non mais nous khey ont peu pas les laisser dan...  anon_topic_d38c2c2a   \n",
       "41845  la Russie a tout intérêt à s'allier avec les m...  anon_topic_d28eab06   \n",
       "41851  Putain t'as du faire des trucs d'homosexuelle ...  anon_topic_a492a8b1   \n",
       "41868  Sa faire tripoter par une 10/10 a poil, mais c...  anon_topic_4573ddb5   \n",
       "\n",
       "       deleted  banned  hour  llama_prediction  \n",
       "4            1       0    11              True  \n",
       "20           0       0    12              True  \n",
       "27           1       0    11              True  \n",
       "28           1       0     0              True  \n",
       "33           1       0    13              True  \n",
       "...        ...     ...   ...               ...  \n",
       "41816        0       0     1              True  \n",
       "41821        1       0     1              True  \n",
       "41845        1       0    12              True  \n",
       "41851        1       1    13              True  \n",
       "41868        1       0    13              True  \n",
       "\n",
       "[5337 rows x 8 columns]"
      ]
     },
     "execution_count": 4,
     "metadata": {},
     "output_type": "execute_result"
    }
   ],
   "source": [
    "dfs = [pd.read_csv(SUBSETS_FILTERED / file) for file in files]\n",
    "df = pd.concat(dfs, ignore_index=True)\n",
    "df = df[df['llama_prediction'].astype(int) == 1]\n",
    "df"
   ]
  },
  {
   "cell_type": "code",
   "execution_count": 6,
   "id": "9d37663b",
   "metadata": {},
   "outputs": [
    {
     "data": {
      "text/html": [
       "<pre style=\"white-space:pre;overflow-x:auto;line-height:normal;font-family:Menlo,'DejaVu Sans Mono',consolas,'Courier New',monospace\">Text: Je suis pour la torture même si c’est anti droit de l’homme. Par exemple couper le sexe d’un violeur \n",
       "multirécidiviste\n",
       "</pre>\n"
      ],
      "text/plain": [
       "Text: Je suis pour la torture même si c’est anti droit de l’homme. Par exemple couper le sexe d’un violeur \n",
       "multirécidiviste\n"
      ]
     },
     "metadata": {},
     "output_type": "display_data"
    },
    {
     "data": {
      "text/html": [
       "<pre style=\"white-space:pre;overflow-x:auto;line-height:normal;font-family:Menlo,'DejaVu Sans Mono',consolas,'Courier New',monospace\">----------------------------------------\n",
       "</pre>\n"
      ],
      "text/plain": [
       "----------------------------------------\n"
      ]
     },
     "metadata": {},
     "output_type": "display_data"
    },
    {
     "data": {
      "text/html": [
       "<pre style=\"white-space:pre;overflow-x:auto;line-height:normal;font-family:Menlo,'DejaVu Sans Mono',consolas,'Courier New',monospace\">Text: from\n",
       "<span style=\"color: #008000; text-decoration-color: #008000\">\"ahaha poutine é trop fort, il va plonger l'ukraine dans le noir, blackout pour les ukrainiens!!!\"</span>\n",
       "to ça\n",
       "</pre>\n"
      ],
      "text/plain": [
       "Text: from\n",
       "\u001b[32m\"ahaha poutine é trop fort, il va plonger l'ukraine dans le noir, blackout pour les ukrainiens!!!\"\u001b[0m\n",
       "to ça\n"
      ]
     },
     "metadata": {},
     "output_type": "display_data"
    },
    {
     "data": {
      "text/html": [
       "<pre style=\"white-space:pre;overflow-x:auto;line-height:normal;font-family:Menlo,'DejaVu Sans Mono',consolas,'Courier New',monospace\">----------------------------------------\n",
       "</pre>\n"
      ],
      "text/plain": [
       "----------------------------------------\n"
      ]
     },
     "metadata": {},
     "output_type": "display_data"
    },
    {
     "data": {
      "text/html": [
       "<pre style=\"white-space:pre;overflow-x:auto;line-height:normal;font-family:Menlo,'DejaVu Sans Mono',consolas,'Courier New',monospace\">Text: This\n",
       "+ Les italiens massacrent les croissants entre autre mais ça dérange personne\n",
       "</pre>\n"
      ],
      "text/plain": [
       "Text: This\n",
       "+ Les italiens massacrent les croissants entre autre mais ça dérange personne\n"
      ]
     },
     "metadata": {},
     "output_type": "display_data"
    },
    {
     "data": {
      "text/html": [
       "<pre style=\"white-space:pre;overflow-x:auto;line-height:normal;font-family:Menlo,'DejaVu Sans Mono',consolas,'Courier New',monospace\">----------------------------------------\n",
       "</pre>\n"
      ],
      "text/plain": [
       "----------------------------------------\n"
      ]
     },
     "metadata": {},
     "output_type": "display_data"
    },
    {
     "data": {
      "text/html": [
       "<pre style=\"white-space:pre;overflow-x:auto;line-height:normal;font-family:Menlo,'DejaVu Sans Mono',consolas,'Courier New',monospace\">Text: Pourquoi c'est jamais un anglais qui fait ce genre de choses, ça nous éviterais des remboursements après des \n",
       "émeutes et des gauchistes en sueurs\n",
       "</pre>\n"
      ],
      "text/plain": [
       "Text: Pourquoi c'est jamais un anglais qui fait ce genre de choses, ça nous éviterais des remboursements après des \n",
       "émeutes et des gauchistes en sueurs\n"
      ]
     },
     "metadata": {},
     "output_type": "display_data"
    },
    {
     "data": {
      "text/html": [
       "<pre style=\"white-space:pre;overflow-x:auto;line-height:normal;font-family:Menlo,'DejaVu Sans Mono',consolas,'Courier New',monospace\">----------------------------------------\n",
       "</pre>\n"
      ],
      "text/plain": [
       "----------------------------------------\n"
      ]
     },
     "metadata": {},
     "output_type": "display_data"
    },
    {
     "data": {
      "text/html": [
       "<pre style=\"white-space:pre;overflow-x:auto;line-height:normal;font-family:Menlo,'DejaVu Sans Mono',consolas,'Courier New',monospace\">Text: Bonne idée de brûler les <span style=\"color: #008080; text-decoration-color: #008080; font-weight: bold\">1500</span> hectares autour du village, au moins les recherches pourront s'arrêter\n",
       "</pre>\n"
      ],
      "text/plain": [
       "Text: Bonne idée de brûler les \u001b[1;36m1500\u001b[0m hectares autour du village, au moins les recherches pourront s'arrêter\n"
      ]
     },
     "metadata": {},
     "output_type": "display_data"
    },
    {
     "data": {
      "text/html": [
       "<pre style=\"white-space:pre;overflow-x:auto;line-height:normal;font-family:Menlo,'DejaVu Sans Mono',consolas,'Courier New',monospace\">----------------------------------------\n",
       "</pre>\n"
      ],
      "text/plain": [
       "----------------------------------------\n"
      ]
     },
     "metadata": {},
     "output_type": "display_data"
    }
   ],
   "source": [
    "for i, row in df.sample(5, random_state=42).iterrows():\n",
    "    console.print(f\"Text: {row['content']}\")\n",
    "    console.print(\"-\" * 40)"
   ]
  },
  {
   "cell_type": "markdown",
   "id": "87c38567",
   "metadata": {},
   "source": [
    "## Save"
   ]
  },
  {
   "cell_type": "code",
   "execution_count": 8,
   "id": "309c1d22",
   "metadata": {},
   "outputs": [],
   "source": [
    "df.to_csv(output_csv_1, index=False)\n",
    "df.to_csv(output_csv_2, index=False)"
   ]
  }
 ],
 "metadata": {
  "kernelspec": {
   "display_name": "SJTU",
   "language": "python",
   "name": "python3"
  },
  "language_info": {
   "codemirror_mode": {
    "name": "ipython",
    "version": 3
   },
   "file_extension": ".py",
   "mimetype": "text/x-python",
   "name": "python",
   "nbconvert_exporter": "python",
   "pygments_lexer": "ipython3",
   "version": "3.10.13"
  }
 },
 "nbformat": 4,
 "nbformat_minor": 5
}
