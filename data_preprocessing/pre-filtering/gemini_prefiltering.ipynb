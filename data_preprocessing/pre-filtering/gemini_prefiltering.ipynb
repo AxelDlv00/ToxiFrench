{
 "cells": [
  {
   "cell_type": "markdown",
   "id": "6c784ded",
   "metadata": {},
   "source": [
    "# Prefiltering with [Gemini 2.0-flash](https://ai.google.dev/gemini-api/docs/quickstart?hl=fr)"
   ]
  },
  {
   "cell_type": "markdown",
   "id": "3a9aa515",
   "metadata": {},
   "source": [
    "According to the [benchmark](./../../benchmarking/benchmark_summary.ipynb), gemini 2.0-flash achieves an accuracy of about 87%. Therefore, we will use it to prefilter [subsets](./../../data/subsets_Di/) to gather more toxic contents."
   ]
  },
  {
   "cell_type": "markdown",
   "id": "2b174835",
   "metadata": {},
   "source": [
    "## Libraries"
   ]
  },
  {
   "cell_type": "code",
   "execution_count": 1,
   "id": "72c631c8",
   "metadata": {},
   "outputs": [],
   "source": [
    "from google import genai\n",
    "from time import sleep \n",
    "from pathlib import Path\n",
    "import os\n",
    "import pandas as pd\n",
    "from tqdm.rich import tqdm\n",
    "from sklearn.metrics import (\n",
    "    classification_report, confusion_matrix, roc_auc_score\n",
    ")\n",
    "from rich.console import Console\n",
    "from rich.table import Table\n",
    "from rich.panel import Panel\n",
    "from rich.text import Text\n",
    "import warnings\n",
    "from google.api_core import exceptions as genai_errors\n",
    "import random\n",
    "from concurrent.futures import ThreadPoolExecutor, as_completed\n",
    "\n",
    "tqdm.pandas(desc=\"Fetching moderation scores\")\n",
    "console = Console()\n",
    "warnings.filterwarnings(\"ignore\")"
   ]
  },
  {
   "cell_type": "markdown",
   "id": "cbc6087c",
   "metadata": {},
   "source": [
    "## Global variables"
   ]
  },
  {
   "cell_type": "code",
   "execution_count": 2,
   "id": "b6310ac9",
   "metadata": {},
   "outputs": [],
   "source": [
    "ROOT = Path(\"../..\")\n",
    "DATA_DIR = ROOT / \"data\"\n",
    "range_authorized = (6, 8) # (a,b) -> [a, a+1, ..., b-1]\n",
    "subsets = [f for f in os.listdir(DATA_DIR / \"subsets_Di\") if f.replace(\".csv\",\"\").replace(\"subset_\", \"\") in map(str, range(range_authorized[0], range_authorized[1]))]\n",
    "output_path = DATA_DIR / \"pre-filtering\" / f\"pre-filtered_{range_authorized[0]}_{range_authorized[1]}.csv\"\n",
    "API_KEY_PATH = DATA_DIR / \"confidential\" / \"GEMINI_API.txt\"\n",
    "console = Console()\n",
    "model = \"gemini-2.0-flash\"\n",
    "system_prompt = (Path(\"../../benchmarking\") / \"API_SYSTEM_PROMPT.txt\").read_text().strip()\n",
    "prompt = (Path(\"../../benchmarking\") / \"API_PROMPT.txt\").read_text().strip()"
   ]
  },
  {
   "cell_type": "code",
   "execution_count": 3,
   "id": "4d6fb26f",
   "metadata": {},
   "outputs": [],
   "source": [
    "os.environ[\"HTTP_PROXY\"] = \"socks5h://127.0.0.1:1080\"\n",
    "os.environ[\"HTTPS_PROXY\"] = \"socks5h://127.0.0.1:1080\""
   ]
  },
  {
   "cell_type": "code",
   "execution_count": 4,
   "id": "ac5785b3",
   "metadata": {},
   "outputs": [],
   "source": [
    "client = genai.Client(api_key=API_KEY_PATH.read_text().strip())"
   ]
  },
  {
   "cell_type": "markdown",
   "id": "d00586e4",
   "metadata": {},
   "source": [
    "## Load dataset"
   ]
  },
  {
   "cell_type": "code",
   "execution_count": 5,
   "id": "e87214cb",
   "metadata": {},
   "outputs": [
    {
     "data": {
      "text/html": [
       "<div>\n",
       "<style scoped>\n",
       "    .dataframe tbody tr th:only-of-type {\n",
       "        vertical-align: middle;\n",
       "    }\n",
       "\n",
       "    .dataframe tbody tr th {\n",
       "        vertical-align: top;\n",
       "    }\n",
       "\n",
       "    .dataframe thead th {\n",
       "        text-align: right;\n",
       "    }\n",
       "</style>\n",
       "<table border=\"1\" class=\"dataframe\">\n",
       "  <thead>\n",
       "    <tr style=\"text-align: right;\">\n",
       "      <th></th>\n",
       "      <th>msg_id</th>\n",
       "      <th>user</th>\n",
       "      <th>content</th>\n",
       "      <th>topic</th>\n",
       "      <th>deleted</th>\n",
       "      <th>banned</th>\n",
       "      <th>hour</th>\n",
       "    </tr>\n",
       "  </thead>\n",
       "  <tbody>\n",
       "    <tr>\n",
       "      <th>0</th>\n",
       "      <td>anon_msg_bb9a332e30a3</td>\n",
       "      <td>anon_user_85d33e9c85</td>\n",
       "      <td>Niveau 17, mais pas de place de gagné dans le ...</td>\n",
       "      <td>anon_topic_720a2ca2</td>\n",
       "      <td>1</td>\n",
       "      <td>0</td>\n",
       "      <td>1</td>\n",
       "    </tr>\n",
       "    <tr>\n",
       "      <th>1</th>\n",
       "      <td>anon_msg_0df96db4eb86</td>\n",
       "      <td>anon_user_f8acb4acc9</td>\n",
       "      <td>première fois de ma vie que j'active cette fou...</td>\n",
       "      <td>anon_topic_a4ce6e29</td>\n",
       "      <td>1</td>\n",
       "      <td>0</td>\n",
       "      <td>1</td>\n",
       "    </tr>\n",
       "    <tr>\n",
       "      <th>2</th>\n",
       "      <td>anon_msg_0d0c4e9a05c1</td>\n",
       "      <td>anon_user_a0255d6952</td>\n",
       "      <td>Donc pour toi louer une voiture avec de l'arge...</td>\n",
       "      <td>anon_topic_363ba1aa</td>\n",
       "      <td>1</td>\n",
       "      <td>0</td>\n",
       "      <td>12</td>\n",
       "    </tr>\n",
       "    <tr>\n",
       "      <th>3</th>\n",
       "      <td>anon_msg_249e9dda9365</td>\n",
       "      <td>anon_user_80afdf5e58</td>\n",
       "      <td>Mélinda qui pleure qui n'était qu'une invocati...</td>\n",
       "      <td>anon_topic_bb3c1e80</td>\n",
       "      <td>1</td>\n",
       "      <td>1</td>\n",
       "      <td>14</td>\n",
       "    </tr>\n",
       "    <tr>\n",
       "      <th>4</th>\n",
       "      <td>anon_msg_2d1eccf5e6a0</td>\n",
       "      <td>anon_user_2eecf5800a</td>\n",
       "      <td>Il est où le S\\n:ouch:</td>\n",
       "      <td>anon_topic_47c25947</td>\n",
       "      <td>1</td>\n",
       "      <td>0</td>\n",
       "      <td>14</td>\n",
       "    </tr>\n",
       "    <tr>\n",
       "      <th>...</th>\n",
       "      <td>...</td>\n",
       "      <td>...</td>\n",
       "      <td>...</td>\n",
       "      <td>...</td>\n",
       "      <td>...</td>\n",
       "      <td>...</td>\n",
       "      <td>...</td>\n",
       "    </tr>\n",
       "    <tr>\n",
       "      <th>59995</th>\n",
       "      <td>anon_msg_2868afd5a685</td>\n",
       "      <td>anon_user_4be6baa814</td>\n",
       "      <td>Il a raison Pada, ça pue vraiment la merde cet...</td>\n",
       "      <td>anon_topic_afe95916</td>\n",
       "      <td>1</td>\n",
       "      <td>0</td>\n",
       "      <td>1</td>\n",
       "    </tr>\n",
       "    <tr>\n",
       "      <th>59996</th>\n",
       "      <td>anon_msg_d4f633ace9db</td>\n",
       "      <td>anon_user_8d0032111f</td>\n",
       "      <td>T'es toujours debout\\nSanté mon clé\\n:oui:\\nPe...</td>\n",
       "      <td>anon_topic_76a84150</td>\n",
       "      <td>0</td>\n",
       "      <td>0</td>\n",
       "      <td>1</td>\n",
       "    </tr>\n",
       "    <tr>\n",
       "      <th>59997</th>\n",
       "      <td>anon_msg_34a099dc26ea</td>\n",
       "      <td>anon_user_df6545a6c3</td>\n",
       "      <td>\"Ton égo est en miettes ça te dit d'aller nour...</td>\n",
       "      <td>anon_topic_7a185bea</td>\n",
       "      <td>1</td>\n",
       "      <td>0</td>\n",
       "      <td>11</td>\n",
       "    </tr>\n",
       "    <tr>\n",
       "      <th>59998</th>\n",
       "      <td>anon_msg_68679115d5f8</td>\n",
       "      <td>anon_user_0a624ffe86</td>\n",
       "      <td>Les meufs qui savent qu'elles nous plaisent, q...</td>\n",
       "      <td>anon_topic_d2868aa9</td>\n",
       "      <td>0</td>\n",
       "      <td>0</td>\n",
       "      <td>2</td>\n",
       "    </tr>\n",
       "    <tr>\n",
       "      <th>59999</th>\n",
       "      <td>anon_msg_686e225f0f1a</td>\n",
       "      <td>anon_user_36728e83e3</td>\n",
       "      <td>C'est quand même plus lourd que des bols en bo...</td>\n",
       "      <td>anon_topic_c6871f55</td>\n",
       "      <td>0</td>\n",
       "      <td>1</td>\n",
       "      <td>14</td>\n",
       "    </tr>\n",
       "  </tbody>\n",
       "</table>\n",
       "<p>60000 rows × 7 columns</p>\n",
       "</div>"
      ],
      "text/plain": [
       "                      msg_id                  user  \\\n",
       "0      anon_msg_bb9a332e30a3  anon_user_85d33e9c85   \n",
       "1      anon_msg_0df96db4eb86  anon_user_f8acb4acc9   \n",
       "2      anon_msg_0d0c4e9a05c1  anon_user_a0255d6952   \n",
       "3      anon_msg_249e9dda9365  anon_user_80afdf5e58   \n",
       "4      anon_msg_2d1eccf5e6a0  anon_user_2eecf5800a   \n",
       "...                      ...                   ...   \n",
       "59995  anon_msg_2868afd5a685  anon_user_4be6baa814   \n",
       "59996  anon_msg_d4f633ace9db  anon_user_8d0032111f   \n",
       "59997  anon_msg_34a099dc26ea  anon_user_df6545a6c3   \n",
       "59998  anon_msg_68679115d5f8  anon_user_0a624ffe86   \n",
       "59999  anon_msg_686e225f0f1a  anon_user_36728e83e3   \n",
       "\n",
       "                                                 content                topic  \\\n",
       "0      Niveau 17, mais pas de place de gagné dans le ...  anon_topic_720a2ca2   \n",
       "1      première fois de ma vie que j'active cette fou...  anon_topic_a4ce6e29   \n",
       "2      Donc pour toi louer une voiture avec de l'arge...  anon_topic_363ba1aa   \n",
       "3      Mélinda qui pleure qui n'était qu'une invocati...  anon_topic_bb3c1e80   \n",
       "4                                 Il est où le S\\n:ouch:  anon_topic_47c25947   \n",
       "...                                                  ...                  ...   \n",
       "59995  Il a raison Pada, ça pue vraiment la merde cet...  anon_topic_afe95916   \n",
       "59996  T'es toujours debout\\nSanté mon clé\\n:oui:\\nPe...  anon_topic_76a84150   \n",
       "59997  \"Ton égo est en miettes ça te dit d'aller nour...  anon_topic_7a185bea   \n",
       "59998  Les meufs qui savent qu'elles nous plaisent, q...  anon_topic_d2868aa9   \n",
       "59999  C'est quand même plus lourd que des bols en bo...  anon_topic_c6871f55   \n",
       "\n",
       "       deleted  banned  hour  \n",
       "0            1       0     1  \n",
       "1            1       0     1  \n",
       "2            1       0    12  \n",
       "3            1       1    14  \n",
       "4            1       0    14  \n",
       "...        ...     ...   ...  \n",
       "59995        1       0     1  \n",
       "59996        0       0     1  \n",
       "59997        1       0    11  \n",
       "59998        0       0     2  \n",
       "59999        0       1    14  \n",
       "\n",
       "[60000 rows x 7 columns]"
      ]
     },
     "execution_count": 5,
     "metadata": {},
     "output_type": "execute_result"
    }
   ],
   "source": [
    "dfs = [pd.read_csv(DATA_DIR / \"subsets_Di\" / f, encoding='utf-8') for f in subsets]\n",
    "df = pd.concat(dfs, ignore_index=True)\n",
    "df"
   ]
  },
  {
   "cell_type": "markdown",
   "id": "20f8ff35",
   "metadata": {},
   "source": [
    "## Define prediction function"
   ]
  },
  {
   "cell_type": "code",
   "execution_count": 6,
   "id": "83ec13e8",
   "metadata": {},
   "outputs": [],
   "source": [
    "def predict(text, max_retries=5, delay_base=2):\n",
    "    input_text = system_prompt + \"\\n\" + prompt + f\"« {text} »\" + \"\\n Ce message est-il toxique ?\\n\"\n",
    "    for attempt in range(max_retries):\n",
    "        try:\n",
    "            response = client.models.generate_content(\n",
    "                model=model,\n",
    "                contents=input_text\n",
    "            )\n",
    "            result = response.text.strip().lower()\n",
    "            if result == \"toxique\":\n",
    "                return 1\n",
    "            elif result == \"non-toxique\":\n",
    "                return 0\n",
    "            else:\n",
    "                console.print(f\"[red]Unexpected response: '{result}'[/red]\")\n",
    "                return None\n",
    "        except genai_errors.ServiceUnavailable as e:\n",
    "            wait_time = delay_base ** attempt + random.uniform(0, 1)\n",
    "            console.print(f\"[yellow]Model overloaded (attempt {attempt + 1}/{max_retries}). Retrying in {wait_time:.2f}s...[/yellow]\")\n",
    "            sleep(wait_time)\n",
    "        except Exception as e:\n",
    "            wait_time = delay_base ** attempt + random.uniform(0, 1)\n",
    "            console.print(f\"[red]Error: {e}[/red]\")\n",
    "            sleep(wait_time)\n",
    "    console.print(f\"[red]Max retries reached for: {text}[/red]\")\n",
    "    return None\n",
    "\n",
    "def safe_predict(text):\n",
    "    try:\n",
    "        return predict(text)\n",
    "    except Exception as e:\n",
    "        console.print(f\"[red]Error for text: {text} → {e}[/red]\")\n",
    "        return None"
   ]
  },
  {
   "cell_type": "markdown",
   "id": "d7123f09",
   "metadata": {},
   "source": [
    "## Run prediction"
   ]
  },
  {
   "cell_type": "code",
   "execution_count": 7,
   "id": "061d0ce8",
   "metadata": {},
   "outputs": [
    {
     "data": {
      "application/vnd.jupyter.widget-view+json": {
       "model_id": "fbee9f3e00e248d99045c9a2b78578d1",
       "version_major": 2,
       "version_minor": 0
      },
      "text/plain": [
       "Output()"
      ]
     },
     "metadata": {},
     "output_type": "display_data"
    },
    {
     "data": {
      "text/html": [
       "<pre style=\"white-space:pre;overflow-x:auto;line-height:normal;font-family:Menlo,'DejaVu Sans Mono',consolas,'Courier New',monospace\"><span style=\"color: #000080; text-decoration-color: #000080\">Checkpoint saved at ../../data/pre-filtering/pre-filtered_6_8.checkpoint.csv</span>\n",
       "</pre>\n"
      ],
      "text/plain": [
       "\u001b[34mCheckpoint saved at ..\u001b[0m\u001b[34m/../data/pre-filtering/\u001b[0m\u001b[34mpre-filtered_6_8.checkpoint.csv\u001b[0m\n"
      ]
     },
     "metadata": {},
     "output_type": "display_data"
    },
    {
     "data": {
      "text/html": [
       "<pre style=\"white-space:pre;overflow-x:auto;line-height:normal;font-family:Menlo,'DejaVu Sans Mono',consolas,'Courier New',monospace\"><span style=\"color: #000080; text-decoration-color: #000080\">Checkpoint saved at ../../data/pre-filtering/pre-filtered_6_8.checkpoint.csv</span>\n",
       "</pre>\n"
      ],
      "text/plain": [
       "\u001b[34mCheckpoint saved at ..\u001b[0m\u001b[34m/../data/pre-filtering/\u001b[0m\u001b[34mpre-filtered_6_8.checkpoint.csv\u001b[0m\n"
      ]
     },
     "metadata": {},
     "output_type": "display_data"
    },
    {
     "data": {
      "text/html": [
       "<pre style=\"white-space:pre;overflow-x:auto;line-height:normal;font-family:Menlo,'DejaVu Sans Mono',consolas,'Courier New',monospace\"><span style=\"color: #000080; text-decoration-color: #000080\">Checkpoint saved at ../../data/pre-filtering/pre-filtered_6_8.checkpoint.csv</span>\n",
       "</pre>\n"
      ],
      "text/plain": [
       "\u001b[34mCheckpoint saved at ..\u001b[0m\u001b[34m/../data/pre-filtering/\u001b[0m\u001b[34mpre-filtered_6_8.checkpoint.csv\u001b[0m\n"
      ]
     },
     "metadata": {},
     "output_type": "display_data"
    },
    {
     "data": {
      "text/html": [
       "<pre style=\"white-space:pre;overflow-x:auto;line-height:normal;font-family:Menlo,'DejaVu Sans Mono',consolas,'Courier New',monospace\"><span style=\"color: #000080; text-decoration-color: #000080\">Checkpoint saved at ../../data/pre-filtering/pre-filtered_6_8.checkpoint.csv</span>\n",
       "</pre>\n"
      ],
      "text/plain": [
       "\u001b[34mCheckpoint saved at ..\u001b[0m\u001b[34m/../data/pre-filtering/\u001b[0m\u001b[34mpre-filtered_6_8.checkpoint.csv\u001b[0m\n"
      ]
     },
     "metadata": {},
     "output_type": "display_data"
    },
    {
     "data": {
      "text/html": [
       "<pre style=\"white-space:pre;overflow-x:auto;line-height:normal;font-family:Menlo,'DejaVu Sans Mono',consolas,'Courier New',monospace\"><span style=\"color: #000080; text-decoration-color: #000080\">Checkpoint saved at ../../data/pre-filtering/pre-filtered_6_8.checkpoint.csv</span>\n",
       "</pre>\n"
      ],
      "text/plain": [
       "\u001b[34mCheckpoint saved at ..\u001b[0m\u001b[34m/../data/pre-filtering/\u001b[0m\u001b[34mpre-filtered_6_8.checkpoint.csv\u001b[0m\n"
      ]
     },
     "metadata": {},
     "output_type": "display_data"
    },
    {
     "data": {
      "text/html": [
       "<pre style=\"white-space:pre;overflow-x:auto;line-height:normal;font-family:Menlo,'DejaVu Sans Mono',consolas,'Courier New',monospace\"><span style=\"color: #000080; text-decoration-color: #000080\">Checkpoint saved at ../../data/pre-filtering/pre-filtered_6_8.checkpoint.csv</span>\n",
       "</pre>\n"
      ],
      "text/plain": [
       "\u001b[34mCheckpoint saved at ..\u001b[0m\u001b[34m/../data/pre-filtering/\u001b[0m\u001b[34mpre-filtered_6_8.checkpoint.csv\u001b[0m\n"
      ]
     },
     "metadata": {},
     "output_type": "display_data"
    },
    {
     "data": {
      "text/html": [
       "<pre style=\"white-space:pre;overflow-x:auto;line-height:normal;font-family:Menlo,'DejaVu Sans Mono',consolas,'Courier New',monospace\"><span style=\"color: #000080; text-decoration-color: #000080\">Checkpoint saved at ../../data/pre-filtering/pre-filtered_6_8.checkpoint.csv</span>\n",
       "</pre>\n"
      ],
      "text/plain": [
       "\u001b[34mCheckpoint saved at ..\u001b[0m\u001b[34m/../data/pre-filtering/\u001b[0m\u001b[34mpre-filtered_6_8.checkpoint.csv\u001b[0m\n"
      ]
     },
     "metadata": {},
     "output_type": "display_data"
    },
    {
     "data": {
      "text/html": [
       "<pre style=\"white-space:pre;overflow-x:auto;line-height:normal;font-family:Menlo,'DejaVu Sans Mono',consolas,'Courier New',monospace\"><span style=\"color: #000080; text-decoration-color: #000080\">Checkpoint saved at ../../data/pre-filtering/pre-filtered_6_8.checkpoint.csv</span>\n",
       "</pre>\n"
      ],
      "text/plain": [
       "\u001b[34mCheckpoint saved at ..\u001b[0m\u001b[34m/../data/pre-filtering/\u001b[0m\u001b[34mpre-filtered_6_8.checkpoint.csv\u001b[0m\n"
      ]
     },
     "metadata": {},
     "output_type": "display_data"
    },
    {
     "data": {
      "text/html": [
       "<pre style=\"white-space:pre;overflow-x:auto;line-height:normal;font-family:Menlo,'DejaVu Sans Mono',consolas,'Courier New',monospace\"><span style=\"color: #000080; text-decoration-color: #000080\">Checkpoint saved at ../../data/pre-filtering/pre-filtered_6_8.checkpoint.csv</span>\n",
       "</pre>\n"
      ],
      "text/plain": [
       "\u001b[34mCheckpoint saved at ..\u001b[0m\u001b[34m/../data/pre-filtering/\u001b[0m\u001b[34mpre-filtered_6_8.checkpoint.csv\u001b[0m\n"
      ]
     },
     "metadata": {},
     "output_type": "display_data"
    },
    {
     "data": {
      "text/html": [
       "<pre style=\"white-space:pre;overflow-x:auto;line-height:normal;font-family:Menlo,'DejaVu Sans Mono',consolas,'Courier New',monospace\"><span style=\"color: #000080; text-decoration-color: #000080\">Checkpoint saved at ../../data/pre-filtering/pre-filtered_6_8.checkpoint.csv</span>\n",
       "</pre>\n"
      ],
      "text/plain": [
       "\u001b[34mCheckpoint saved at ..\u001b[0m\u001b[34m/../data/pre-filtering/\u001b[0m\u001b[34mpre-filtered_6_8.checkpoint.csv\u001b[0m\n"
      ]
     },
     "metadata": {},
     "output_type": "display_data"
    },
    {
     "data": {
      "text/html": [
       "<pre style=\"white-space:pre;overflow-x:auto;line-height:normal;font-family:Menlo,'DejaVu Sans Mono',consolas,'Courier New',monospace\"><span style=\"color: #000080; text-decoration-color: #000080\">Checkpoint saved at ../../data/pre-filtering/pre-filtered_6_8.checkpoint.csv</span>\n",
       "</pre>\n"
      ],
      "text/plain": [
       "\u001b[34mCheckpoint saved at ..\u001b[0m\u001b[34m/../data/pre-filtering/\u001b[0m\u001b[34mpre-filtered_6_8.checkpoint.csv\u001b[0m\n"
      ]
     },
     "metadata": {},
     "output_type": "display_data"
    },
    {
     "data": {
      "text/html": [
       "<pre style=\"white-space:pre;overflow-x:auto;line-height:normal;font-family:Menlo,'DejaVu Sans Mono',consolas,'Courier New',monospace\"><span style=\"color: #000080; text-decoration-color: #000080\">Checkpoint saved at ../../data/pre-filtering/pre-filtered_6_8.checkpoint.csv</span>\n",
       "</pre>\n"
      ],
      "text/plain": [
       "\u001b[34mCheckpoint saved at ..\u001b[0m\u001b[34m/../data/pre-filtering/\u001b[0m\u001b[34mpre-filtered_6_8.checkpoint.csv\u001b[0m\n"
      ]
     },
     "metadata": {},
     "output_type": "display_data"
    },
    {
     "data": {
      "text/html": [
       "<pre style=\"white-space:pre;overflow-x:auto;line-height:normal;font-family:Menlo,'DejaVu Sans Mono',consolas,'Courier New',monospace\"><span style=\"color: #000080; text-decoration-color: #000080\">Checkpoint saved at ../../data/pre-filtering/pre-filtered_6_8.checkpoint.csv</span>\n",
       "</pre>\n"
      ],
      "text/plain": [
       "\u001b[34mCheckpoint saved at ..\u001b[0m\u001b[34m/../data/pre-filtering/\u001b[0m\u001b[34mpre-filtered_6_8.checkpoint.csv\u001b[0m\n"
      ]
     },
     "metadata": {},
     "output_type": "display_data"
    },
    {
     "data": {
      "text/html": [
       "<pre style=\"white-space:pre;overflow-x:auto;line-height:normal;font-family:Menlo,'DejaVu Sans Mono',consolas,'Courier New',monospace\"><span style=\"color: #000080; text-decoration-color: #000080\">Checkpoint saved at ../../data/pre-filtering/pre-filtered_6_8.checkpoint.csv</span>\n",
       "</pre>\n"
      ],
      "text/plain": [
       "\u001b[34mCheckpoint saved at ..\u001b[0m\u001b[34m/../data/pre-filtering/\u001b[0m\u001b[34mpre-filtered_6_8.checkpoint.csv\u001b[0m\n"
      ]
     },
     "metadata": {},
     "output_type": "display_data"
    },
    {
     "data": {
      "text/html": [
       "<pre style=\"white-space:pre;overflow-x:auto;line-height:normal;font-family:Menlo,'DejaVu Sans Mono',consolas,'Courier New',monospace\"><span style=\"color: #000080; text-decoration-color: #000080\">Checkpoint saved at ../../data/pre-filtering/pre-filtered_6_8.checkpoint.csv</span>\n",
       "</pre>\n"
      ],
      "text/plain": [
       "\u001b[34mCheckpoint saved at ..\u001b[0m\u001b[34m/../data/pre-filtering/\u001b[0m\u001b[34mpre-filtered_6_8.checkpoint.csv\u001b[0m\n"
      ]
     },
     "metadata": {},
     "output_type": "display_data"
    },
    {
     "data": {
      "text/html": [
       "<pre style=\"white-space:pre;overflow-x:auto;line-height:normal;font-family:Menlo,'DejaVu Sans Mono',consolas,'Courier New',monospace\"><span style=\"color: #000080; text-decoration-color: #000080\">Checkpoint saved at ../../data/pre-filtering/pre-filtered_6_8.checkpoint.csv</span>\n",
       "</pre>\n"
      ],
      "text/plain": [
       "\u001b[34mCheckpoint saved at ..\u001b[0m\u001b[34m/../data/pre-filtering/\u001b[0m\u001b[34mpre-filtered_6_8.checkpoint.csv\u001b[0m\n"
      ]
     },
     "metadata": {},
     "output_type": "display_data"
    },
    {
     "data": {
      "text/html": [
       "<pre style=\"white-space:pre;overflow-x:auto;line-height:normal;font-family:Menlo,'DejaVu Sans Mono',consolas,'Courier New',monospace\"><span style=\"color: #000080; text-decoration-color: #000080\">Checkpoint saved at ../../data/pre-filtering/pre-filtered_6_8.checkpoint.csv</span>\n",
       "</pre>\n"
      ],
      "text/plain": [
       "\u001b[34mCheckpoint saved at ..\u001b[0m\u001b[34m/../data/pre-filtering/\u001b[0m\u001b[34mpre-filtered_6_8.checkpoint.csv\u001b[0m\n"
      ]
     },
     "metadata": {},
     "output_type": "display_data"
    },
    {
     "data": {
      "text/html": [
       "<pre style=\"white-space:pre;overflow-x:auto;line-height:normal;font-family:Menlo,'DejaVu Sans Mono',consolas,'Courier New',monospace\"><span style=\"color: #000080; text-decoration-color: #000080\">Checkpoint saved at ../../data/pre-filtering/pre-filtered_6_8.checkpoint.csv</span>\n",
       "</pre>\n"
      ],
      "text/plain": [
       "\u001b[34mCheckpoint saved at ..\u001b[0m\u001b[34m/../data/pre-filtering/\u001b[0m\u001b[34mpre-filtered_6_8.checkpoint.csv\u001b[0m\n"
      ]
     },
     "metadata": {},
     "output_type": "display_data"
    },
    {
     "data": {
      "text/html": [
       "<pre style=\"white-space:pre;overflow-x:auto;line-height:normal;font-family:Menlo,'DejaVu Sans Mono',consolas,'Courier New',monospace\"><span style=\"color: #000080; text-decoration-color: #000080\">Checkpoint saved at ../../data/pre-filtering/pre-filtered_6_8.checkpoint.csv</span>\n",
       "</pre>\n"
      ],
      "text/plain": [
       "\u001b[34mCheckpoint saved at ..\u001b[0m\u001b[34m/../data/pre-filtering/\u001b[0m\u001b[34mpre-filtered_6_8.checkpoint.csv\u001b[0m\n"
      ]
     },
     "metadata": {},
     "output_type": "display_data"
    },
    {
     "data": {
      "text/html": [
       "<pre style=\"white-space:pre;overflow-x:auto;line-height:normal;font-family:Menlo,'DejaVu Sans Mono',consolas,'Courier New',monospace\"><span style=\"color: #000080; text-decoration-color: #000080\">Checkpoint saved at ../../data/pre-filtering/pre-filtered_6_8.checkpoint.csv</span>\n",
       "</pre>\n"
      ],
      "text/plain": [
       "\u001b[34mCheckpoint saved at ..\u001b[0m\u001b[34m/../data/pre-filtering/\u001b[0m\u001b[34mpre-filtered_6_8.checkpoint.csv\u001b[0m\n"
      ]
     },
     "metadata": {},
     "output_type": "display_data"
    },
    {
     "data": {
      "text/html": [
       "<pre style=\"white-space:pre;overflow-x:auto;line-height:normal;font-family:Menlo,'DejaVu Sans Mono',consolas,'Courier New',monospace\"><span style=\"color: #000080; text-decoration-color: #000080\">Checkpoint saved at ../../data/pre-filtering/pre-filtered_6_8.checkpoint.csv</span>\n",
       "</pre>\n"
      ],
      "text/plain": [
       "\u001b[34mCheckpoint saved at ..\u001b[0m\u001b[34m/../data/pre-filtering/\u001b[0m\u001b[34mpre-filtered_6_8.checkpoint.csv\u001b[0m\n"
      ]
     },
     "metadata": {},
     "output_type": "display_data"
    },
    {
     "data": {
      "text/html": [
       "<pre style=\"white-space:pre;overflow-x:auto;line-height:normal;font-family:Menlo,'DejaVu Sans Mono',consolas,'Courier New',monospace\"><span style=\"color: #000080; text-decoration-color: #000080\">Checkpoint saved at ../../data/pre-filtering/pre-filtered_6_8.checkpoint.csv</span>\n",
       "</pre>\n"
      ],
      "text/plain": [
       "\u001b[34mCheckpoint saved at ..\u001b[0m\u001b[34m/../data/pre-filtering/\u001b[0m\u001b[34mpre-filtered_6_8.checkpoint.csv\u001b[0m\n"
      ]
     },
     "metadata": {},
     "output_type": "display_data"
    },
    {
     "data": {
      "text/html": [
       "<pre style=\"white-space:pre;overflow-x:auto;line-height:normal;font-family:Menlo,'DejaVu Sans Mono',consolas,'Courier New',monospace\"><span style=\"color: #000080; text-decoration-color: #000080\">Checkpoint saved at ../../data/pre-filtering/pre-filtered_6_8.checkpoint.csv</span>\n",
       "</pre>\n"
      ],
      "text/plain": [
       "\u001b[34mCheckpoint saved at ..\u001b[0m\u001b[34m/../data/pre-filtering/\u001b[0m\u001b[34mpre-filtered_6_8.checkpoint.csv\u001b[0m\n"
      ]
     },
     "metadata": {},
     "output_type": "display_data"
    },
    {
     "data": {
      "text/html": [
       "<pre style=\"white-space:pre;overflow-x:auto;line-height:normal;font-family:Menlo,'DejaVu Sans Mono',consolas,'Courier New',monospace\"><span style=\"color: #000080; text-decoration-color: #000080\">Checkpoint saved at ../../data/pre-filtering/pre-filtered_6_8.checkpoint.csv</span>\n",
       "</pre>\n"
      ],
      "text/plain": [
       "\u001b[34mCheckpoint saved at ..\u001b[0m\u001b[34m/../data/pre-filtering/\u001b[0m\u001b[34mpre-filtered_6_8.checkpoint.csv\u001b[0m\n"
      ]
     },
     "metadata": {},
     "output_type": "display_data"
    },
    {
     "data": {
      "text/html": [
       "<pre style=\"white-space:pre;overflow-x:auto;line-height:normal;font-family:Menlo,'DejaVu Sans Mono',consolas,'Courier New',monospace\"><span style=\"color: #000080; text-decoration-color: #000080\">Checkpoint saved at ../../data/pre-filtering/pre-filtered_6_8.checkpoint.csv</span>\n",
       "</pre>\n"
      ],
      "text/plain": [
       "\u001b[34mCheckpoint saved at ..\u001b[0m\u001b[34m/../data/pre-filtering/\u001b[0m\u001b[34mpre-filtered_6_8.checkpoint.csv\u001b[0m\n"
      ]
     },
     "metadata": {},
     "output_type": "display_data"
    },
    {
     "data": {
      "text/html": [
       "<pre style=\"white-space:pre;overflow-x:auto;line-height:normal;font-family:Menlo,'DejaVu Sans Mono',consolas,'Courier New',monospace\"><span style=\"color: #000080; text-decoration-color: #000080\">Checkpoint saved at ../../data/pre-filtering/pre-filtered_6_8.checkpoint.csv</span>\n",
       "</pre>\n"
      ],
      "text/plain": [
       "\u001b[34mCheckpoint saved at ..\u001b[0m\u001b[34m/../data/pre-filtering/\u001b[0m\u001b[34mpre-filtered_6_8.checkpoint.csv\u001b[0m\n"
      ]
     },
     "metadata": {},
     "output_type": "display_data"
    },
    {
     "data": {
      "text/html": [
       "<pre style=\"white-space:pre;overflow-x:auto;line-height:normal;font-family:Menlo,'DejaVu Sans Mono',consolas,'Courier New',monospace\"><span style=\"color: #000080; text-decoration-color: #000080\">Checkpoint saved at ../../data/pre-filtering/pre-filtered_6_8.checkpoint.csv</span>\n",
       "</pre>\n"
      ],
      "text/plain": [
       "\u001b[34mCheckpoint saved at ..\u001b[0m\u001b[34m/../data/pre-filtering/\u001b[0m\u001b[34mpre-filtered_6_8.checkpoint.csv\u001b[0m\n"
      ]
     },
     "metadata": {},
     "output_type": "display_data"
    },
    {
     "data": {
      "text/html": [
       "<pre style=\"white-space:pre;overflow-x:auto;line-height:normal;font-family:Menlo,'DejaVu Sans Mono',consolas,'Courier New',monospace\"><span style=\"color: #000080; text-decoration-color: #000080\">Checkpoint saved at ../../data/pre-filtering/pre-filtered_6_8.checkpoint.csv</span>\n",
       "</pre>\n"
      ],
      "text/plain": [
       "\u001b[34mCheckpoint saved at ..\u001b[0m\u001b[34m/../data/pre-filtering/\u001b[0m\u001b[34mpre-filtered_6_8.checkpoint.csv\u001b[0m\n"
      ]
     },
     "metadata": {},
     "output_type": "display_data"
    },
    {
     "data": {
      "text/html": [
       "<pre style=\"white-space:pre;overflow-x:auto;line-height:normal;font-family:Menlo,'DejaVu Sans Mono',consolas,'Courier New',monospace\"><span style=\"color: #000080; text-decoration-color: #000080\">Checkpoint saved at ../../data/pre-filtering/pre-filtered_6_8.checkpoint.csv</span>\n",
       "</pre>\n"
      ],
      "text/plain": [
       "\u001b[34mCheckpoint saved at ..\u001b[0m\u001b[34m/../data/pre-filtering/\u001b[0m\u001b[34mpre-filtered_6_8.checkpoint.csv\u001b[0m\n"
      ]
     },
     "metadata": {},
     "output_type": "display_data"
    },
    {
     "data": {
      "text/html": [
       "<pre style=\"white-space:pre;overflow-x:auto;line-height:normal;font-family:Menlo,'DejaVu Sans Mono',consolas,'Courier New',monospace\"><span style=\"color: #000080; text-decoration-color: #000080\">Checkpoint saved at ../../data/pre-filtering/pre-filtered_6_8.checkpoint.csv</span>\n",
       "</pre>\n"
      ],
      "text/plain": [
       "\u001b[34mCheckpoint saved at ..\u001b[0m\u001b[34m/../data/pre-filtering/\u001b[0m\u001b[34mpre-filtered_6_8.checkpoint.csv\u001b[0m\n"
      ]
     },
     "metadata": {},
     "output_type": "display_data"
    },
    {
     "data": {
      "text/html": [
       "<pre style=\"white-space:pre;overflow-x:auto;line-height:normal;font-family:Menlo,'DejaVu Sans Mono',consolas,'Courier New',monospace\"><span style=\"color: #000080; text-decoration-color: #000080\">Checkpoint saved at ../../data/pre-filtering/pre-filtered_6_8.checkpoint.csv</span>\n",
       "</pre>\n"
      ],
      "text/plain": [
       "\u001b[34mCheckpoint saved at ..\u001b[0m\u001b[34m/../data/pre-filtering/\u001b[0m\u001b[34mpre-filtered_6_8.checkpoint.csv\u001b[0m\n"
      ]
     },
     "metadata": {},
     "output_type": "display_data"
    },
    {
     "data": {
      "text/html": [
       "<pre style=\"white-space:pre;overflow-x:auto;line-height:normal;font-family:Menlo,'DejaVu Sans Mono',consolas,'Courier New',monospace\"><span style=\"color: #000080; text-decoration-color: #000080\">Checkpoint saved at ../../data/pre-filtering/pre-filtered_6_8.checkpoint.csv</span>\n",
       "</pre>\n"
      ],
      "text/plain": [
       "\u001b[34mCheckpoint saved at ..\u001b[0m\u001b[34m/../data/pre-filtering/\u001b[0m\u001b[34mpre-filtered_6_8.checkpoint.csv\u001b[0m\n"
      ]
     },
     "metadata": {},
     "output_type": "display_data"
    },
    {
     "data": {
      "text/html": [
       "<pre style=\"white-space:pre;overflow-x:auto;line-height:normal;font-family:Menlo,'DejaVu Sans Mono',consolas,'Courier New',monospace\"><span style=\"color: #000080; text-decoration-color: #000080\">Checkpoint saved at ../../data/pre-filtering/pre-filtered_6_8.checkpoint.csv</span>\n",
       "</pre>\n"
      ],
      "text/plain": [
       "\u001b[34mCheckpoint saved at ..\u001b[0m\u001b[34m/../data/pre-filtering/\u001b[0m\u001b[34mpre-filtered_6_8.checkpoint.csv\u001b[0m\n"
      ]
     },
     "metadata": {},
     "output_type": "display_data"
    },
    {
     "data": {
      "text/html": [
       "<pre style=\"white-space:pre;overflow-x:auto;line-height:normal;font-family:Menlo,'DejaVu Sans Mono',consolas,'Courier New',monospace\"><span style=\"color: #000080; text-decoration-color: #000080\">Checkpoint saved at ../../data/pre-filtering/pre-filtered_6_8.checkpoint.csv</span>\n",
       "</pre>\n"
      ],
      "text/plain": [
       "\u001b[34mCheckpoint saved at ..\u001b[0m\u001b[34m/../data/pre-filtering/\u001b[0m\u001b[34mpre-filtered_6_8.checkpoint.csv\u001b[0m\n"
      ]
     },
     "metadata": {},
     "output_type": "display_data"
    },
    {
     "data": {
      "text/html": [
       "<pre style=\"white-space:pre;overflow-x:auto;line-height:normal;font-family:Menlo,'DejaVu Sans Mono',consolas,'Courier New',monospace\"><span style=\"color: #000080; text-decoration-color: #000080\">Checkpoint saved at ../../data/pre-filtering/pre-filtered_6_8.checkpoint.csv</span>\n",
       "</pre>\n"
      ],
      "text/plain": [
       "\u001b[34mCheckpoint saved at ..\u001b[0m\u001b[34m/../data/pre-filtering/\u001b[0m\u001b[34mpre-filtered_6_8.checkpoint.csv\u001b[0m\n"
      ]
     },
     "metadata": {},
     "output_type": "display_data"
    },
    {
     "data": {
      "text/html": [
       "<pre style=\"white-space:pre;overflow-x:auto;line-height:normal;font-family:Menlo,'DejaVu Sans Mono',consolas,'Courier New',monospace\"><span style=\"color: #000080; text-decoration-color: #000080\">Checkpoint saved at ../../data/pre-filtering/pre-filtered_6_8.checkpoint.csv</span>\n",
       "</pre>\n"
      ],
      "text/plain": [
       "\u001b[34mCheckpoint saved at ..\u001b[0m\u001b[34m/../data/pre-filtering/\u001b[0m\u001b[34mpre-filtered_6_8.checkpoint.csv\u001b[0m\n"
      ]
     },
     "metadata": {},
     "output_type": "display_data"
    },
    {
     "data": {
      "text/html": [
       "<pre style=\"white-space:pre;overflow-x:auto;line-height:normal;font-family:Menlo,'DejaVu Sans Mono',consolas,'Courier New',monospace\"><span style=\"color: #000080; text-decoration-color: #000080\">Checkpoint saved at ../../data/pre-filtering/pre-filtered_6_8.checkpoint.csv</span>\n",
       "</pre>\n"
      ],
      "text/plain": [
       "\u001b[34mCheckpoint saved at ..\u001b[0m\u001b[34m/../data/pre-filtering/\u001b[0m\u001b[34mpre-filtered_6_8.checkpoint.csv\u001b[0m\n"
      ]
     },
     "metadata": {},
     "output_type": "display_data"
    },
    {
     "data": {
      "text/html": [
       "<pre style=\"white-space:pre;overflow-x:auto;line-height:normal;font-family:Menlo,'DejaVu Sans Mono',consolas,'Courier New',monospace\"><span style=\"color: #000080; text-decoration-color: #000080\">Checkpoint saved at ../../data/pre-filtering/pre-filtered_6_8.checkpoint.csv</span>\n",
       "</pre>\n"
      ],
      "text/plain": [
       "\u001b[34mCheckpoint saved at ..\u001b[0m\u001b[34m/../data/pre-filtering/\u001b[0m\u001b[34mpre-filtered_6_8.checkpoint.csv\u001b[0m\n"
      ]
     },
     "metadata": {},
     "output_type": "display_data"
    },
    {
     "data": {
      "text/html": [
       "<pre style=\"white-space:pre;overflow-x:auto;line-height:normal;font-family:Menlo,'DejaVu Sans Mono',consolas,'Courier New',monospace\"><span style=\"color: #000080; text-decoration-color: #000080\">Checkpoint saved at ../../data/pre-filtering/pre-filtered_6_8.checkpoint.csv</span>\n",
       "</pre>\n"
      ],
      "text/plain": [
       "\u001b[34mCheckpoint saved at ..\u001b[0m\u001b[34m/../data/pre-filtering/\u001b[0m\u001b[34mpre-filtered_6_8.checkpoint.csv\u001b[0m\n"
      ]
     },
     "metadata": {},
     "output_type": "display_data"
    },
    {
     "data": {
      "text/html": [
       "<pre style=\"white-space:pre;overflow-x:auto;line-height:normal;font-family:Menlo,'DejaVu Sans Mono',consolas,'Courier New',monospace\"><span style=\"color: #000080; text-decoration-color: #000080\">Checkpoint saved at ../../data/pre-filtering/pre-filtered_6_8.checkpoint.csv</span>\n",
       "</pre>\n"
      ],
      "text/plain": [
       "\u001b[34mCheckpoint saved at ..\u001b[0m\u001b[34m/../data/pre-filtering/\u001b[0m\u001b[34mpre-filtered_6_8.checkpoint.csv\u001b[0m\n"
      ]
     },
     "metadata": {},
     "output_type": "display_data"
    },
    {
     "data": {
      "text/html": [
       "<pre style=\"white-space:pre;overflow-x:auto;line-height:normal;font-family:Menlo,'DejaVu Sans Mono',consolas,'Courier New',monospace\"><span style=\"color: #000080; text-decoration-color: #000080\">Checkpoint saved at ../../data/pre-filtering/pre-filtered_6_8.checkpoint.csv</span>\n",
       "</pre>\n"
      ],
      "text/plain": [
       "\u001b[34mCheckpoint saved at ..\u001b[0m\u001b[34m/../data/pre-filtering/\u001b[0m\u001b[34mpre-filtered_6_8.checkpoint.csv\u001b[0m\n"
      ]
     },
     "metadata": {},
     "output_type": "display_data"
    },
    {
     "data": {
      "text/html": [
       "<pre style=\"white-space:pre;overflow-x:auto;line-height:normal;font-family:Menlo,'DejaVu Sans Mono',consolas,'Courier New',monospace\"><span style=\"color: #000080; text-decoration-color: #000080\">Checkpoint saved at ../../data/pre-filtering/pre-filtered_6_8.checkpoint.csv</span>\n",
       "</pre>\n"
      ],
      "text/plain": [
       "\u001b[34mCheckpoint saved at ..\u001b[0m\u001b[34m/../data/pre-filtering/\u001b[0m\u001b[34mpre-filtered_6_8.checkpoint.csv\u001b[0m\n"
      ]
     },
     "metadata": {},
     "output_type": "display_data"
    },
    {
     "data": {
      "text/html": [
       "<pre style=\"white-space:pre;overflow-x:auto;line-height:normal;font-family:Menlo,'DejaVu Sans Mono',consolas,'Courier New',monospace\"><span style=\"color: #000080; text-decoration-color: #000080\">Checkpoint saved at ../../data/pre-filtering/pre-filtered_6_8.checkpoint.csv</span>\n",
       "</pre>\n"
      ],
      "text/plain": [
       "\u001b[34mCheckpoint saved at ..\u001b[0m\u001b[34m/../data/pre-filtering/\u001b[0m\u001b[34mpre-filtered_6_8.checkpoint.csv\u001b[0m\n"
      ]
     },
     "metadata": {},
     "output_type": "display_data"
    },
    {
     "data": {
      "text/html": [
       "<pre style=\"white-space:pre;overflow-x:auto;line-height:normal;font-family:Menlo,'DejaVu Sans Mono',consolas,'Courier New',monospace\"><span style=\"color: #000080; text-decoration-color: #000080\">Checkpoint saved at ../../data/pre-filtering/pre-filtered_6_8.checkpoint.csv</span>\n",
       "</pre>\n"
      ],
      "text/plain": [
       "\u001b[34mCheckpoint saved at ..\u001b[0m\u001b[34m/../data/pre-filtering/\u001b[0m\u001b[34mpre-filtered_6_8.checkpoint.csv\u001b[0m\n"
      ]
     },
     "metadata": {},
     "output_type": "display_data"
    },
    {
     "data": {
      "text/html": [
       "<pre style=\"white-space:pre;overflow-x:auto;line-height:normal;font-family:Menlo,'DejaVu Sans Mono',consolas,'Courier New',monospace\"><span style=\"color: #000080; text-decoration-color: #000080\">Checkpoint saved at ../../data/pre-filtering/pre-filtered_6_8.checkpoint.csv</span>\n",
       "</pre>\n"
      ],
      "text/plain": [
       "\u001b[34mCheckpoint saved at ..\u001b[0m\u001b[34m/../data/pre-filtering/\u001b[0m\u001b[34mpre-filtered_6_8.checkpoint.csv\u001b[0m\n"
      ]
     },
     "metadata": {},
     "output_type": "display_data"
    },
    {
     "data": {
      "text/html": [
       "<pre style=\"white-space:pre;overflow-x:auto;line-height:normal;font-family:Menlo,'DejaVu Sans Mono',consolas,'Courier New',monospace\"><span style=\"color: #000080; text-decoration-color: #000080\">Checkpoint saved at ../../data/pre-filtering/pre-filtered_6_8.checkpoint.csv</span>\n",
       "</pre>\n"
      ],
      "text/plain": [
       "\u001b[34mCheckpoint saved at ..\u001b[0m\u001b[34m/../data/pre-filtering/\u001b[0m\u001b[34mpre-filtered_6_8.checkpoint.csv\u001b[0m\n"
      ]
     },
     "metadata": {},
     "output_type": "display_data"
    },
    {
     "data": {
      "text/html": [
       "<pre style=\"white-space:pre;overflow-x:auto;line-height:normal;font-family:Menlo,'DejaVu Sans Mono',consolas,'Courier New',monospace\"><span style=\"color: #000080; text-decoration-color: #000080\">Checkpoint saved at ../../data/pre-filtering/pre-filtered_6_8.checkpoint.csv</span>\n",
       "</pre>\n"
      ],
      "text/plain": [
       "\u001b[34mCheckpoint saved at ..\u001b[0m\u001b[34m/../data/pre-filtering/\u001b[0m\u001b[34mpre-filtered_6_8.checkpoint.csv\u001b[0m\n"
      ]
     },
     "metadata": {},
     "output_type": "display_data"
    },
    {
     "data": {
      "text/html": [
       "<pre style=\"white-space:pre;overflow-x:auto;line-height:normal;font-family:Menlo,'DejaVu Sans Mono',consolas,'Courier New',monospace\"><span style=\"color: #000080; text-decoration-color: #000080\">Checkpoint saved at ../../data/pre-filtering/pre-filtered_6_8.checkpoint.csv</span>\n",
       "</pre>\n"
      ],
      "text/plain": [
       "\u001b[34mCheckpoint saved at ..\u001b[0m\u001b[34m/../data/pre-filtering/\u001b[0m\u001b[34mpre-filtered_6_8.checkpoint.csv\u001b[0m\n"
      ]
     },
     "metadata": {},
     "output_type": "display_data"
    },
    {
     "data": {
      "text/html": [
       "<pre style=\"white-space:pre;overflow-x:auto;line-height:normal;font-family:Menlo,'DejaVu Sans Mono',consolas,'Courier New',monospace\"><span style=\"color: #000080; text-decoration-color: #000080\">Checkpoint saved at ../../data/pre-filtering/pre-filtered_6_8.checkpoint.csv</span>\n",
       "</pre>\n"
      ],
      "text/plain": [
       "\u001b[34mCheckpoint saved at ..\u001b[0m\u001b[34m/../data/pre-filtering/\u001b[0m\u001b[34mpre-filtered_6_8.checkpoint.csv\u001b[0m\n"
      ]
     },
     "metadata": {},
     "output_type": "display_data"
    },
    {
     "data": {
      "text/html": [
       "<pre style=\"white-space:pre;overflow-x:auto;line-height:normal;font-family:Menlo,'DejaVu Sans Mono',consolas,'Courier New',monospace\"><span style=\"color: #000080; text-decoration-color: #000080\">Checkpoint saved at ../../data/pre-filtering/pre-filtered_6_8.checkpoint.csv</span>\n",
       "</pre>\n"
      ],
      "text/plain": [
       "\u001b[34mCheckpoint saved at ..\u001b[0m\u001b[34m/../data/pre-filtering/\u001b[0m\u001b[34mpre-filtered_6_8.checkpoint.csv\u001b[0m\n"
      ]
     },
     "metadata": {},
     "output_type": "display_data"
    },
    {
     "data": {
      "text/html": [
       "<pre style=\"white-space:pre;overflow-x:auto;line-height:normal;font-family:Menlo,'DejaVu Sans Mono',consolas,'Courier New',monospace\"><span style=\"color: #000080; text-decoration-color: #000080\">Checkpoint saved at ../../data/pre-filtering/pre-filtered_6_8.checkpoint.csv</span>\n",
       "</pre>\n"
      ],
      "text/plain": [
       "\u001b[34mCheckpoint saved at ..\u001b[0m\u001b[34m/../data/pre-filtering/\u001b[0m\u001b[34mpre-filtered_6_8.checkpoint.csv\u001b[0m\n"
      ]
     },
     "metadata": {},
     "output_type": "display_data"
    },
    {
     "data": {
      "text/html": [
       "<pre style=\"white-space:pre;overflow-x:auto;line-height:normal;font-family:Menlo,'DejaVu Sans Mono',consolas,'Courier New',monospace\"><span style=\"color: #000080; text-decoration-color: #000080\">Checkpoint saved at ../../data/pre-filtering/pre-filtered_6_8.checkpoint.csv</span>\n",
       "</pre>\n"
      ],
      "text/plain": [
       "\u001b[34mCheckpoint saved at ..\u001b[0m\u001b[34m/../data/pre-filtering/\u001b[0m\u001b[34mpre-filtered_6_8.checkpoint.csv\u001b[0m\n"
      ]
     },
     "metadata": {},
     "output_type": "display_data"
    },
    {
     "data": {
      "text/html": [
       "<pre style=\"white-space:pre;overflow-x:auto;line-height:normal;font-family:Menlo,'DejaVu Sans Mono',consolas,'Courier New',monospace\"><span style=\"color: #000080; text-decoration-color: #000080\">Checkpoint saved at ../../data/pre-filtering/pre-filtered_6_8.checkpoint.csv</span>\n",
       "</pre>\n"
      ],
      "text/plain": [
       "\u001b[34mCheckpoint saved at ..\u001b[0m\u001b[34m/../data/pre-filtering/\u001b[0m\u001b[34mpre-filtered_6_8.checkpoint.csv\u001b[0m\n"
      ]
     },
     "metadata": {},
     "output_type": "display_data"
    },
    {
     "data": {
      "text/html": [
       "<pre style=\"white-space:pre;overflow-x:auto;line-height:normal;font-family:Menlo,'DejaVu Sans Mono',consolas,'Courier New',monospace\"><span style=\"color: #000080; text-decoration-color: #000080\">Checkpoint saved at ../../data/pre-filtering/pre-filtered_6_8.checkpoint.csv</span>\n",
       "</pre>\n"
      ],
      "text/plain": [
       "\u001b[34mCheckpoint saved at ..\u001b[0m\u001b[34m/../data/pre-filtering/\u001b[0m\u001b[34mpre-filtered_6_8.checkpoint.csv\u001b[0m\n"
      ]
     },
     "metadata": {},
     "output_type": "display_data"
    },
    {
     "data": {
      "text/html": [
       "<pre style=\"white-space:pre;overflow-x:auto;line-height:normal;font-family:Menlo,'DejaVu Sans Mono',consolas,'Courier New',monospace\"><span style=\"color: #000080; text-decoration-color: #000080\">Checkpoint saved at ../../data/pre-filtering/pre-filtered_6_8.checkpoint.csv</span>\n",
       "</pre>\n"
      ],
      "text/plain": [
       "\u001b[34mCheckpoint saved at ..\u001b[0m\u001b[34m/../data/pre-filtering/\u001b[0m\u001b[34mpre-filtered_6_8.checkpoint.csv\u001b[0m\n"
      ]
     },
     "metadata": {},
     "output_type": "display_data"
    },
    {
     "data": {
      "text/html": [
       "<pre style=\"white-space:pre;overflow-x:auto;line-height:normal;font-family:Menlo,'DejaVu Sans Mono',consolas,'Courier New',monospace\"><span style=\"color: #000080; text-decoration-color: #000080\">Checkpoint saved at ../../data/pre-filtering/pre-filtered_6_8.checkpoint.csv</span>\n",
       "</pre>\n"
      ],
      "text/plain": [
       "\u001b[34mCheckpoint saved at ..\u001b[0m\u001b[34m/../data/pre-filtering/\u001b[0m\u001b[34mpre-filtered_6_8.checkpoint.csv\u001b[0m\n"
      ]
     },
     "metadata": {},
     "output_type": "display_data"
    },
    {
     "data": {
      "text/html": [
       "<pre style=\"white-space:pre;overflow-x:auto;line-height:normal;font-family:Menlo,'DejaVu Sans Mono',consolas,'Courier New',monospace\"><span style=\"color: #000080; text-decoration-color: #000080\">Checkpoint saved at ../../data/pre-filtering/pre-filtered_6_8.checkpoint.csv</span>\n",
       "</pre>\n"
      ],
      "text/plain": [
       "\u001b[34mCheckpoint saved at ..\u001b[0m\u001b[34m/../data/pre-filtering/\u001b[0m\u001b[34mpre-filtered_6_8.checkpoint.csv\u001b[0m\n"
      ]
     },
     "metadata": {},
     "output_type": "display_data"
    },
    {
     "data": {
      "text/html": [
       "<pre style=\"white-space:pre;overflow-x:auto;line-height:normal;font-family:Menlo,'DejaVu Sans Mono',consolas,'Courier New',monospace\"><span style=\"color: #000080; text-decoration-color: #000080\">Checkpoint saved at ../../data/pre-filtering/pre-filtered_6_8.checkpoint.csv</span>\n",
       "</pre>\n"
      ],
      "text/plain": [
       "\u001b[34mCheckpoint saved at ..\u001b[0m\u001b[34m/../data/pre-filtering/\u001b[0m\u001b[34mpre-filtered_6_8.checkpoint.csv\u001b[0m\n"
      ]
     },
     "metadata": {},
     "output_type": "display_data"
    },
    {
     "data": {
      "text/html": [
       "<pre style=\"white-space:pre;overflow-x:auto;line-height:normal;font-family:Menlo,'DejaVu Sans Mono',consolas,'Courier New',monospace\"><span style=\"color: #000080; text-decoration-color: #000080\">Checkpoint saved at ../../data/pre-filtering/pre-filtered_6_8.checkpoint.csv</span>\n",
       "</pre>\n"
      ],
      "text/plain": [
       "\u001b[34mCheckpoint saved at ..\u001b[0m\u001b[34m/../data/pre-filtering/\u001b[0m\u001b[34mpre-filtered_6_8.checkpoint.csv\u001b[0m\n"
      ]
     },
     "metadata": {},
     "output_type": "display_data"
    },
    {
     "data": {
      "text/html": [
       "<pre style=\"white-space:pre;overflow-x:auto;line-height:normal;font-family:Menlo,'DejaVu Sans Mono',consolas,'Courier New',monospace\"><span style=\"color: #000080; text-decoration-color: #000080\">Checkpoint saved at ../../data/pre-filtering/pre-filtered_6_8.checkpoint.csv</span>\n",
       "</pre>\n"
      ],
      "text/plain": [
       "\u001b[34mCheckpoint saved at ..\u001b[0m\u001b[34m/../data/pre-filtering/\u001b[0m\u001b[34mpre-filtered_6_8.checkpoint.csv\u001b[0m\n"
      ]
     },
     "metadata": {},
     "output_type": "display_data"
    },
    {
     "data": {
      "text/html": [
       "<pre style=\"white-space:pre;overflow-x:auto;line-height:normal;font-family:Menlo,'DejaVu Sans Mono',consolas,'Courier New',monospace\"><span style=\"color: #000080; text-decoration-color: #000080\">Checkpoint saved at ../../data/pre-filtering/pre-filtered_6_8.checkpoint.csv</span>\n",
       "</pre>\n"
      ],
      "text/plain": [
       "\u001b[34mCheckpoint saved at ..\u001b[0m\u001b[34m/../data/pre-filtering/\u001b[0m\u001b[34mpre-filtered_6_8.checkpoint.csv\u001b[0m\n"
      ]
     },
     "metadata": {},
     "output_type": "display_data"
    },
    {
     "data": {
      "text/html": [
       "<pre style=\"white-space:pre;overflow-x:auto;line-height:normal;font-family:Menlo,'DejaVu Sans Mono',consolas,'Courier New',monospace\"><span style=\"color: #000080; text-decoration-color: #000080\">Checkpoint saved at ../../data/pre-filtering/pre-filtered_6_8.checkpoint.csv</span>\n",
       "</pre>\n"
      ],
      "text/plain": [
       "\u001b[34mCheckpoint saved at ..\u001b[0m\u001b[34m/../data/pre-filtering/\u001b[0m\u001b[34mpre-filtered_6_8.checkpoint.csv\u001b[0m\n"
      ]
     },
     "metadata": {},
     "output_type": "display_data"
    },
    {
     "data": {
      "text/html": [
       "<pre style=\"white-space:pre;overflow-x:auto;line-height:normal;font-family:Menlo,'DejaVu Sans Mono',consolas,'Courier New',monospace\"><span style=\"color: #000080; text-decoration-color: #000080\">Checkpoint saved at ../../data/pre-filtering/pre-filtered_6_8.checkpoint.csv</span>\n",
       "</pre>\n"
      ],
      "text/plain": [
       "\u001b[34mCheckpoint saved at ..\u001b[0m\u001b[34m/../data/pre-filtering/\u001b[0m\u001b[34mpre-filtered_6_8.checkpoint.csv\u001b[0m\n"
      ]
     },
     "metadata": {},
     "output_type": "display_data"
    },
    {
     "data": {
      "text/html": [
       "<pre style=\"white-space:pre;overflow-x:auto;line-height:normal;font-family:Menlo,'DejaVu Sans Mono',consolas,'Courier New',monospace\"><span style=\"color: #000080; text-decoration-color: #000080\">Checkpoint saved at ../../data/pre-filtering/pre-filtered_6_8.checkpoint.csv</span>\n",
       "</pre>\n"
      ],
      "text/plain": [
       "\u001b[34mCheckpoint saved at ..\u001b[0m\u001b[34m/../data/pre-filtering/\u001b[0m\u001b[34mpre-filtered_6_8.checkpoint.csv\u001b[0m\n"
      ]
     },
     "metadata": {},
     "output_type": "display_data"
    },
    {
     "data": {
      "text/html": [
       "<pre style=\"white-space:pre;overflow-x:auto;line-height:normal;font-family:Menlo,'DejaVu Sans Mono',consolas,'Courier New',monospace\"><span style=\"color: #000080; text-decoration-color: #000080\">Checkpoint saved at ../../data/pre-filtering/pre-filtered_6_8.checkpoint.csv</span>\n",
       "</pre>\n"
      ],
      "text/plain": [
       "\u001b[34mCheckpoint saved at ..\u001b[0m\u001b[34m/../data/pre-filtering/\u001b[0m\u001b[34mpre-filtered_6_8.checkpoint.csv\u001b[0m\n"
      ]
     },
     "metadata": {},
     "output_type": "display_data"
    },
    {
     "data": {
      "text/html": [
       "<pre style=\"white-space:pre;overflow-x:auto;line-height:normal;font-family:Menlo,'DejaVu Sans Mono',consolas,'Courier New',monospace\"><span style=\"color: #000080; text-decoration-color: #000080\">Checkpoint saved at ../../data/pre-filtering/pre-filtered_6_8.checkpoint.csv</span>\n",
       "</pre>\n"
      ],
      "text/plain": [
       "\u001b[34mCheckpoint saved at ..\u001b[0m\u001b[34m/../data/pre-filtering/\u001b[0m\u001b[34mpre-filtered_6_8.checkpoint.csv\u001b[0m\n"
      ]
     },
     "metadata": {},
     "output_type": "display_data"
    },
    {
     "data": {
      "text/html": [
       "<pre style=\"white-space:pre;overflow-x:auto;line-height:normal;font-family:Menlo,'DejaVu Sans Mono',consolas,'Courier New',monospace\"><span style=\"color: #000080; text-decoration-color: #000080\">Checkpoint saved at ../../data/pre-filtering/pre-filtered_6_8.checkpoint.csv</span>\n",
       "</pre>\n"
      ],
      "text/plain": [
       "\u001b[34mCheckpoint saved at ..\u001b[0m\u001b[34m/../data/pre-filtering/\u001b[0m\u001b[34mpre-filtered_6_8.checkpoint.csv\u001b[0m\n"
      ]
     },
     "metadata": {},
     "output_type": "display_data"
    },
    {
     "data": {
      "text/html": [
       "<pre style=\"white-space:pre;overflow-x:auto;line-height:normal;font-family:Menlo,'DejaVu Sans Mono',consolas,'Courier New',monospace\"><span style=\"color: #000080; text-decoration-color: #000080\">Checkpoint saved at ../../data/pre-filtering/pre-filtered_6_8.checkpoint.csv</span>\n",
       "</pre>\n"
      ],
      "text/plain": [
       "\u001b[34mCheckpoint saved at ..\u001b[0m\u001b[34m/../data/pre-filtering/\u001b[0m\u001b[34mpre-filtered_6_8.checkpoint.csv\u001b[0m\n"
      ]
     },
     "metadata": {},
     "output_type": "display_data"
    },
    {
     "data": {
      "text/html": [
       "<pre style=\"white-space:pre;overflow-x:auto;line-height:normal;font-family:Menlo,'DejaVu Sans Mono',consolas,'Courier New',monospace\"><span style=\"color: #000080; text-decoration-color: #000080\">Checkpoint saved at ../../data/pre-filtering/pre-filtered_6_8.checkpoint.csv</span>\n",
       "</pre>\n"
      ],
      "text/plain": [
       "\u001b[34mCheckpoint saved at ..\u001b[0m\u001b[34m/../data/pre-filtering/\u001b[0m\u001b[34mpre-filtered_6_8.checkpoint.csv\u001b[0m\n"
      ]
     },
     "metadata": {},
     "output_type": "display_data"
    },
    {
     "data": {
      "text/html": [
       "<pre style=\"white-space:pre;overflow-x:auto;line-height:normal;font-family:Menlo,'DejaVu Sans Mono',consolas,'Courier New',monospace\"><span style=\"color: #000080; text-decoration-color: #000080\">Checkpoint saved at ../../data/pre-filtering/pre-filtered_6_8.checkpoint.csv</span>\n",
       "</pre>\n"
      ],
      "text/plain": [
       "\u001b[34mCheckpoint saved at ..\u001b[0m\u001b[34m/../data/pre-filtering/\u001b[0m\u001b[34mpre-filtered_6_8.checkpoint.csv\u001b[0m\n"
      ]
     },
     "metadata": {},
     "output_type": "display_data"
    },
    {
     "data": {
      "text/html": [
       "<pre style=\"white-space:pre;overflow-x:auto;line-height:normal;font-family:Menlo,'DejaVu Sans Mono',consolas,'Courier New',monospace\"><span style=\"color: #000080; text-decoration-color: #000080\">Checkpoint saved at ../../data/pre-filtering/pre-filtered_6_8.checkpoint.csv</span>\n",
       "</pre>\n"
      ],
      "text/plain": [
       "\u001b[34mCheckpoint saved at ..\u001b[0m\u001b[34m/../data/pre-filtering/\u001b[0m\u001b[34mpre-filtered_6_8.checkpoint.csv\u001b[0m\n"
      ]
     },
     "metadata": {},
     "output_type": "display_data"
    },
    {
     "data": {
      "text/html": [
       "<pre style=\"white-space:pre;overflow-x:auto;line-height:normal;font-family:Menlo,'DejaVu Sans Mono',consolas,'Courier New',monospace\"><span style=\"color: #000080; text-decoration-color: #000080\">Checkpoint saved at ../../data/pre-filtering/pre-filtered_6_8.checkpoint.csv</span>\n",
       "</pre>\n"
      ],
      "text/plain": [
       "\u001b[34mCheckpoint saved at ..\u001b[0m\u001b[34m/../data/pre-filtering/\u001b[0m\u001b[34mpre-filtered_6_8.checkpoint.csv\u001b[0m\n"
      ]
     },
     "metadata": {},
     "output_type": "display_data"
    },
    {
     "data": {
      "text/html": [
       "<pre style=\"white-space:pre;overflow-x:auto;line-height:normal;font-family:Menlo,'DejaVu Sans Mono',consolas,'Courier New',monospace\"><span style=\"color: #000080; text-decoration-color: #000080\">Checkpoint saved at ../../data/pre-filtering/pre-filtered_6_8.checkpoint.csv</span>\n",
       "</pre>\n"
      ],
      "text/plain": [
       "\u001b[34mCheckpoint saved at ..\u001b[0m\u001b[34m/../data/pre-filtering/\u001b[0m\u001b[34mpre-filtered_6_8.checkpoint.csv\u001b[0m\n"
      ]
     },
     "metadata": {},
     "output_type": "display_data"
    },
    {
     "data": {
      "text/html": [
       "<pre style=\"white-space:pre;overflow-x:auto;line-height:normal;font-family:Menlo,'DejaVu Sans Mono',consolas,'Courier New',monospace\"><span style=\"color: #000080; text-decoration-color: #000080\">Checkpoint saved at ../../data/pre-filtering/pre-filtered_6_8.checkpoint.csv</span>\n",
       "</pre>\n"
      ],
      "text/plain": [
       "\u001b[34mCheckpoint saved at ..\u001b[0m\u001b[34m/../data/pre-filtering/\u001b[0m\u001b[34mpre-filtered_6_8.checkpoint.csv\u001b[0m\n"
      ]
     },
     "metadata": {},
     "output_type": "display_data"
    },
    {
     "data": {
      "text/html": [
       "<pre style=\"white-space:pre;overflow-x:auto;line-height:normal;font-family:Menlo,'DejaVu Sans Mono',consolas,'Courier New',monospace\"><span style=\"color: #000080; text-decoration-color: #000080\">Checkpoint saved at ../../data/pre-filtering/pre-filtered_6_8.checkpoint.csv</span>\n",
       "</pre>\n"
      ],
      "text/plain": [
       "\u001b[34mCheckpoint saved at ..\u001b[0m\u001b[34m/../data/pre-filtering/\u001b[0m\u001b[34mpre-filtered_6_8.checkpoint.csv\u001b[0m\n"
      ]
     },
     "metadata": {},
     "output_type": "display_data"
    },
    {
     "data": {
      "text/html": [
       "<pre style=\"white-space:pre;overflow-x:auto;line-height:normal;font-family:Menlo,'DejaVu Sans Mono',consolas,'Courier New',monospace\"><span style=\"color: #000080; text-decoration-color: #000080\">Checkpoint saved at ../../data/pre-filtering/pre-filtered_6_8.checkpoint.csv</span>\n",
       "</pre>\n"
      ],
      "text/plain": [
       "\u001b[34mCheckpoint saved at ..\u001b[0m\u001b[34m/../data/pre-filtering/\u001b[0m\u001b[34mpre-filtered_6_8.checkpoint.csv\u001b[0m\n"
      ]
     },
     "metadata": {},
     "output_type": "display_data"
    },
    {
     "data": {
      "text/html": [
       "<pre style=\"white-space:pre;overflow-x:auto;line-height:normal;font-family:Menlo,'DejaVu Sans Mono',consolas,'Courier New',monospace\"><span style=\"color: #000080; text-decoration-color: #000080\">Checkpoint saved at ../../data/pre-filtering/pre-filtered_6_8.checkpoint.csv</span>\n",
       "</pre>\n"
      ],
      "text/plain": [
       "\u001b[34mCheckpoint saved at ..\u001b[0m\u001b[34m/../data/pre-filtering/\u001b[0m\u001b[34mpre-filtered_6_8.checkpoint.csv\u001b[0m\n"
      ]
     },
     "metadata": {},
     "output_type": "display_data"
    },
    {
     "data": {
      "text/html": [
       "<pre style=\"white-space:pre;overflow-x:auto;line-height:normal;font-family:Menlo,'DejaVu Sans Mono',consolas,'Courier New',monospace\"><span style=\"color: #000080; text-decoration-color: #000080\">Checkpoint saved at ../../data/pre-filtering/pre-filtered_6_8.checkpoint.csv</span>\n",
       "</pre>\n"
      ],
      "text/plain": [
       "\u001b[34mCheckpoint saved at ..\u001b[0m\u001b[34m/../data/pre-filtering/\u001b[0m\u001b[34mpre-filtered_6_8.checkpoint.csv\u001b[0m\n"
      ]
     },
     "metadata": {},
     "output_type": "display_data"
    },
    {
     "data": {
      "text/html": [
       "<pre style=\"white-space:pre;overflow-x:auto;line-height:normal;font-family:Menlo,'DejaVu Sans Mono',consolas,'Courier New',monospace\"><span style=\"color: #000080; text-decoration-color: #000080\">Checkpoint saved at ../../data/pre-filtering/pre-filtered_6_8.checkpoint.csv</span>\n",
       "</pre>\n"
      ],
      "text/plain": [
       "\u001b[34mCheckpoint saved at ..\u001b[0m\u001b[34m/../data/pre-filtering/\u001b[0m\u001b[34mpre-filtered_6_8.checkpoint.csv\u001b[0m\n"
      ]
     },
     "metadata": {},
     "output_type": "display_data"
    },
    {
     "data": {
      "text/html": [
       "<pre style=\"white-space:pre;overflow-x:auto;line-height:normal;font-family:Menlo,'DejaVu Sans Mono',consolas,'Courier New',monospace\"><span style=\"color: #000080; text-decoration-color: #000080\">Checkpoint saved at ../../data/pre-filtering/pre-filtered_6_8.checkpoint.csv</span>\n",
       "</pre>\n"
      ],
      "text/plain": [
       "\u001b[34mCheckpoint saved at ..\u001b[0m\u001b[34m/../data/pre-filtering/\u001b[0m\u001b[34mpre-filtered_6_8.checkpoint.csv\u001b[0m\n"
      ]
     },
     "metadata": {},
     "output_type": "display_data"
    },
    {
     "data": {
      "text/html": [
       "<pre style=\"white-space:pre;overflow-x:auto;line-height:normal;font-family:Menlo,'DejaVu Sans Mono',consolas,'Courier New',monospace\"><span style=\"color: #000080; text-decoration-color: #000080\">Checkpoint saved at ../../data/pre-filtering/pre-filtered_6_8.checkpoint.csv</span>\n",
       "</pre>\n"
      ],
      "text/plain": [
       "\u001b[34mCheckpoint saved at ..\u001b[0m\u001b[34m/../data/pre-filtering/\u001b[0m\u001b[34mpre-filtered_6_8.checkpoint.csv\u001b[0m\n"
      ]
     },
     "metadata": {},
     "output_type": "display_data"
    },
    {
     "data": {
      "text/html": [
       "<pre style=\"white-space:pre;overflow-x:auto;line-height:normal;font-family:Menlo,'DejaVu Sans Mono',consolas,'Courier New',monospace\"><span style=\"color: #000080; text-decoration-color: #000080\">Checkpoint saved at ../../data/pre-filtering/pre-filtered_6_8.checkpoint.csv</span>\n",
       "</pre>\n"
      ],
      "text/plain": [
       "\u001b[34mCheckpoint saved at ..\u001b[0m\u001b[34m/../data/pre-filtering/\u001b[0m\u001b[34mpre-filtered_6_8.checkpoint.csv\u001b[0m\n"
      ]
     },
     "metadata": {},
     "output_type": "display_data"
    },
    {
     "data": {
      "text/html": [
       "<pre style=\"white-space:pre;overflow-x:auto;line-height:normal;font-family:Menlo,'DejaVu Sans Mono',consolas,'Courier New',monospace\"><span style=\"color: #000080; text-decoration-color: #000080\">Checkpoint saved at ../../data/pre-filtering/pre-filtered_6_8.checkpoint.csv</span>\n",
       "</pre>\n"
      ],
      "text/plain": [
       "\u001b[34mCheckpoint saved at ..\u001b[0m\u001b[34m/../data/pre-filtering/\u001b[0m\u001b[34mpre-filtered_6_8.checkpoint.csv\u001b[0m\n"
      ]
     },
     "metadata": {},
     "output_type": "display_data"
    },
    {
     "data": {
      "text/html": [
       "<pre style=\"white-space:pre;overflow-x:auto;line-height:normal;font-family:Menlo,'DejaVu Sans Mono',consolas,'Courier New',monospace\"><span style=\"color: #000080; text-decoration-color: #000080\">Checkpoint saved at ../../data/pre-filtering/pre-filtered_6_8.checkpoint.csv</span>\n",
       "</pre>\n"
      ],
      "text/plain": [
       "\u001b[34mCheckpoint saved at ..\u001b[0m\u001b[34m/../data/pre-filtering/\u001b[0m\u001b[34mpre-filtered_6_8.checkpoint.csv\u001b[0m\n"
      ]
     },
     "metadata": {},
     "output_type": "display_data"
    },
    {
     "data": {
      "text/html": [
       "<pre style=\"white-space:pre;overflow-x:auto;line-height:normal;font-family:Menlo,'DejaVu Sans Mono',consolas,'Courier New',monospace\"><span style=\"color: #000080; text-decoration-color: #000080\">Checkpoint saved at ../../data/pre-filtering/pre-filtered_6_8.checkpoint.csv</span>\n",
       "</pre>\n"
      ],
      "text/plain": [
       "\u001b[34mCheckpoint saved at ..\u001b[0m\u001b[34m/../data/pre-filtering/\u001b[0m\u001b[34mpre-filtered_6_8.checkpoint.csv\u001b[0m\n"
      ]
     },
     "metadata": {},
     "output_type": "display_data"
    },
    {
     "data": {
      "text/html": [
       "<pre style=\"white-space:pre;overflow-x:auto;line-height:normal;font-family:Menlo,'DejaVu Sans Mono',consolas,'Courier New',monospace\"><span style=\"color: #000080; text-decoration-color: #000080\">Checkpoint saved at ../../data/pre-filtering/pre-filtered_6_8.checkpoint.csv</span>\n",
       "</pre>\n"
      ],
      "text/plain": [
       "\u001b[34mCheckpoint saved at ..\u001b[0m\u001b[34m/../data/pre-filtering/\u001b[0m\u001b[34mpre-filtered_6_8.checkpoint.csv\u001b[0m\n"
      ]
     },
     "metadata": {},
     "output_type": "display_data"
    },
    {
     "data": {
      "text/html": [
       "<pre style=\"white-space:pre;overflow-x:auto;line-height:normal;font-family:Menlo,'DejaVu Sans Mono',consolas,'Courier New',monospace\"><span style=\"color: #000080; text-decoration-color: #000080\">Checkpoint saved at ../../data/pre-filtering/pre-filtered_6_8.checkpoint.csv</span>\n",
       "</pre>\n"
      ],
      "text/plain": [
       "\u001b[34mCheckpoint saved at ..\u001b[0m\u001b[34m/../data/pre-filtering/\u001b[0m\u001b[34mpre-filtered_6_8.checkpoint.csv\u001b[0m\n"
      ]
     },
     "metadata": {},
     "output_type": "display_data"
    },
    {
     "data": {
      "text/html": [
       "<pre style=\"white-space:pre;overflow-x:auto;line-height:normal;font-family:Menlo,'DejaVu Sans Mono',consolas,'Courier New',monospace\"><span style=\"color: #000080; text-decoration-color: #000080\">Checkpoint saved at ../../data/pre-filtering/pre-filtered_6_8.checkpoint.csv</span>\n",
       "</pre>\n"
      ],
      "text/plain": [
       "\u001b[34mCheckpoint saved at ..\u001b[0m\u001b[34m/../data/pre-filtering/\u001b[0m\u001b[34mpre-filtered_6_8.checkpoint.csv\u001b[0m\n"
      ]
     },
     "metadata": {},
     "output_type": "display_data"
    },
    {
     "data": {
      "text/html": [
       "<pre style=\"white-space:pre;overflow-x:auto;line-height:normal;font-family:Menlo,'DejaVu Sans Mono',consolas,'Courier New',monospace\"><span style=\"color: #000080; text-decoration-color: #000080\">Checkpoint saved at ../../data/pre-filtering/pre-filtered_6_8.checkpoint.csv</span>\n",
       "</pre>\n"
      ],
      "text/plain": [
       "\u001b[34mCheckpoint saved at ..\u001b[0m\u001b[34m/../data/pre-filtering/\u001b[0m\u001b[34mpre-filtered_6_8.checkpoint.csv\u001b[0m\n"
      ]
     },
     "metadata": {},
     "output_type": "display_data"
    },
    {
     "data": {
      "text/html": [
       "<pre style=\"white-space:pre;overflow-x:auto;line-height:normal;font-family:Menlo,'DejaVu Sans Mono',consolas,'Courier New',monospace\"><span style=\"color: #000080; text-decoration-color: #000080\">Checkpoint saved at ../../data/pre-filtering/pre-filtered_6_8.checkpoint.csv</span>\n",
       "</pre>\n"
      ],
      "text/plain": [
       "\u001b[34mCheckpoint saved at ..\u001b[0m\u001b[34m/../data/pre-filtering/\u001b[0m\u001b[34mpre-filtered_6_8.checkpoint.csv\u001b[0m\n"
      ]
     },
     "metadata": {},
     "output_type": "display_data"
    },
    {
     "data": {
      "text/html": [
       "<pre style=\"white-space:pre;overflow-x:auto;line-height:normal;font-family:Menlo,'DejaVu Sans Mono',consolas,'Courier New',monospace\"><span style=\"color: #000080; text-decoration-color: #000080\">Checkpoint saved at ../../data/pre-filtering/pre-filtered_6_8.checkpoint.csv</span>\n",
       "</pre>\n"
      ],
      "text/plain": [
       "\u001b[34mCheckpoint saved at ..\u001b[0m\u001b[34m/../data/pre-filtering/\u001b[0m\u001b[34mpre-filtered_6_8.checkpoint.csv\u001b[0m\n"
      ]
     },
     "metadata": {},
     "output_type": "display_data"
    },
    {
     "data": {
      "text/html": [
       "<pre style=\"white-space:pre;overflow-x:auto;line-height:normal;font-family:Menlo,'DejaVu Sans Mono',consolas,'Courier New',monospace\"><span style=\"color: #000080; text-decoration-color: #000080\">Checkpoint saved at ../../data/pre-filtering/pre-filtered_6_8.checkpoint.csv</span>\n",
       "</pre>\n"
      ],
      "text/plain": [
       "\u001b[34mCheckpoint saved at ..\u001b[0m\u001b[34m/../data/pre-filtering/\u001b[0m\u001b[34mpre-filtered_6_8.checkpoint.csv\u001b[0m\n"
      ]
     },
     "metadata": {},
     "output_type": "display_data"
    },
    {
     "data": {
      "text/html": [
       "<pre style=\"white-space:pre;overflow-x:auto;line-height:normal;font-family:Menlo,'DejaVu Sans Mono',consolas,'Courier New',monospace\"><span style=\"color: #000080; text-decoration-color: #000080\">Checkpoint saved at ../../data/pre-filtering/pre-filtered_6_8.checkpoint.csv</span>\n",
       "</pre>\n"
      ],
      "text/plain": [
       "\u001b[34mCheckpoint saved at ..\u001b[0m\u001b[34m/../data/pre-filtering/\u001b[0m\u001b[34mpre-filtered_6_8.checkpoint.csv\u001b[0m\n"
      ]
     },
     "metadata": {},
     "output_type": "display_data"
    },
    {
     "data": {
      "text/html": [
       "<pre style=\"white-space:pre;overflow-x:auto;line-height:normal;font-family:Menlo,'DejaVu Sans Mono',consolas,'Courier New',monospace\"><span style=\"color: #000080; text-decoration-color: #000080\">Checkpoint saved at ../../data/pre-filtering/pre-filtered_6_8.checkpoint.csv</span>\n",
       "</pre>\n"
      ],
      "text/plain": [
       "\u001b[34mCheckpoint saved at ..\u001b[0m\u001b[34m/../data/pre-filtering/\u001b[0m\u001b[34mpre-filtered_6_8.checkpoint.csv\u001b[0m\n"
      ]
     },
     "metadata": {},
     "output_type": "display_data"
    },
    {
     "data": {
      "text/html": [
       "<pre style=\"white-space:pre;overflow-x:auto;line-height:normal;font-family:Menlo,'DejaVu Sans Mono',consolas,'Courier New',monospace\"><span style=\"color: #000080; text-decoration-color: #000080\">Checkpoint saved at ../../data/pre-filtering/pre-filtered_6_8.checkpoint.csv</span>\n",
       "</pre>\n"
      ],
      "text/plain": [
       "\u001b[34mCheckpoint saved at ..\u001b[0m\u001b[34m/../data/pre-filtering/\u001b[0m\u001b[34mpre-filtered_6_8.checkpoint.csv\u001b[0m\n"
      ]
     },
     "metadata": {},
     "output_type": "display_data"
    },
    {
     "data": {
      "text/html": [
       "<pre style=\"white-space:pre;overflow-x:auto;line-height:normal;font-family:Menlo,'DejaVu Sans Mono',consolas,'Courier New',monospace\"><span style=\"color: #000080; text-decoration-color: #000080\">Checkpoint saved at ../../data/pre-filtering/pre-filtered_6_8.checkpoint.csv</span>\n",
       "</pre>\n"
      ],
      "text/plain": [
       "\u001b[34mCheckpoint saved at ..\u001b[0m\u001b[34m/../data/pre-filtering/\u001b[0m\u001b[34mpre-filtered_6_8.checkpoint.csv\u001b[0m\n"
      ]
     },
     "metadata": {},
     "output_type": "display_data"
    },
    {
     "data": {
      "text/html": [
       "<pre style=\"white-space:pre;overflow-x:auto;line-height:normal;font-family:Menlo,'DejaVu Sans Mono',consolas,'Courier New',monospace\"><span style=\"color: #000080; text-decoration-color: #000080\">Checkpoint saved at ../../data/pre-filtering/pre-filtered_6_8.checkpoint.csv</span>\n",
       "</pre>\n"
      ],
      "text/plain": [
       "\u001b[34mCheckpoint saved at ..\u001b[0m\u001b[34m/../data/pre-filtering/\u001b[0m\u001b[34mpre-filtered_6_8.checkpoint.csv\u001b[0m\n"
      ]
     },
     "metadata": {},
     "output_type": "display_data"
    },
    {
     "data": {
      "text/html": [
       "<pre style=\"white-space:pre;overflow-x:auto;line-height:normal;font-family:Menlo,'DejaVu Sans Mono',consolas,'Courier New',monospace\"><span style=\"color: #000080; text-decoration-color: #000080\">Checkpoint saved at ../../data/pre-filtering/pre-filtered_6_8.checkpoint.csv</span>\n",
       "</pre>\n"
      ],
      "text/plain": [
       "\u001b[34mCheckpoint saved at ..\u001b[0m\u001b[34m/../data/pre-filtering/\u001b[0m\u001b[34mpre-filtered_6_8.checkpoint.csv\u001b[0m\n"
      ]
     },
     "metadata": {},
     "output_type": "display_data"
    },
    {
     "data": {
      "text/html": [
       "<pre style=\"white-space:pre;overflow-x:auto;line-height:normal;font-family:Menlo,'DejaVu Sans Mono',consolas,'Courier New',monospace\"><span style=\"color: #000080; text-decoration-color: #000080\">Checkpoint saved at ../../data/pre-filtering/pre-filtered_6_8.checkpoint.csv</span>\n",
       "</pre>\n"
      ],
      "text/plain": [
       "\u001b[34mCheckpoint saved at ..\u001b[0m\u001b[34m/../data/pre-filtering/\u001b[0m\u001b[34mpre-filtered_6_8.checkpoint.csv\u001b[0m\n"
      ]
     },
     "metadata": {},
     "output_type": "display_data"
    },
    {
     "data": {
      "text/html": [
       "<pre style=\"white-space:pre;overflow-x:auto;line-height:normal;font-family:Menlo,'DejaVu Sans Mono',consolas,'Courier New',monospace\"><span style=\"color: #000080; text-decoration-color: #000080\">Checkpoint saved at ../../data/pre-filtering/pre-filtered_6_8.checkpoint.csv</span>\n",
       "</pre>\n"
      ],
      "text/plain": [
       "\u001b[34mCheckpoint saved at ..\u001b[0m\u001b[34m/../data/pre-filtering/\u001b[0m\u001b[34mpre-filtered_6_8.checkpoint.csv\u001b[0m\n"
      ]
     },
     "metadata": {},
     "output_type": "display_data"
    },
    {
     "data": {
      "text/html": [
       "<pre style=\"white-space:pre;overflow-x:auto;line-height:normal;font-family:Menlo,'DejaVu Sans Mono',consolas,'Courier New',monospace\"><span style=\"color: #000080; text-decoration-color: #000080\">Checkpoint saved at ../../data/pre-filtering/pre-filtered_6_8.checkpoint.csv</span>\n",
       "</pre>\n"
      ],
      "text/plain": [
       "\u001b[34mCheckpoint saved at ..\u001b[0m\u001b[34m/../data/pre-filtering/\u001b[0m\u001b[34mpre-filtered_6_8.checkpoint.csv\u001b[0m\n"
      ]
     },
     "metadata": {},
     "output_type": "display_data"
    },
    {
     "data": {
      "text/html": [
       "<pre style=\"white-space:pre;overflow-x:auto;line-height:normal;font-family:Menlo,'DejaVu Sans Mono',consolas,'Courier New',monospace\"><span style=\"color: #000080; text-decoration-color: #000080\">Checkpoint saved at ../../data/pre-filtering/pre-filtered_6_8.checkpoint.csv</span>\n",
       "</pre>\n"
      ],
      "text/plain": [
       "\u001b[34mCheckpoint saved at ..\u001b[0m\u001b[34m/../data/pre-filtering/\u001b[0m\u001b[34mpre-filtered_6_8.checkpoint.csv\u001b[0m\n"
      ]
     },
     "metadata": {},
     "output_type": "display_data"
    },
    {
     "data": {
      "text/html": [
       "<pre style=\"white-space:pre;overflow-x:auto;line-height:normal;font-family:Menlo,'DejaVu Sans Mono',consolas,'Courier New',monospace\"><span style=\"color: #000080; text-decoration-color: #000080\">Checkpoint saved at ../../data/pre-filtering/pre-filtered_6_8.checkpoint.csv</span>\n",
       "</pre>\n"
      ],
      "text/plain": [
       "\u001b[34mCheckpoint saved at ..\u001b[0m\u001b[34m/../data/pre-filtering/\u001b[0m\u001b[34mpre-filtered_6_8.checkpoint.csv\u001b[0m\n"
      ]
     },
     "metadata": {},
     "output_type": "display_data"
    },
    {
     "data": {
      "text/html": [
       "<pre style=\"white-space:pre;overflow-x:auto;line-height:normal;font-family:Menlo,'DejaVu Sans Mono',consolas,'Courier New',monospace\"><span style=\"color: #000080; text-decoration-color: #000080\">Checkpoint saved at ../../data/pre-filtering/pre-filtered_6_8.checkpoint.csv</span>\n",
       "</pre>\n"
      ],
      "text/plain": [
       "\u001b[34mCheckpoint saved at ..\u001b[0m\u001b[34m/../data/pre-filtering/\u001b[0m\u001b[34mpre-filtered_6_8.checkpoint.csv\u001b[0m\n"
      ]
     },
     "metadata": {},
     "output_type": "display_data"
    },
    {
     "data": {
      "text/html": [
       "<pre style=\"white-space:pre;overflow-x:auto;line-height:normal;font-family:Menlo,'DejaVu Sans Mono',consolas,'Courier New',monospace\"><span style=\"color: #000080; text-decoration-color: #000080\">Checkpoint saved at ../../data/pre-filtering/pre-filtered_6_8.checkpoint.csv</span>\n",
       "</pre>\n"
      ],
      "text/plain": [
       "\u001b[34mCheckpoint saved at ..\u001b[0m\u001b[34m/../data/pre-filtering/\u001b[0m\u001b[34mpre-filtered_6_8.checkpoint.csv\u001b[0m\n"
      ]
     },
     "metadata": {},
     "output_type": "display_data"
    },
    {
     "data": {
      "text/html": [
       "<pre style=\"white-space:pre;overflow-x:auto;line-height:normal;font-family:Menlo,'DejaVu Sans Mono',consolas,'Courier New',monospace\"><span style=\"color: #000080; text-decoration-color: #000080\">Checkpoint saved at ../../data/pre-filtering/pre-filtered_6_8.checkpoint.csv</span>\n",
       "</pre>\n"
      ],
      "text/plain": [
       "\u001b[34mCheckpoint saved at ..\u001b[0m\u001b[34m/../data/pre-filtering/\u001b[0m\u001b[34mpre-filtered_6_8.checkpoint.csv\u001b[0m\n"
      ]
     },
     "metadata": {},
     "output_type": "display_data"
    },
    {
     "data": {
      "text/html": [
       "<pre style=\"white-space:pre;overflow-x:auto;line-height:normal;font-family:Menlo,'DejaVu Sans Mono',consolas,'Courier New',monospace\"><span style=\"color: #000080; text-decoration-color: #000080\">Checkpoint saved at ../../data/pre-filtering/pre-filtered_6_8.checkpoint.csv</span>\n",
       "</pre>\n"
      ],
      "text/plain": [
       "\u001b[34mCheckpoint saved at ..\u001b[0m\u001b[34m/../data/pre-filtering/\u001b[0m\u001b[34mpre-filtered_6_8.checkpoint.csv\u001b[0m\n"
      ]
     },
     "metadata": {},
     "output_type": "display_data"
    },
    {
     "data": {
      "text/html": [
       "<pre style=\"white-space:pre;overflow-x:auto;line-height:normal;font-family:Menlo,'DejaVu Sans Mono',consolas,'Courier New',monospace\"><span style=\"color: #000080; text-decoration-color: #000080\">Checkpoint saved at ../../data/pre-filtering/pre-filtered_6_8.checkpoint.csv</span>\n",
       "</pre>\n"
      ],
      "text/plain": [
       "\u001b[34mCheckpoint saved at ..\u001b[0m\u001b[34m/../data/pre-filtering/\u001b[0m\u001b[34mpre-filtered_6_8.checkpoint.csv\u001b[0m\n"
      ]
     },
     "metadata": {},
     "output_type": "display_data"
    },
    {
     "data": {
      "text/html": [
       "<pre style=\"white-space:pre;overflow-x:auto;line-height:normal;font-family:Menlo,'DejaVu Sans Mono',consolas,'Courier New',monospace\"><span style=\"color: #000080; text-decoration-color: #000080\">Checkpoint saved at ../../data/pre-filtering/pre-filtered_6_8.checkpoint.csv</span>\n",
       "</pre>\n"
      ],
      "text/plain": [
       "\u001b[34mCheckpoint saved at ..\u001b[0m\u001b[34m/../data/pre-filtering/\u001b[0m\u001b[34mpre-filtered_6_8.checkpoint.csv\u001b[0m\n"
      ]
     },
     "metadata": {},
     "output_type": "display_data"
    },
    {
     "data": {
      "text/html": [
       "<pre style=\"white-space:pre;overflow-x:auto;line-height:normal;font-family:Menlo,'DejaVu Sans Mono',consolas,'Courier New',monospace\"><span style=\"color: #000080; text-decoration-color: #000080\">Checkpoint saved at ../../data/pre-filtering/pre-filtered_6_8.checkpoint.csv</span>\n",
       "</pre>\n"
      ],
      "text/plain": [
       "\u001b[34mCheckpoint saved at ..\u001b[0m\u001b[34m/../data/pre-filtering/\u001b[0m\u001b[34mpre-filtered_6_8.checkpoint.csv\u001b[0m\n"
      ]
     },
     "metadata": {},
     "output_type": "display_data"
    },
    {
     "data": {
      "text/html": [
       "<pre style=\"white-space:pre;overflow-x:auto;line-height:normal;font-family:Menlo,'DejaVu Sans Mono',consolas,'Courier New',monospace\"><span style=\"color: #000080; text-decoration-color: #000080\">Checkpoint saved at ../../data/pre-filtering/pre-filtered_6_8.checkpoint.csv</span>\n",
       "</pre>\n"
      ],
      "text/plain": [
       "\u001b[34mCheckpoint saved at ..\u001b[0m\u001b[34m/../data/pre-filtering/\u001b[0m\u001b[34mpre-filtered_6_8.checkpoint.csv\u001b[0m\n"
      ]
     },
     "metadata": {},
     "output_type": "display_data"
    },
    {
     "data": {
      "text/html": [
       "<pre style=\"white-space:pre;overflow-x:auto;line-height:normal;font-family:Menlo,'DejaVu Sans Mono',consolas,'Courier New',monospace\"><span style=\"color: #000080; text-decoration-color: #000080\">Checkpoint saved at ../../data/pre-filtering/pre-filtered_6_8.checkpoint.csv</span>\n",
       "</pre>\n"
      ],
      "text/plain": [
       "\u001b[34mCheckpoint saved at ..\u001b[0m\u001b[34m/../data/pre-filtering/\u001b[0m\u001b[34mpre-filtered_6_8.checkpoint.csv\u001b[0m\n"
      ]
     },
     "metadata": {},
     "output_type": "display_data"
    },
    {
     "data": {
      "text/html": [
       "<pre style=\"white-space:pre;overflow-x:auto;line-height:normal;font-family:Menlo,'DejaVu Sans Mono',consolas,'Courier New',monospace\"><span style=\"color: #000080; text-decoration-color: #000080\">Checkpoint saved at ../../data/pre-filtering/pre-filtered_6_8.checkpoint.csv</span>\n",
       "</pre>\n"
      ],
      "text/plain": [
       "\u001b[34mCheckpoint saved at ..\u001b[0m\u001b[34m/../data/pre-filtering/\u001b[0m\u001b[34mpre-filtered_6_8.checkpoint.csv\u001b[0m\n"
      ]
     },
     "metadata": {},
     "output_type": "display_data"
    },
    {
     "data": {
      "text/html": [
       "<pre style=\"white-space:pre;overflow-x:auto;line-height:normal;font-family:Menlo,'DejaVu Sans Mono',consolas,'Courier New',monospace\"><span style=\"color: #000080; text-decoration-color: #000080\">Checkpoint saved at ../../data/pre-filtering/pre-filtered_6_8.checkpoint.csv</span>\n",
       "</pre>\n"
      ],
      "text/plain": [
       "\u001b[34mCheckpoint saved at ..\u001b[0m\u001b[34m/../data/pre-filtering/\u001b[0m\u001b[34mpre-filtered_6_8.checkpoint.csv\u001b[0m\n"
      ]
     },
     "metadata": {},
     "output_type": "display_data"
    },
    {
     "data": {
      "text/html": [
       "<pre style=\"white-space:pre;overflow-x:auto;line-height:normal;font-family:Menlo,'DejaVu Sans Mono',consolas,'Courier New',monospace\"><span style=\"color: #000080; text-decoration-color: #000080\">Checkpoint saved at ../../data/pre-filtering/pre-filtered_6_8.checkpoint.csv</span>\n",
       "</pre>\n"
      ],
      "text/plain": [
       "\u001b[34mCheckpoint saved at ..\u001b[0m\u001b[34m/../data/pre-filtering/\u001b[0m\u001b[34mpre-filtered_6_8.checkpoint.csv\u001b[0m\n"
      ]
     },
     "metadata": {},
     "output_type": "display_data"
    },
    {
     "data": {
      "text/html": [
       "<pre style=\"white-space:pre;overflow-x:auto;line-height:normal;font-family:Menlo,'DejaVu Sans Mono',consolas,'Courier New',monospace\"><span style=\"color: #000080; text-decoration-color: #000080\">Checkpoint saved at ../../data/pre-filtering/pre-filtered_6_8.checkpoint.csv</span>\n",
       "</pre>\n"
      ],
      "text/plain": [
       "\u001b[34mCheckpoint saved at ..\u001b[0m\u001b[34m/../data/pre-filtering/\u001b[0m\u001b[34mpre-filtered_6_8.checkpoint.csv\u001b[0m\n"
      ]
     },
     "metadata": {},
     "output_type": "display_data"
    },
    {
     "data": {
      "text/html": [
       "<pre style=\"white-space:pre;overflow-x:auto;line-height:normal;font-family:Menlo,'DejaVu Sans Mono',consolas,'Courier New',monospace\"><span style=\"color: #000080; text-decoration-color: #000080\">Checkpoint saved at ../../data/pre-filtering/pre-filtered_6_8.checkpoint.csv</span>\n",
       "</pre>\n"
      ],
      "text/plain": [
       "\u001b[34mCheckpoint saved at ..\u001b[0m\u001b[34m/../data/pre-filtering/\u001b[0m\u001b[34mpre-filtered_6_8.checkpoint.csv\u001b[0m\n"
      ]
     },
     "metadata": {},
     "output_type": "display_data"
    },
    {
     "data": {
      "text/html": [
       "<pre style=\"white-space:pre;overflow-x:auto;line-height:normal;font-family:Menlo,'DejaVu Sans Mono',consolas,'Courier New',monospace\"><span style=\"color: #000080; text-decoration-color: #000080\">Checkpoint saved at ../../data/pre-filtering/pre-filtered_6_8.checkpoint.csv</span>\n",
       "</pre>\n"
      ],
      "text/plain": [
       "\u001b[34mCheckpoint saved at ..\u001b[0m\u001b[34m/../data/pre-filtering/\u001b[0m\u001b[34mpre-filtered_6_8.checkpoint.csv\u001b[0m\n"
      ]
     },
     "metadata": {},
     "output_type": "display_data"
    },
    {
     "data": {
      "text/html": [
       "<pre style=\"white-space:pre;overflow-x:auto;line-height:normal;font-family:Menlo,'DejaVu Sans Mono',consolas,'Courier New',monospace\"><span style=\"color: #800000; text-decoration-color: #800000\">Error: </span><span style=\"color: #800000; text-decoration-color: #800000; font-weight: bold\">502</span><span style=\"color: #800000; text-decoration-color: #800000\"> Bad Gateway. </span><span style=\"color: #800000; text-decoration-color: #800000; font-weight: bold\">{</span><span style=\"color: #800000; text-decoration-color: #800000\">'message'</span><span style=\"color: #800000; text-decoration-color: #800000\">: </span><span style=\"color: #800000; text-decoration-color: #800000\">'&lt;!DOCTYPE html&gt;\\n&lt;html lang=en&gt;\\n  &lt;meta charset=utf-8&gt;\\n  &lt;meta name=viewport</span>\n",
       "<span style=\"color: #800000; text-decoration-color: #800000\">content=\"initial-scale=1, minimum-scale=1, width=device-width\"&gt;\\n  &lt;title&gt;Error 502 (Server Error)!!1&lt;/title&gt;\\n  </span>\n",
       "<span style=\"color: #800000; text-decoration-color: #800000\">&lt;style&gt;\\n    *{margin:0;padding:0}html,code{font:15px/22px </span>\n",
       "<span style=\"color: #800000; text-decoration-color: #800000\">arial,sans-serif}html{background:#fff;color:#222;padding:15px}body{margin:7% auto </span>\n",
       "<span style=\"color: #800000; text-decoration-color: #800000\">0;max-width:390px;min-height:180px;padding:30px 0 15px}* &gt; </span>\n",
       "<span style=\"color: #800000; text-decoration-color: #800000\">body{background:url(//www.google.com/images/errors/robot.png) 100% 5px no-repeat;padding-right:205px}p{margin:11px </span>\n",
       "<span style=\"color: #800000; text-decoration-color: #800000\">0 22px;overflow:hidden}ins{color:#777;text-decoration:none}a img{border:0}@media screen and </span>\n",
       "<span style=\"color: #800000; text-decoration-color: #800000\">(max-width:772px){body{background:none;margin-top:0;max-width:none;padding-right:0}}#logo{background:url(//www.goog</span>\n",
       "<span style=\"color: #800000; text-decoration-color: #800000\">le.com/images/branding/googlelogo/1x/googlelogo_color_150x54dp.png) no-repeat;margin-left:-5px}@media only screen </span>\n",
       "<span style=\"color: #800000; text-decoration-color: #800000\">and </span>\n",
       "<span style=\"color: #800000; text-decoration-color: #800000\">(min-resolution:192dpi){#logo{background:url(//www.google.com/images/branding/googlelogo/2x/googlelogo_color_150x54</span>\n",
       "<span style=\"color: #800000; text-decoration-color: #800000\">dp.png) no-repeat 0% 0%/100% </span>\n",
       "<span style=\"color: #800000; text-decoration-color: #800000\">100%;-moz-border-image:url(//www.google.com/images/branding/googlelogo/2x/googlelogo_color_150x54dp.png) 0}}@media </span>\n",
       "<span style=\"color: #800000; text-decoration-color: #800000\">only screen and </span>\n",
       "<span style=\"color: #800000; text-decoration-color: #800000\">(-webkit-min-device-pixel-ratio:2){#logo{background:url(//www.google.com/images/branding/googlelogo/2x/googlelogo_c</span>\n",
       "<span style=\"color: #800000; text-decoration-color: #800000\">olor_150x54dp.png) no-repeat;-webkit-background-size:100% </span>\n",
       "<span style=\"color: #800000; text-decoration-color: #800000\">100%}}#logo{display:inline-block;height:54px;width:150px}\\n  &lt;/style&gt;\\n  &lt;a href=//www.google.com/&gt;&lt;span id=logo </span>\n",
       "<span style=\"color: #800000; text-decoration-color: #800000\">aria-label=Google&gt;&lt;/span&gt;&lt;/a&gt;\\n  &lt;p&gt;&lt;b&gt;502.&lt;/b&gt; &lt;ins&gt;That’s an error.&lt;/ins&gt;\\n  &lt;p&gt;The server encountered a </span>\n",
       "<span style=\"color: #800000; text-decoration-color: #800000\">temporary error and could not complete your request.&lt;p&gt;Please try again in 30 seconds.  &lt;ins&gt;That’s all we </span>\n",
       "<span style=\"color: #800000; text-decoration-color: #800000\">know.&lt;/ins&gt;\\n'</span><span style=\"color: #800000; text-decoration-color: #800000\">, </span><span style=\"color: #800000; text-decoration-color: #800000\">'status'</span><span style=\"color: #800000; text-decoration-color: #800000\">: </span><span style=\"color: #800000; text-decoration-color: #800000\">'Bad Gateway'</span><span style=\"color: #800000; text-decoration-color: #800000; font-weight: bold\">}</span>\n",
       "</pre>\n"
      ],
      "text/plain": [
       "\u001b[31mError: \u001b[0m\u001b[1;31m502\u001b[0m\u001b[31m Bad Gateway. \u001b[0m\u001b[1;31m{\u001b[0m\u001b[31m'message'\u001b[0m\u001b[31m: \u001b[0m\u001b[31m'\u001b[0m\u001b[31m<\u001b[0m\u001b[31m!DOCTYPE html>\\n<html \u001b[0m\u001b[31mlang\u001b[0m\u001b[31m=\u001b[0m\u001b[31men\u001b[0m\u001b[31m>\\n  <meta \u001b[0m\u001b[31mcharset\u001b[0m\u001b[31m=\u001b[0m\u001b[31mutf\u001b[0m\u001b[31m-8>\\n  <meta \u001b[0m\u001b[31mname\u001b[0m\u001b[31m=\u001b[0m\u001b[31mviewport\u001b[0m\n",
       "\u001b[31mcontent\u001b[0m\u001b[31m=\u001b[0m\u001b[31m\"initial\u001b[0m\u001b[31m-\u001b[0m\u001b[31mscale\u001b[0m\u001b[31m=\u001b[0m\u001b[31m1\u001b[0m\u001b[31m, minimum-\u001b[0m\u001b[31mscale\u001b[0m\u001b[31m=\u001b[0m\u001b[31m1\u001b[0m\u001b[31m, \u001b[0m\u001b[31mwidth\u001b[0m\u001b[31m=\u001b[0m\u001b[31mdevice\u001b[0m\u001b[31m-width\">\\n  <title>Error 502 \u001b[0m\u001b[31m(\u001b[0m\u001b[31mServer Error\u001b[0m\u001b[31m)\u001b[0m\u001b[31m!!1</title>\\n  \u001b[0m\n",
       "\u001b[31m<style>\\n    *\u001b[0m\u001b[31m{\u001b[0m\u001b[31mmargin:0;padding:0\u001b[0m\u001b[31m}\u001b[0m\u001b[31mhtml,code\u001b[0m\u001b[31m{\u001b[0m\u001b[31mfont:15px/22px \u001b[0m\n",
       "\u001b[31marial,sans-serif\u001b[0m\u001b[31m}\u001b[0m\u001b[31mhtml\u001b[0m\u001b[31m{\u001b[0m\u001b[31mbackground:#fff;color:#222;padding:15px\u001b[0m\u001b[31m}\u001b[0m\u001b[31mbody\u001b[0m\u001b[31m{\u001b[0m\u001b[31mmargin:7% auto \u001b[0m\n",
       "\u001b[31m0;max-width:390px;min-height:180px;padding:30px 0 15px\u001b[0m\u001b[31m}\u001b[0m\u001b[31m* > \u001b[0m\n",
       "\u001b[31mbody\u001b[0m\u001b[31m{\u001b[0m\u001b[31mbackground:url\u001b[0m\u001b[31m(\u001b[0m\u001b[31m//www.google.com/images/errors/robot.png\u001b[0m\u001b[31m)\u001b[0m\u001b[31m 100% 5px no-repeat;padding-right:205px\u001b[0m\u001b[31m}\u001b[0m\u001b[31mp\u001b[0m\u001b[31m{\u001b[0m\u001b[31mmargin:11px \u001b[0m\n",
       "\u001b[31m0 22px;overflow:hidden\u001b[0m\u001b[31m}\u001b[0m\u001b[31mins\u001b[0m\u001b[31m{\u001b[0m\u001b[31mcolor:#777;text-decoration:none\u001b[0m\u001b[31m}\u001b[0m\u001b[31ma img\u001b[0m\u001b[31m{\u001b[0m\u001b[31mborder:0\u001b[0m\u001b[31m}\u001b[0m\u001b[31m@media screen and \u001b[0m\n",
       "\u001b[31m(\u001b[0m\u001b[31mmax-width:772px\u001b[0m\u001b[31m)\u001b[0m\u001b[31m{\u001b[0m\u001b[31mbody\u001b[0m\u001b[31m{\u001b[0m\u001b[31mbackground:none;margin-top:0;max-width:none;padding-right:0\u001b[0m\u001b[31m}\u001b[0m\u001b[31m}\u001b[0m\u001b[31m#logo\u001b[0m\u001b[31m{\u001b[0m\u001b[31mbackground:url\u001b[0m\u001b[31m(\u001b[0m\u001b[31m//www.goog\u001b[0m\n",
       "\u001b[31mle.com/images/branding/googlelogo/1x/googlelogo_color_150x54dp.png\u001b[0m\u001b[31m)\u001b[0m\u001b[31m no-repeat;margin-left:-5px\u001b[0m\u001b[31m}\u001b[0m\u001b[31m@media only screen \u001b[0m\n",
       "\u001b[31mand \u001b[0m\n",
       "\u001b[31m(\u001b[0m\u001b[31mmin-resolution:192dpi\u001b[0m\u001b[31m)\u001b[0m\u001b[31m{\u001b[0m\u001b[31m#logo\u001b[0m\u001b[31m{\u001b[0m\u001b[31mbackground:url\u001b[0m\u001b[31m(\u001b[0m\u001b[31m//www.google.com/images/branding/googlelogo/2x/googlelogo_color_150x54\u001b[0m\n",
       "\u001b[31mdp.png\u001b[0m\u001b[31m)\u001b[0m\u001b[31m no-repeat 0% 0%/100% \u001b[0m\n",
       "\u001b[31m100%;-moz-border-image:url\u001b[0m\u001b[31m(\u001b[0m\u001b[31m//www.google.com/images/branding/googlelogo/2x/googlelogo_color_150x54dp.png\u001b[0m\u001b[31m)\u001b[0m\u001b[31m 0\u001b[0m\u001b[31m}\u001b[0m\u001b[31m}\u001b[0m\u001b[31m@media \u001b[0m\n",
       "\u001b[31monly screen and \u001b[0m\n",
       "\u001b[31m(\u001b[0m\u001b[31m-webkit-min-device-pixel-ratio:2\u001b[0m\u001b[31m)\u001b[0m\u001b[31m{\u001b[0m\u001b[31m#logo\u001b[0m\u001b[31m{\u001b[0m\u001b[31mbackground:url\u001b[0m\u001b[31m(\u001b[0m\u001b[31m//www.google.com/images/branding/googlelogo/2x/googlelogo_c\u001b[0m\n",
       "\u001b[31molor_150x54dp.png\u001b[0m\u001b[31m)\u001b[0m\u001b[31m no-repeat;-webkit-background-size:100% \u001b[0m\n",
       "\u001b[31m100%\u001b[0m\u001b[31m}\u001b[0m\u001b[31m}\u001b[0m\u001b[31m#logo\u001b[0m\u001b[31m{\u001b[0m\u001b[31mdisplay:inline-block;height:54px;width:150px\u001b[0m\u001b[31m}\u001b[0m\u001b[31m\\n  </style>\\n  <a \u001b[0m\u001b[31mhref\u001b[0m\u001b[31m=//www.google.com/><span \u001b[0m\u001b[31mid\u001b[0m\u001b[31m=\u001b[0m\u001b[31mlogo\u001b[0m\u001b[31m \u001b[0m\n",
       "\u001b[31maria-\u001b[0m\u001b[31mlabel\u001b[0m\u001b[31m=\u001b[0m\u001b[31mGoogle\u001b[0m\u001b[31m></span></a>\\n  <p><b>502.</b> <ins>That’s an error.</ins>\\n  <p>The server encountered a \u001b[0m\n",
       "\u001b[31mtemporary error and could not complete your request.<p>Please try again in 30 seconds.  <ins>That’s all we \u001b[0m\n",
       "\u001b[31mknow.</ins\u001b[0m\u001b[31m>\u001b[0m\u001b[31m\\n'\u001b[0m\u001b[31m, \u001b[0m\u001b[31m'status'\u001b[0m\u001b[31m: \u001b[0m\u001b[31m'Bad Gateway'\u001b[0m\u001b[1;31m}\u001b[0m\n"
      ]
     },
     "metadata": {},
     "output_type": "display_data"
    },
    {
     "data": {
      "text/html": [
       "<pre style=\"white-space:pre;overflow-x:auto;line-height:normal;font-family:Menlo,'DejaVu Sans Mono',consolas,'Courier New',monospace\"><span style=\"color: #800000; text-decoration-color: #800000\">Error: </span><span style=\"color: #800000; text-decoration-color: #800000; font-weight: bold\">502</span><span style=\"color: #800000; text-decoration-color: #800000\"> Bad Gateway. </span><span style=\"color: #800000; text-decoration-color: #800000; font-weight: bold\">{</span><span style=\"color: #800000; text-decoration-color: #800000\">'message'</span><span style=\"color: #800000; text-decoration-color: #800000\">: </span><span style=\"color: #800000; text-decoration-color: #800000\">'&lt;!DOCTYPE html&gt;\\n&lt;html lang=en&gt;\\n  &lt;meta charset=utf-8&gt;\\n  &lt;meta name=viewport</span>\n",
       "<span style=\"color: #800000; text-decoration-color: #800000\">content=\"initial-scale=1, minimum-scale=1, width=device-width\"&gt;\\n  &lt;title&gt;Error 502 (Server Error)!!1&lt;/title&gt;\\n  </span>\n",
       "<span style=\"color: #800000; text-decoration-color: #800000\">&lt;style&gt;\\n    *{margin:0;padding:0}html,code{font:15px/22px </span>\n",
       "<span style=\"color: #800000; text-decoration-color: #800000\">arial,sans-serif}html{background:#fff;color:#222;padding:15px}body{margin:7% auto </span>\n",
       "<span style=\"color: #800000; text-decoration-color: #800000\">0;max-width:390px;min-height:180px;padding:30px 0 15px}* &gt; </span>\n",
       "<span style=\"color: #800000; text-decoration-color: #800000\">body{background:url(//www.google.com/images/errors/robot.png) 100% 5px no-repeat;padding-right:205px}p{margin:11px </span>\n",
       "<span style=\"color: #800000; text-decoration-color: #800000\">0 22px;overflow:hidden}ins{color:#777;text-decoration:none}a img{border:0}@media screen and </span>\n",
       "<span style=\"color: #800000; text-decoration-color: #800000\">(max-width:772px){body{background:none;margin-top:0;max-width:none;padding-right:0}}#logo{background:url(//www.goog</span>\n",
       "<span style=\"color: #800000; text-decoration-color: #800000\">le.com/images/branding/googlelogo/1x/googlelogo_color_150x54dp.png) no-repeat;margin-left:-5px}@media only screen </span>\n",
       "<span style=\"color: #800000; text-decoration-color: #800000\">and </span>\n",
       "<span style=\"color: #800000; text-decoration-color: #800000\">(min-resolution:192dpi){#logo{background:url(//www.google.com/images/branding/googlelogo/2x/googlelogo_color_150x54</span>\n",
       "<span style=\"color: #800000; text-decoration-color: #800000\">dp.png) no-repeat 0% 0%/100% </span>\n",
       "<span style=\"color: #800000; text-decoration-color: #800000\">100%;-moz-border-image:url(//www.google.com/images/branding/googlelogo/2x/googlelogo_color_150x54dp.png) 0}}@media </span>\n",
       "<span style=\"color: #800000; text-decoration-color: #800000\">only screen and </span>\n",
       "<span style=\"color: #800000; text-decoration-color: #800000\">(-webkit-min-device-pixel-ratio:2){#logo{background:url(//www.google.com/images/branding/googlelogo/2x/googlelogo_c</span>\n",
       "<span style=\"color: #800000; text-decoration-color: #800000\">olor_150x54dp.png) no-repeat;-webkit-background-size:100% </span>\n",
       "<span style=\"color: #800000; text-decoration-color: #800000\">100%}}#logo{display:inline-block;height:54px;width:150px}\\n  &lt;/style&gt;\\n  &lt;a href=//www.google.com/&gt;&lt;span id=logo </span>\n",
       "<span style=\"color: #800000; text-decoration-color: #800000\">aria-label=Google&gt;&lt;/span&gt;&lt;/a&gt;\\n  &lt;p&gt;&lt;b&gt;502.&lt;/b&gt; &lt;ins&gt;That’s an error.&lt;/ins&gt;\\n  &lt;p&gt;The server encountered a </span>\n",
       "<span style=\"color: #800000; text-decoration-color: #800000\">temporary error and could not complete your request.&lt;p&gt;Please try again in 30 seconds.  &lt;ins&gt;That’s all we </span>\n",
       "<span style=\"color: #800000; text-decoration-color: #800000\">know.&lt;/ins&gt;\\n'</span><span style=\"color: #800000; text-decoration-color: #800000\">, </span><span style=\"color: #800000; text-decoration-color: #800000\">'status'</span><span style=\"color: #800000; text-decoration-color: #800000\">: </span><span style=\"color: #800000; text-decoration-color: #800000\">'Bad Gateway'</span><span style=\"color: #800000; text-decoration-color: #800000; font-weight: bold\">}</span>\n",
       "</pre>\n"
      ],
      "text/plain": [
       "\u001b[31mError: \u001b[0m\u001b[1;31m502\u001b[0m\u001b[31m Bad Gateway. \u001b[0m\u001b[1;31m{\u001b[0m\u001b[31m'message'\u001b[0m\u001b[31m: \u001b[0m\u001b[31m'\u001b[0m\u001b[31m<\u001b[0m\u001b[31m!DOCTYPE html>\\n<html \u001b[0m\u001b[31mlang\u001b[0m\u001b[31m=\u001b[0m\u001b[31men\u001b[0m\u001b[31m>\\n  <meta \u001b[0m\u001b[31mcharset\u001b[0m\u001b[31m=\u001b[0m\u001b[31mutf\u001b[0m\u001b[31m-8>\\n  <meta \u001b[0m\u001b[31mname\u001b[0m\u001b[31m=\u001b[0m\u001b[31mviewport\u001b[0m\n",
       "\u001b[31mcontent\u001b[0m\u001b[31m=\u001b[0m\u001b[31m\"initial\u001b[0m\u001b[31m-\u001b[0m\u001b[31mscale\u001b[0m\u001b[31m=\u001b[0m\u001b[31m1\u001b[0m\u001b[31m, minimum-\u001b[0m\u001b[31mscale\u001b[0m\u001b[31m=\u001b[0m\u001b[31m1\u001b[0m\u001b[31m, \u001b[0m\u001b[31mwidth\u001b[0m\u001b[31m=\u001b[0m\u001b[31mdevice\u001b[0m\u001b[31m-width\">\\n  <title>Error 502 \u001b[0m\u001b[31m(\u001b[0m\u001b[31mServer Error\u001b[0m\u001b[31m)\u001b[0m\u001b[31m!!1</title>\\n  \u001b[0m\n",
       "\u001b[31m<style>\\n    *\u001b[0m\u001b[31m{\u001b[0m\u001b[31mmargin:0;padding:0\u001b[0m\u001b[31m}\u001b[0m\u001b[31mhtml,code\u001b[0m\u001b[31m{\u001b[0m\u001b[31mfont:15px/22px \u001b[0m\n",
       "\u001b[31marial,sans-serif\u001b[0m\u001b[31m}\u001b[0m\u001b[31mhtml\u001b[0m\u001b[31m{\u001b[0m\u001b[31mbackground:#fff;color:#222;padding:15px\u001b[0m\u001b[31m}\u001b[0m\u001b[31mbody\u001b[0m\u001b[31m{\u001b[0m\u001b[31mmargin:7% auto \u001b[0m\n",
       "\u001b[31m0;max-width:390px;min-height:180px;padding:30px 0 15px\u001b[0m\u001b[31m}\u001b[0m\u001b[31m* > \u001b[0m\n",
       "\u001b[31mbody\u001b[0m\u001b[31m{\u001b[0m\u001b[31mbackground:url\u001b[0m\u001b[31m(\u001b[0m\u001b[31m//www.google.com/images/errors/robot.png\u001b[0m\u001b[31m)\u001b[0m\u001b[31m 100% 5px no-repeat;padding-right:205px\u001b[0m\u001b[31m}\u001b[0m\u001b[31mp\u001b[0m\u001b[31m{\u001b[0m\u001b[31mmargin:11px \u001b[0m\n",
       "\u001b[31m0 22px;overflow:hidden\u001b[0m\u001b[31m}\u001b[0m\u001b[31mins\u001b[0m\u001b[31m{\u001b[0m\u001b[31mcolor:#777;text-decoration:none\u001b[0m\u001b[31m}\u001b[0m\u001b[31ma img\u001b[0m\u001b[31m{\u001b[0m\u001b[31mborder:0\u001b[0m\u001b[31m}\u001b[0m\u001b[31m@media screen and \u001b[0m\n",
       "\u001b[31m(\u001b[0m\u001b[31mmax-width:772px\u001b[0m\u001b[31m)\u001b[0m\u001b[31m{\u001b[0m\u001b[31mbody\u001b[0m\u001b[31m{\u001b[0m\u001b[31mbackground:none;margin-top:0;max-width:none;padding-right:0\u001b[0m\u001b[31m}\u001b[0m\u001b[31m}\u001b[0m\u001b[31m#logo\u001b[0m\u001b[31m{\u001b[0m\u001b[31mbackground:url\u001b[0m\u001b[31m(\u001b[0m\u001b[31m//www.goog\u001b[0m\n",
       "\u001b[31mle.com/images/branding/googlelogo/1x/googlelogo_color_150x54dp.png\u001b[0m\u001b[31m)\u001b[0m\u001b[31m no-repeat;margin-left:-5px\u001b[0m\u001b[31m}\u001b[0m\u001b[31m@media only screen \u001b[0m\n",
       "\u001b[31mand \u001b[0m\n",
       "\u001b[31m(\u001b[0m\u001b[31mmin-resolution:192dpi\u001b[0m\u001b[31m)\u001b[0m\u001b[31m{\u001b[0m\u001b[31m#logo\u001b[0m\u001b[31m{\u001b[0m\u001b[31mbackground:url\u001b[0m\u001b[31m(\u001b[0m\u001b[31m//www.google.com/images/branding/googlelogo/2x/googlelogo_color_150x54\u001b[0m\n",
       "\u001b[31mdp.png\u001b[0m\u001b[31m)\u001b[0m\u001b[31m no-repeat 0% 0%/100% \u001b[0m\n",
       "\u001b[31m100%;-moz-border-image:url\u001b[0m\u001b[31m(\u001b[0m\u001b[31m//www.google.com/images/branding/googlelogo/2x/googlelogo_color_150x54dp.png\u001b[0m\u001b[31m)\u001b[0m\u001b[31m 0\u001b[0m\u001b[31m}\u001b[0m\u001b[31m}\u001b[0m\u001b[31m@media \u001b[0m\n",
       "\u001b[31monly screen and \u001b[0m\n",
       "\u001b[31m(\u001b[0m\u001b[31m-webkit-min-device-pixel-ratio:2\u001b[0m\u001b[31m)\u001b[0m\u001b[31m{\u001b[0m\u001b[31m#logo\u001b[0m\u001b[31m{\u001b[0m\u001b[31mbackground:url\u001b[0m\u001b[31m(\u001b[0m\u001b[31m//www.google.com/images/branding/googlelogo/2x/googlelogo_c\u001b[0m\n",
       "\u001b[31molor_150x54dp.png\u001b[0m\u001b[31m)\u001b[0m\u001b[31m no-repeat;-webkit-background-size:100% \u001b[0m\n",
       "\u001b[31m100%\u001b[0m\u001b[31m}\u001b[0m\u001b[31m}\u001b[0m\u001b[31m#logo\u001b[0m\u001b[31m{\u001b[0m\u001b[31mdisplay:inline-block;height:54px;width:150px\u001b[0m\u001b[31m}\u001b[0m\u001b[31m\\n  </style>\\n  <a \u001b[0m\u001b[31mhref\u001b[0m\u001b[31m=//www.google.com/><span \u001b[0m\u001b[31mid\u001b[0m\u001b[31m=\u001b[0m\u001b[31mlogo\u001b[0m\u001b[31m \u001b[0m\n",
       "\u001b[31maria-\u001b[0m\u001b[31mlabel\u001b[0m\u001b[31m=\u001b[0m\u001b[31mGoogle\u001b[0m\u001b[31m></span></a>\\n  <p><b>502.</b> <ins>That’s an error.</ins>\\n  <p>The server encountered a \u001b[0m\n",
       "\u001b[31mtemporary error and could not complete your request.<p>Please try again in 30 seconds.  <ins>That’s all we \u001b[0m\n",
       "\u001b[31mknow.</ins\u001b[0m\u001b[31m>\u001b[0m\u001b[31m\\n'\u001b[0m\u001b[31m, \u001b[0m\u001b[31m'status'\u001b[0m\u001b[31m: \u001b[0m\u001b[31m'Bad Gateway'\u001b[0m\u001b[1;31m}\u001b[0m\n"
      ]
     },
     "metadata": {},
     "output_type": "display_data"
    },
    {
     "data": {
      "text/html": [
       "<pre style=\"white-space:pre;overflow-x:auto;line-height:normal;font-family:Menlo,'DejaVu Sans Mono',consolas,'Courier New',monospace\"><span style=\"color: #800000; text-decoration-color: #800000\">Error: </span><span style=\"color: #800000; text-decoration-color: #800000; font-weight: bold\">502</span><span style=\"color: #800000; text-decoration-color: #800000\"> Bad Gateway. </span><span style=\"color: #800000; text-decoration-color: #800000; font-weight: bold\">{</span><span style=\"color: #800000; text-decoration-color: #800000\">'message'</span><span style=\"color: #800000; text-decoration-color: #800000\">: </span><span style=\"color: #800000; text-decoration-color: #800000\">'&lt;!DOCTYPE html&gt;\\n&lt;html lang=en&gt;\\n  &lt;meta charset=utf-8&gt;\\n  &lt;meta name=viewport</span>\n",
       "<span style=\"color: #800000; text-decoration-color: #800000\">content=\"initial-scale=1, minimum-scale=1, width=device-width\"&gt;\\n  &lt;title&gt;Error 502 (Server Error)!!1&lt;/title&gt;\\n  </span>\n",
       "<span style=\"color: #800000; text-decoration-color: #800000\">&lt;style&gt;\\n    *{margin:0;padding:0}html,code{font:15px/22px </span>\n",
       "<span style=\"color: #800000; text-decoration-color: #800000\">arial,sans-serif}html{background:#fff;color:#222;padding:15px}body{margin:7% auto </span>\n",
       "<span style=\"color: #800000; text-decoration-color: #800000\">0;max-width:390px;min-height:180px;padding:30px 0 15px}* &gt; </span>\n",
       "<span style=\"color: #800000; text-decoration-color: #800000\">body{background:url(//www.google.com/images/errors/robot.png) 100% 5px no-repeat;padding-right:205px}p{margin:11px </span>\n",
       "<span style=\"color: #800000; text-decoration-color: #800000\">0 22px;overflow:hidden}ins{color:#777;text-decoration:none}a img{border:0}@media screen and </span>\n",
       "<span style=\"color: #800000; text-decoration-color: #800000\">(max-width:772px){body{background:none;margin-top:0;max-width:none;padding-right:0}}#logo{background:url(//www.goog</span>\n",
       "<span style=\"color: #800000; text-decoration-color: #800000\">le.com/images/branding/googlelogo/1x/googlelogo_color_150x54dp.png) no-repeat;margin-left:-5px}@media only screen </span>\n",
       "<span style=\"color: #800000; text-decoration-color: #800000\">and </span>\n",
       "<span style=\"color: #800000; text-decoration-color: #800000\">(min-resolution:192dpi){#logo{background:url(//www.google.com/images/branding/googlelogo/2x/googlelogo_color_150x54</span>\n",
       "<span style=\"color: #800000; text-decoration-color: #800000\">dp.png) no-repeat 0% 0%/100% </span>\n",
       "<span style=\"color: #800000; text-decoration-color: #800000\">100%;-moz-border-image:url(//www.google.com/images/branding/googlelogo/2x/googlelogo_color_150x54dp.png) 0}}@media </span>\n",
       "<span style=\"color: #800000; text-decoration-color: #800000\">only screen and </span>\n",
       "<span style=\"color: #800000; text-decoration-color: #800000\">(-webkit-min-device-pixel-ratio:2){#logo{background:url(//www.google.com/images/branding/googlelogo/2x/googlelogo_c</span>\n",
       "<span style=\"color: #800000; text-decoration-color: #800000\">olor_150x54dp.png) no-repeat;-webkit-background-size:100% </span>\n",
       "<span style=\"color: #800000; text-decoration-color: #800000\">100%}}#logo{display:inline-block;height:54px;width:150px}\\n  &lt;/style&gt;\\n  &lt;a href=//www.google.com/&gt;&lt;span id=logo </span>\n",
       "<span style=\"color: #800000; text-decoration-color: #800000\">aria-label=Google&gt;&lt;/span&gt;&lt;/a&gt;\\n  &lt;p&gt;&lt;b&gt;502.&lt;/b&gt; &lt;ins&gt;That’s an error.&lt;/ins&gt;\\n  &lt;p&gt;The server encountered a </span>\n",
       "<span style=\"color: #800000; text-decoration-color: #800000\">temporary error and could not complete your request.&lt;p&gt;Please try again in 30 seconds.  &lt;ins&gt;That’s all we </span>\n",
       "<span style=\"color: #800000; text-decoration-color: #800000\">know.&lt;/ins&gt;\\n'</span><span style=\"color: #800000; text-decoration-color: #800000\">, </span><span style=\"color: #800000; text-decoration-color: #800000\">'status'</span><span style=\"color: #800000; text-decoration-color: #800000\">: </span><span style=\"color: #800000; text-decoration-color: #800000\">'Bad Gateway'</span><span style=\"color: #800000; text-decoration-color: #800000; font-weight: bold\">}</span>\n",
       "</pre>\n"
      ],
      "text/plain": [
       "\u001b[31mError: \u001b[0m\u001b[1;31m502\u001b[0m\u001b[31m Bad Gateway. \u001b[0m\u001b[1;31m{\u001b[0m\u001b[31m'message'\u001b[0m\u001b[31m: \u001b[0m\u001b[31m'\u001b[0m\u001b[31m<\u001b[0m\u001b[31m!DOCTYPE html>\\n<html \u001b[0m\u001b[31mlang\u001b[0m\u001b[31m=\u001b[0m\u001b[31men\u001b[0m\u001b[31m>\\n  <meta \u001b[0m\u001b[31mcharset\u001b[0m\u001b[31m=\u001b[0m\u001b[31mutf\u001b[0m\u001b[31m-8>\\n  <meta \u001b[0m\u001b[31mname\u001b[0m\u001b[31m=\u001b[0m\u001b[31mviewport\u001b[0m\n",
       "\u001b[31mcontent\u001b[0m\u001b[31m=\u001b[0m\u001b[31m\"initial\u001b[0m\u001b[31m-\u001b[0m\u001b[31mscale\u001b[0m\u001b[31m=\u001b[0m\u001b[31m1\u001b[0m\u001b[31m, minimum-\u001b[0m\u001b[31mscale\u001b[0m\u001b[31m=\u001b[0m\u001b[31m1\u001b[0m\u001b[31m, \u001b[0m\u001b[31mwidth\u001b[0m\u001b[31m=\u001b[0m\u001b[31mdevice\u001b[0m\u001b[31m-width\">\\n  <title>Error 502 \u001b[0m\u001b[31m(\u001b[0m\u001b[31mServer Error\u001b[0m\u001b[31m)\u001b[0m\u001b[31m!!1</title>\\n  \u001b[0m\n",
       "\u001b[31m<style>\\n    *\u001b[0m\u001b[31m{\u001b[0m\u001b[31mmargin:0;padding:0\u001b[0m\u001b[31m}\u001b[0m\u001b[31mhtml,code\u001b[0m\u001b[31m{\u001b[0m\u001b[31mfont:15px/22px \u001b[0m\n",
       "\u001b[31marial,sans-serif\u001b[0m\u001b[31m}\u001b[0m\u001b[31mhtml\u001b[0m\u001b[31m{\u001b[0m\u001b[31mbackground:#fff;color:#222;padding:15px\u001b[0m\u001b[31m}\u001b[0m\u001b[31mbody\u001b[0m\u001b[31m{\u001b[0m\u001b[31mmargin:7% auto \u001b[0m\n",
       "\u001b[31m0;max-width:390px;min-height:180px;padding:30px 0 15px\u001b[0m\u001b[31m}\u001b[0m\u001b[31m* > \u001b[0m\n",
       "\u001b[31mbody\u001b[0m\u001b[31m{\u001b[0m\u001b[31mbackground:url\u001b[0m\u001b[31m(\u001b[0m\u001b[31m//www.google.com/images/errors/robot.png\u001b[0m\u001b[31m)\u001b[0m\u001b[31m 100% 5px no-repeat;padding-right:205px\u001b[0m\u001b[31m}\u001b[0m\u001b[31mp\u001b[0m\u001b[31m{\u001b[0m\u001b[31mmargin:11px \u001b[0m\n",
       "\u001b[31m0 22px;overflow:hidden\u001b[0m\u001b[31m}\u001b[0m\u001b[31mins\u001b[0m\u001b[31m{\u001b[0m\u001b[31mcolor:#777;text-decoration:none\u001b[0m\u001b[31m}\u001b[0m\u001b[31ma img\u001b[0m\u001b[31m{\u001b[0m\u001b[31mborder:0\u001b[0m\u001b[31m}\u001b[0m\u001b[31m@media screen and \u001b[0m\n",
       "\u001b[31m(\u001b[0m\u001b[31mmax-width:772px\u001b[0m\u001b[31m)\u001b[0m\u001b[31m{\u001b[0m\u001b[31mbody\u001b[0m\u001b[31m{\u001b[0m\u001b[31mbackground:none;margin-top:0;max-width:none;padding-right:0\u001b[0m\u001b[31m}\u001b[0m\u001b[31m}\u001b[0m\u001b[31m#logo\u001b[0m\u001b[31m{\u001b[0m\u001b[31mbackground:url\u001b[0m\u001b[31m(\u001b[0m\u001b[31m//www.goog\u001b[0m\n",
       "\u001b[31mle.com/images/branding/googlelogo/1x/googlelogo_color_150x54dp.png\u001b[0m\u001b[31m)\u001b[0m\u001b[31m no-repeat;margin-left:-5px\u001b[0m\u001b[31m}\u001b[0m\u001b[31m@media only screen \u001b[0m\n",
       "\u001b[31mand \u001b[0m\n",
       "\u001b[31m(\u001b[0m\u001b[31mmin-resolution:192dpi\u001b[0m\u001b[31m)\u001b[0m\u001b[31m{\u001b[0m\u001b[31m#logo\u001b[0m\u001b[31m{\u001b[0m\u001b[31mbackground:url\u001b[0m\u001b[31m(\u001b[0m\u001b[31m//www.google.com/images/branding/googlelogo/2x/googlelogo_color_150x54\u001b[0m\n",
       "\u001b[31mdp.png\u001b[0m\u001b[31m)\u001b[0m\u001b[31m no-repeat 0% 0%/100% \u001b[0m\n",
       "\u001b[31m100%;-moz-border-image:url\u001b[0m\u001b[31m(\u001b[0m\u001b[31m//www.google.com/images/branding/googlelogo/2x/googlelogo_color_150x54dp.png\u001b[0m\u001b[31m)\u001b[0m\u001b[31m 0\u001b[0m\u001b[31m}\u001b[0m\u001b[31m}\u001b[0m\u001b[31m@media \u001b[0m\n",
       "\u001b[31monly screen and \u001b[0m\n",
       "\u001b[31m(\u001b[0m\u001b[31m-webkit-min-device-pixel-ratio:2\u001b[0m\u001b[31m)\u001b[0m\u001b[31m{\u001b[0m\u001b[31m#logo\u001b[0m\u001b[31m{\u001b[0m\u001b[31mbackground:url\u001b[0m\u001b[31m(\u001b[0m\u001b[31m//www.google.com/images/branding/googlelogo/2x/googlelogo_c\u001b[0m\n",
       "\u001b[31molor_150x54dp.png\u001b[0m\u001b[31m)\u001b[0m\u001b[31m no-repeat;-webkit-background-size:100% \u001b[0m\n",
       "\u001b[31m100%\u001b[0m\u001b[31m}\u001b[0m\u001b[31m}\u001b[0m\u001b[31m#logo\u001b[0m\u001b[31m{\u001b[0m\u001b[31mdisplay:inline-block;height:54px;width:150px\u001b[0m\u001b[31m}\u001b[0m\u001b[31m\\n  </style>\\n  <a \u001b[0m\u001b[31mhref\u001b[0m\u001b[31m=//www.google.com/><span \u001b[0m\u001b[31mid\u001b[0m\u001b[31m=\u001b[0m\u001b[31mlogo\u001b[0m\u001b[31m \u001b[0m\n",
       "\u001b[31maria-\u001b[0m\u001b[31mlabel\u001b[0m\u001b[31m=\u001b[0m\u001b[31mGoogle\u001b[0m\u001b[31m></span></a>\\n  <p><b>502.</b> <ins>That’s an error.</ins>\\n  <p>The server encountered a \u001b[0m\n",
       "\u001b[31mtemporary error and could not complete your request.<p>Please try again in 30 seconds.  <ins>That’s all we \u001b[0m\n",
       "\u001b[31mknow.</ins\u001b[0m\u001b[31m>\u001b[0m\u001b[31m\\n'\u001b[0m\u001b[31m, \u001b[0m\u001b[31m'status'\u001b[0m\u001b[31m: \u001b[0m\u001b[31m'Bad Gateway'\u001b[0m\u001b[1;31m}\u001b[0m\n"
      ]
     },
     "metadata": {},
     "output_type": "display_data"
    },
    {
     "data": {
      "text/html": [
       "<pre style=\"white-space:pre;overflow-x:auto;line-height:normal;font-family:Menlo,'DejaVu Sans Mono',consolas,'Courier New',monospace\"><span style=\"color: #800000; text-decoration-color: #800000\">Error: </span><span style=\"color: #800000; text-decoration-color: #800000; font-weight: bold\">502</span><span style=\"color: #800000; text-decoration-color: #800000\"> Bad Gateway. </span><span style=\"color: #800000; text-decoration-color: #800000; font-weight: bold\">{</span><span style=\"color: #800000; text-decoration-color: #800000\">'message'</span><span style=\"color: #800000; text-decoration-color: #800000\">: </span><span style=\"color: #800000; text-decoration-color: #800000\">'&lt;!DOCTYPE html&gt;\\n&lt;html lang=en&gt;\\n  &lt;meta charset=utf-8&gt;\\n  &lt;meta name=viewport</span>\n",
       "<span style=\"color: #800000; text-decoration-color: #800000\">content=\"initial-scale=1, minimum-scale=1, width=device-width\"&gt;\\n  &lt;title&gt;Error 502 (Server Error)!!1&lt;/title&gt;\\n  </span>\n",
       "<span style=\"color: #800000; text-decoration-color: #800000\">&lt;style&gt;\\n    *{margin:0;padding:0}html,code{font:15px/22px </span>\n",
       "<span style=\"color: #800000; text-decoration-color: #800000\">arial,sans-serif}html{background:#fff;color:#222;padding:15px}body{margin:7% auto </span>\n",
       "<span style=\"color: #800000; text-decoration-color: #800000\">0;max-width:390px;min-height:180px;padding:30px 0 15px}* &gt; </span>\n",
       "<span style=\"color: #800000; text-decoration-color: #800000\">body{background:url(//www.google.com/images/errors/robot.png) 100% 5px no-repeat;padding-right:205px}p{margin:11px </span>\n",
       "<span style=\"color: #800000; text-decoration-color: #800000\">0 22px;overflow:hidden}ins{color:#777;text-decoration:none}a img{border:0}@media screen and </span>\n",
       "<span style=\"color: #800000; text-decoration-color: #800000\">(max-width:772px){body{background:none;margin-top:0;max-width:none;padding-right:0}}#logo{background:url(//www.goog</span>\n",
       "<span style=\"color: #800000; text-decoration-color: #800000\">le.com/images/branding/googlelogo/1x/googlelogo_color_150x54dp.png) no-repeat;margin-left:-5px}@media only screen </span>\n",
       "<span style=\"color: #800000; text-decoration-color: #800000\">and </span>\n",
       "<span style=\"color: #800000; text-decoration-color: #800000\">(min-resolution:192dpi){#logo{background:url(//www.google.com/images/branding/googlelogo/2x/googlelogo_color_150x54</span>\n",
       "<span style=\"color: #800000; text-decoration-color: #800000\">dp.png) no-repeat 0% 0%/100% </span>\n",
       "<span style=\"color: #800000; text-decoration-color: #800000\">100%;-moz-border-image:url(//www.google.com/images/branding/googlelogo/2x/googlelogo_color_150x54dp.png) 0}}@media </span>\n",
       "<span style=\"color: #800000; text-decoration-color: #800000\">only screen and </span>\n",
       "<span style=\"color: #800000; text-decoration-color: #800000\">(-webkit-min-device-pixel-ratio:2){#logo{background:url(//www.google.com/images/branding/googlelogo/2x/googlelogo_c</span>\n",
       "<span style=\"color: #800000; text-decoration-color: #800000\">olor_150x54dp.png) no-repeat;-webkit-background-size:100% </span>\n",
       "<span style=\"color: #800000; text-decoration-color: #800000\">100%}}#logo{display:inline-block;height:54px;width:150px}\\n  &lt;/style&gt;\\n  &lt;a href=//www.google.com/&gt;&lt;span id=logo </span>\n",
       "<span style=\"color: #800000; text-decoration-color: #800000\">aria-label=Google&gt;&lt;/span&gt;&lt;/a&gt;\\n  &lt;p&gt;&lt;b&gt;502.&lt;/b&gt; &lt;ins&gt;That’s an error.&lt;/ins&gt;\\n  &lt;p&gt;The server encountered a </span>\n",
       "<span style=\"color: #800000; text-decoration-color: #800000\">temporary error and could not complete your request.&lt;p&gt;Please try again in 30 seconds.  &lt;ins&gt;That’s all we </span>\n",
       "<span style=\"color: #800000; text-decoration-color: #800000\">know.&lt;/ins&gt;\\n'</span><span style=\"color: #800000; text-decoration-color: #800000\">, </span><span style=\"color: #800000; text-decoration-color: #800000\">'status'</span><span style=\"color: #800000; text-decoration-color: #800000\">: </span><span style=\"color: #800000; text-decoration-color: #800000\">'Bad Gateway'</span><span style=\"color: #800000; text-decoration-color: #800000; font-weight: bold\">}</span>\n",
       "</pre>\n"
      ],
      "text/plain": [
       "\u001b[31mError: \u001b[0m\u001b[1;31m502\u001b[0m\u001b[31m Bad Gateway. \u001b[0m\u001b[1;31m{\u001b[0m\u001b[31m'message'\u001b[0m\u001b[31m: \u001b[0m\u001b[31m'\u001b[0m\u001b[31m<\u001b[0m\u001b[31m!DOCTYPE html>\\n<html \u001b[0m\u001b[31mlang\u001b[0m\u001b[31m=\u001b[0m\u001b[31men\u001b[0m\u001b[31m>\\n  <meta \u001b[0m\u001b[31mcharset\u001b[0m\u001b[31m=\u001b[0m\u001b[31mutf\u001b[0m\u001b[31m-8>\\n  <meta \u001b[0m\u001b[31mname\u001b[0m\u001b[31m=\u001b[0m\u001b[31mviewport\u001b[0m\n",
       "\u001b[31mcontent\u001b[0m\u001b[31m=\u001b[0m\u001b[31m\"initial\u001b[0m\u001b[31m-\u001b[0m\u001b[31mscale\u001b[0m\u001b[31m=\u001b[0m\u001b[31m1\u001b[0m\u001b[31m, minimum-\u001b[0m\u001b[31mscale\u001b[0m\u001b[31m=\u001b[0m\u001b[31m1\u001b[0m\u001b[31m, \u001b[0m\u001b[31mwidth\u001b[0m\u001b[31m=\u001b[0m\u001b[31mdevice\u001b[0m\u001b[31m-width\">\\n  <title>Error 502 \u001b[0m\u001b[31m(\u001b[0m\u001b[31mServer Error\u001b[0m\u001b[31m)\u001b[0m\u001b[31m!!1</title>\\n  \u001b[0m\n",
       "\u001b[31m<style>\\n    *\u001b[0m\u001b[31m{\u001b[0m\u001b[31mmargin:0;padding:0\u001b[0m\u001b[31m}\u001b[0m\u001b[31mhtml,code\u001b[0m\u001b[31m{\u001b[0m\u001b[31mfont:15px/22px \u001b[0m\n",
       "\u001b[31marial,sans-serif\u001b[0m\u001b[31m}\u001b[0m\u001b[31mhtml\u001b[0m\u001b[31m{\u001b[0m\u001b[31mbackground:#fff;color:#222;padding:15px\u001b[0m\u001b[31m}\u001b[0m\u001b[31mbody\u001b[0m\u001b[31m{\u001b[0m\u001b[31mmargin:7% auto \u001b[0m\n",
       "\u001b[31m0;max-width:390px;min-height:180px;padding:30px 0 15px\u001b[0m\u001b[31m}\u001b[0m\u001b[31m* > \u001b[0m\n",
       "\u001b[31mbody\u001b[0m\u001b[31m{\u001b[0m\u001b[31mbackground:url\u001b[0m\u001b[31m(\u001b[0m\u001b[31m//www.google.com/images/errors/robot.png\u001b[0m\u001b[31m)\u001b[0m\u001b[31m 100% 5px no-repeat;padding-right:205px\u001b[0m\u001b[31m}\u001b[0m\u001b[31mp\u001b[0m\u001b[31m{\u001b[0m\u001b[31mmargin:11px \u001b[0m\n",
       "\u001b[31m0 22px;overflow:hidden\u001b[0m\u001b[31m}\u001b[0m\u001b[31mins\u001b[0m\u001b[31m{\u001b[0m\u001b[31mcolor:#777;text-decoration:none\u001b[0m\u001b[31m}\u001b[0m\u001b[31ma img\u001b[0m\u001b[31m{\u001b[0m\u001b[31mborder:0\u001b[0m\u001b[31m}\u001b[0m\u001b[31m@media screen and \u001b[0m\n",
       "\u001b[31m(\u001b[0m\u001b[31mmax-width:772px\u001b[0m\u001b[31m)\u001b[0m\u001b[31m{\u001b[0m\u001b[31mbody\u001b[0m\u001b[31m{\u001b[0m\u001b[31mbackground:none;margin-top:0;max-width:none;padding-right:0\u001b[0m\u001b[31m}\u001b[0m\u001b[31m}\u001b[0m\u001b[31m#logo\u001b[0m\u001b[31m{\u001b[0m\u001b[31mbackground:url\u001b[0m\u001b[31m(\u001b[0m\u001b[31m//www.goog\u001b[0m\n",
       "\u001b[31mle.com/images/branding/googlelogo/1x/googlelogo_color_150x54dp.png\u001b[0m\u001b[31m)\u001b[0m\u001b[31m no-repeat;margin-left:-5px\u001b[0m\u001b[31m}\u001b[0m\u001b[31m@media only screen \u001b[0m\n",
       "\u001b[31mand \u001b[0m\n",
       "\u001b[31m(\u001b[0m\u001b[31mmin-resolution:192dpi\u001b[0m\u001b[31m)\u001b[0m\u001b[31m{\u001b[0m\u001b[31m#logo\u001b[0m\u001b[31m{\u001b[0m\u001b[31mbackground:url\u001b[0m\u001b[31m(\u001b[0m\u001b[31m//www.google.com/images/branding/googlelogo/2x/googlelogo_color_150x54\u001b[0m\n",
       "\u001b[31mdp.png\u001b[0m\u001b[31m)\u001b[0m\u001b[31m no-repeat 0% 0%/100% \u001b[0m\n",
       "\u001b[31m100%;-moz-border-image:url\u001b[0m\u001b[31m(\u001b[0m\u001b[31m//www.google.com/images/branding/googlelogo/2x/googlelogo_color_150x54dp.png\u001b[0m\u001b[31m)\u001b[0m\u001b[31m 0\u001b[0m\u001b[31m}\u001b[0m\u001b[31m}\u001b[0m\u001b[31m@media \u001b[0m\n",
       "\u001b[31monly screen and \u001b[0m\n",
       "\u001b[31m(\u001b[0m\u001b[31m-webkit-min-device-pixel-ratio:2\u001b[0m\u001b[31m)\u001b[0m\u001b[31m{\u001b[0m\u001b[31m#logo\u001b[0m\u001b[31m{\u001b[0m\u001b[31mbackground:url\u001b[0m\u001b[31m(\u001b[0m\u001b[31m//www.google.com/images/branding/googlelogo/2x/googlelogo_c\u001b[0m\n",
       "\u001b[31molor_150x54dp.png\u001b[0m\u001b[31m)\u001b[0m\u001b[31m no-repeat;-webkit-background-size:100% \u001b[0m\n",
       "\u001b[31m100%\u001b[0m\u001b[31m}\u001b[0m\u001b[31m}\u001b[0m\u001b[31m#logo\u001b[0m\u001b[31m{\u001b[0m\u001b[31mdisplay:inline-block;height:54px;width:150px\u001b[0m\u001b[31m}\u001b[0m\u001b[31m\\n  </style>\\n  <a \u001b[0m\u001b[31mhref\u001b[0m\u001b[31m=//www.google.com/><span \u001b[0m\u001b[31mid\u001b[0m\u001b[31m=\u001b[0m\u001b[31mlogo\u001b[0m\u001b[31m \u001b[0m\n",
       "\u001b[31maria-\u001b[0m\u001b[31mlabel\u001b[0m\u001b[31m=\u001b[0m\u001b[31mGoogle\u001b[0m\u001b[31m></span></a>\\n  <p><b>502.</b> <ins>That’s an error.</ins>\\n  <p>The server encountered a \u001b[0m\n",
       "\u001b[31mtemporary error and could not complete your request.<p>Please try again in 30 seconds.  <ins>That’s all we \u001b[0m\n",
       "\u001b[31mknow.</ins\u001b[0m\u001b[31m>\u001b[0m\u001b[31m\\n'\u001b[0m\u001b[31m, \u001b[0m\u001b[31m'status'\u001b[0m\u001b[31m: \u001b[0m\u001b[31m'Bad Gateway'\u001b[0m\u001b[1;31m}\u001b[0m\n"
      ]
     },
     "metadata": {},
     "output_type": "display_data"
    },
    {
     "data": {
      "text/html": [
       "<pre style=\"white-space:pre;overflow-x:auto;line-height:normal;font-family:Menlo,'DejaVu Sans Mono',consolas,'Courier New',monospace\"><span style=\"color: #800000; text-decoration-color: #800000\">Error: </span><span style=\"color: #800000; text-decoration-color: #800000; font-weight: bold\">502</span><span style=\"color: #800000; text-decoration-color: #800000\"> Bad Gateway. </span><span style=\"color: #800000; text-decoration-color: #800000; font-weight: bold\">{</span><span style=\"color: #800000; text-decoration-color: #800000\">'message'</span><span style=\"color: #800000; text-decoration-color: #800000\">: </span><span style=\"color: #800000; text-decoration-color: #800000\">'&lt;!DOCTYPE html&gt;\\n&lt;html lang=en&gt;\\n  &lt;meta charset=utf-8&gt;\\n  &lt;meta name=viewport</span>\n",
       "<span style=\"color: #800000; text-decoration-color: #800000\">content=\"initial-scale=1, minimum-scale=1, width=device-width\"&gt;\\n  &lt;title&gt;Error 502 (Server Error)!!1&lt;/title&gt;\\n  </span>\n",
       "<span style=\"color: #800000; text-decoration-color: #800000\">&lt;style&gt;\\n    *{margin:0;padding:0}html,code{font:15px/22px </span>\n",
       "<span style=\"color: #800000; text-decoration-color: #800000\">arial,sans-serif}html{background:#fff;color:#222;padding:15px}body{margin:7% auto </span>\n",
       "<span style=\"color: #800000; text-decoration-color: #800000\">0;max-width:390px;min-height:180px;padding:30px 0 15px}* &gt; </span>\n",
       "<span style=\"color: #800000; text-decoration-color: #800000\">body{background:url(//www.google.com/images/errors/robot.png) 100% 5px no-repeat;padding-right:205px}p{margin:11px </span>\n",
       "<span style=\"color: #800000; text-decoration-color: #800000\">0 22px;overflow:hidden}ins{color:#777;text-decoration:none}a img{border:0}@media screen and </span>\n",
       "<span style=\"color: #800000; text-decoration-color: #800000\">(max-width:772px){body{background:none;margin-top:0;max-width:none;padding-right:0}}#logo{background:url(//www.goog</span>\n",
       "<span style=\"color: #800000; text-decoration-color: #800000\">le.com/images/branding/googlelogo/1x/googlelogo_color_150x54dp.png) no-repeat;margin-left:-5px}@media only screen </span>\n",
       "<span style=\"color: #800000; text-decoration-color: #800000\">and </span>\n",
       "<span style=\"color: #800000; text-decoration-color: #800000\">(min-resolution:192dpi){#logo{background:url(//www.google.com/images/branding/googlelogo/2x/googlelogo_color_150x54</span>\n",
       "<span style=\"color: #800000; text-decoration-color: #800000\">dp.png) no-repeat 0% 0%/100% </span>\n",
       "<span style=\"color: #800000; text-decoration-color: #800000\">100%;-moz-border-image:url(//www.google.com/images/branding/googlelogo/2x/googlelogo_color_150x54dp.png) 0}}@media </span>\n",
       "<span style=\"color: #800000; text-decoration-color: #800000\">only screen and </span>\n",
       "<span style=\"color: #800000; text-decoration-color: #800000\">(-webkit-min-device-pixel-ratio:2){#logo{background:url(//www.google.com/images/branding/googlelogo/2x/googlelogo_c</span>\n",
       "<span style=\"color: #800000; text-decoration-color: #800000\">olor_150x54dp.png) no-repeat;-webkit-background-size:100% </span>\n",
       "<span style=\"color: #800000; text-decoration-color: #800000\">100%}}#logo{display:inline-block;height:54px;width:150px}\\n  &lt;/style&gt;\\n  &lt;a href=//www.google.com/&gt;&lt;span id=logo </span>\n",
       "<span style=\"color: #800000; text-decoration-color: #800000\">aria-label=Google&gt;&lt;/span&gt;&lt;/a&gt;\\n  &lt;p&gt;&lt;b&gt;502.&lt;/b&gt; &lt;ins&gt;That’s an error.&lt;/ins&gt;\\n  &lt;p&gt;The server encountered a </span>\n",
       "<span style=\"color: #800000; text-decoration-color: #800000\">temporary error and could not complete your request.&lt;p&gt;Please try again in 30 seconds.  &lt;ins&gt;That’s all we </span>\n",
       "<span style=\"color: #800000; text-decoration-color: #800000\">know.&lt;/ins&gt;\\n'</span><span style=\"color: #800000; text-decoration-color: #800000\">, </span><span style=\"color: #800000; text-decoration-color: #800000\">'status'</span><span style=\"color: #800000; text-decoration-color: #800000\">: </span><span style=\"color: #800000; text-decoration-color: #800000\">'Bad Gateway'</span><span style=\"color: #800000; text-decoration-color: #800000; font-weight: bold\">}</span>\n",
       "</pre>\n"
      ],
      "text/plain": [
       "\u001b[31mError: \u001b[0m\u001b[1;31m502\u001b[0m\u001b[31m Bad Gateway. \u001b[0m\u001b[1;31m{\u001b[0m\u001b[31m'message'\u001b[0m\u001b[31m: \u001b[0m\u001b[31m'\u001b[0m\u001b[31m<\u001b[0m\u001b[31m!DOCTYPE html>\\n<html \u001b[0m\u001b[31mlang\u001b[0m\u001b[31m=\u001b[0m\u001b[31men\u001b[0m\u001b[31m>\\n  <meta \u001b[0m\u001b[31mcharset\u001b[0m\u001b[31m=\u001b[0m\u001b[31mutf\u001b[0m\u001b[31m-8>\\n  <meta \u001b[0m\u001b[31mname\u001b[0m\u001b[31m=\u001b[0m\u001b[31mviewport\u001b[0m\n",
       "\u001b[31mcontent\u001b[0m\u001b[31m=\u001b[0m\u001b[31m\"initial\u001b[0m\u001b[31m-\u001b[0m\u001b[31mscale\u001b[0m\u001b[31m=\u001b[0m\u001b[31m1\u001b[0m\u001b[31m, minimum-\u001b[0m\u001b[31mscale\u001b[0m\u001b[31m=\u001b[0m\u001b[31m1\u001b[0m\u001b[31m, \u001b[0m\u001b[31mwidth\u001b[0m\u001b[31m=\u001b[0m\u001b[31mdevice\u001b[0m\u001b[31m-width\">\\n  <title>Error 502 \u001b[0m\u001b[31m(\u001b[0m\u001b[31mServer Error\u001b[0m\u001b[31m)\u001b[0m\u001b[31m!!1</title>\\n  \u001b[0m\n",
       "\u001b[31m<style>\\n    *\u001b[0m\u001b[31m{\u001b[0m\u001b[31mmargin:0;padding:0\u001b[0m\u001b[31m}\u001b[0m\u001b[31mhtml,code\u001b[0m\u001b[31m{\u001b[0m\u001b[31mfont:15px/22px \u001b[0m\n",
       "\u001b[31marial,sans-serif\u001b[0m\u001b[31m}\u001b[0m\u001b[31mhtml\u001b[0m\u001b[31m{\u001b[0m\u001b[31mbackground:#fff;color:#222;padding:15px\u001b[0m\u001b[31m}\u001b[0m\u001b[31mbody\u001b[0m\u001b[31m{\u001b[0m\u001b[31mmargin:7% auto \u001b[0m\n",
       "\u001b[31m0;max-width:390px;min-height:180px;padding:30px 0 15px\u001b[0m\u001b[31m}\u001b[0m\u001b[31m* > \u001b[0m\n",
       "\u001b[31mbody\u001b[0m\u001b[31m{\u001b[0m\u001b[31mbackground:url\u001b[0m\u001b[31m(\u001b[0m\u001b[31m//www.google.com/images/errors/robot.png\u001b[0m\u001b[31m)\u001b[0m\u001b[31m 100% 5px no-repeat;padding-right:205px\u001b[0m\u001b[31m}\u001b[0m\u001b[31mp\u001b[0m\u001b[31m{\u001b[0m\u001b[31mmargin:11px \u001b[0m\n",
       "\u001b[31m0 22px;overflow:hidden\u001b[0m\u001b[31m}\u001b[0m\u001b[31mins\u001b[0m\u001b[31m{\u001b[0m\u001b[31mcolor:#777;text-decoration:none\u001b[0m\u001b[31m}\u001b[0m\u001b[31ma img\u001b[0m\u001b[31m{\u001b[0m\u001b[31mborder:0\u001b[0m\u001b[31m}\u001b[0m\u001b[31m@media screen and \u001b[0m\n",
       "\u001b[31m(\u001b[0m\u001b[31mmax-width:772px\u001b[0m\u001b[31m)\u001b[0m\u001b[31m{\u001b[0m\u001b[31mbody\u001b[0m\u001b[31m{\u001b[0m\u001b[31mbackground:none;margin-top:0;max-width:none;padding-right:0\u001b[0m\u001b[31m}\u001b[0m\u001b[31m}\u001b[0m\u001b[31m#logo\u001b[0m\u001b[31m{\u001b[0m\u001b[31mbackground:url\u001b[0m\u001b[31m(\u001b[0m\u001b[31m//www.goog\u001b[0m\n",
       "\u001b[31mle.com/images/branding/googlelogo/1x/googlelogo_color_150x54dp.png\u001b[0m\u001b[31m)\u001b[0m\u001b[31m no-repeat;margin-left:-5px\u001b[0m\u001b[31m}\u001b[0m\u001b[31m@media only screen \u001b[0m\n",
       "\u001b[31mand \u001b[0m\n",
       "\u001b[31m(\u001b[0m\u001b[31mmin-resolution:192dpi\u001b[0m\u001b[31m)\u001b[0m\u001b[31m{\u001b[0m\u001b[31m#logo\u001b[0m\u001b[31m{\u001b[0m\u001b[31mbackground:url\u001b[0m\u001b[31m(\u001b[0m\u001b[31m//www.google.com/images/branding/googlelogo/2x/googlelogo_color_150x54\u001b[0m\n",
       "\u001b[31mdp.png\u001b[0m\u001b[31m)\u001b[0m\u001b[31m no-repeat 0% 0%/100% \u001b[0m\n",
       "\u001b[31m100%;-moz-border-image:url\u001b[0m\u001b[31m(\u001b[0m\u001b[31m//www.google.com/images/branding/googlelogo/2x/googlelogo_color_150x54dp.png\u001b[0m\u001b[31m)\u001b[0m\u001b[31m 0\u001b[0m\u001b[31m}\u001b[0m\u001b[31m}\u001b[0m\u001b[31m@media \u001b[0m\n",
       "\u001b[31monly screen and \u001b[0m\n",
       "\u001b[31m(\u001b[0m\u001b[31m-webkit-min-device-pixel-ratio:2\u001b[0m\u001b[31m)\u001b[0m\u001b[31m{\u001b[0m\u001b[31m#logo\u001b[0m\u001b[31m{\u001b[0m\u001b[31mbackground:url\u001b[0m\u001b[31m(\u001b[0m\u001b[31m//www.google.com/images/branding/googlelogo/2x/googlelogo_c\u001b[0m\n",
       "\u001b[31molor_150x54dp.png\u001b[0m\u001b[31m)\u001b[0m\u001b[31m no-repeat;-webkit-background-size:100% \u001b[0m\n",
       "\u001b[31m100%\u001b[0m\u001b[31m}\u001b[0m\u001b[31m}\u001b[0m\u001b[31m#logo\u001b[0m\u001b[31m{\u001b[0m\u001b[31mdisplay:inline-block;height:54px;width:150px\u001b[0m\u001b[31m}\u001b[0m\u001b[31m\\n  </style>\\n  <a \u001b[0m\u001b[31mhref\u001b[0m\u001b[31m=//www.google.com/><span \u001b[0m\u001b[31mid\u001b[0m\u001b[31m=\u001b[0m\u001b[31mlogo\u001b[0m\u001b[31m \u001b[0m\n",
       "\u001b[31maria-\u001b[0m\u001b[31mlabel\u001b[0m\u001b[31m=\u001b[0m\u001b[31mGoogle\u001b[0m\u001b[31m></span></a>\\n  <p><b>502.</b> <ins>That’s an error.</ins>\\n  <p>The server encountered a \u001b[0m\n",
       "\u001b[31mtemporary error and could not complete your request.<p>Please try again in 30 seconds.  <ins>That’s all we \u001b[0m\n",
       "\u001b[31mknow.</ins\u001b[0m\u001b[31m>\u001b[0m\u001b[31m\\n'\u001b[0m\u001b[31m, \u001b[0m\u001b[31m'status'\u001b[0m\u001b[31m: \u001b[0m\u001b[31m'Bad Gateway'\u001b[0m\u001b[1;31m}\u001b[0m\n"
      ]
     },
     "metadata": {},
     "output_type": "display_data"
    },
    {
     "data": {
      "text/html": [
       "<pre style=\"white-space:pre;overflow-x:auto;line-height:normal;font-family:Menlo,'DejaVu Sans Mono',consolas,'Courier New',monospace\"><span style=\"color: #000080; text-decoration-color: #000080\">Checkpoint saved at ../../data/pre-filtering/pre-filtered_6_8.checkpoint.csv</span>\n",
       "</pre>\n"
      ],
      "text/plain": [
       "\u001b[34mCheckpoint saved at ..\u001b[0m\u001b[34m/../data/pre-filtering/\u001b[0m\u001b[34mpre-filtered_6_8.checkpoint.csv\u001b[0m\n"
      ]
     },
     "metadata": {},
     "output_type": "display_data"
    },
    {
     "data": {
      "text/html": [
       "<pre style=\"white-space:pre;overflow-x:auto;line-height:normal;font-family:Menlo,'DejaVu Sans Mono',consolas,'Courier New',monospace\"><span style=\"color: #000080; text-decoration-color: #000080\">Checkpoint saved at ../../data/pre-filtering/pre-filtered_6_8.checkpoint.csv</span>\n",
       "</pre>\n"
      ],
      "text/plain": [
       "\u001b[34mCheckpoint saved at ..\u001b[0m\u001b[34m/../data/pre-filtering/\u001b[0m\u001b[34mpre-filtered_6_8.checkpoint.csv\u001b[0m\n"
      ]
     },
     "metadata": {},
     "output_type": "display_data"
    },
    {
     "data": {
      "text/html": [
       "<pre style=\"white-space:pre;overflow-x:auto;line-height:normal;font-family:Menlo,'DejaVu Sans Mono',consolas,'Courier New',monospace\"></pre>\n"
      ],
      "text/plain": []
     },
     "metadata": {},
     "output_type": "display_data"
    }
   ],
   "source": [
    "# List of texts to classify\n",
    "texts = df[\"content\"].tolist()\n",
    "\n",
    "# before launching:\n",
    "results = [None] * len(texts)\n",
    "\n",
    "checkpoint_path = output_path.with_suffix(\".checkpoint.csv\")\n",
    "\n",
    "with ThreadPoolExecutor(max_workers=10) as executor:\n",
    "    future_to_idx = {\n",
    "        executor.submit(safe_predict, txt): idx\n",
    "        for idx, txt in enumerate(texts)\n",
    "    }\n",
    "    for future in tqdm(as_completed(future_to_idx), total=len(texts)):\n",
    "        idx = future_to_idx[future]\n",
    "        results[idx] = future.result()\n",
    "        if idx % 500 == 0:\n",
    "            pd.DataFrame({\"content\": texts, \"label\": results}).to_csv(checkpoint_path, index=False)\n",
    "            console.print(f\"[blue]Checkpoint saved at {checkpoint_path}[/blue]\")"
   ]
  },
  {
   "cell_type": "code",
   "execution_count": 8,
   "id": "3b90fbaf",
   "metadata": {},
   "outputs": [],
   "source": [
    "df['gemini_prediction'] = results"
   ]
  },
  {
   "cell_type": "code",
   "execution_count": 9,
   "id": "b053c8c9",
   "metadata": {},
   "outputs": [
    {
     "data": {
      "text/html": [
       "<pre style=\"white-space:pre;overflow-x:auto;line-height:normal;font-family:Menlo,'DejaVu Sans Mono',consolas,'Courier New',monospace\"><span style=\"color: #800080; text-decoration-color: #800080\">╭────────────────────────── Exemple 12629 ───────────────────────────╮</span>\n",
       "<span style=\"color: #800080; text-decoration-color: #800080\">│</span> bonne chance pour l'avenir perso encore deux ans ici après je part <span style=\"color: #800080; text-decoration-color: #800080\">│</span>\n",
       "<span style=\"color: #800080; text-decoration-color: #800080\">│</span>                                                                    <span style=\"color: #800080; text-decoration-color: #800080\">│</span>\n",
       "<span style=\"color: #800080; text-decoration-color: #800080\">│</span> <span style=\"color: #808000; text-decoration-color: #808000\">Gemini Prediction:</span> <span style=\"font-weight: bold\">0</span>                                               <span style=\"color: #800080; text-decoration-color: #800080\">│</span>\n",
       "<span style=\"color: #800080; text-decoration-color: #800080\">╰────────────────────────────────────────────────────────────────────╯</span>\n",
       "</pre>\n"
      ],
      "text/plain": [
       "\u001b[35m╭─\u001b[0m\u001b[35m─────────────────────────\u001b[0m\u001b[35m Exemple 12629 \u001b[0m\u001b[35m──────────────────────────\u001b[0m\u001b[35m─╮\u001b[0m\n",
       "\u001b[35m│\u001b[0m bonne chance pour l'avenir perso encore deux ans ici après je part \u001b[35m│\u001b[0m\n",
       "\u001b[35m│\u001b[0m                                                                    \u001b[35m│\u001b[0m\n",
       "\u001b[35m│\u001b[0m \u001b[33mGemini Prediction:\u001b[0m \u001b[1m0\u001b[0m                                               \u001b[35m│\u001b[0m\n",
       "\u001b[35m╰────────────────────────────────────────────────────────────────────╯\u001b[0m\n"
      ]
     },
     "metadata": {},
     "output_type": "display_data"
    },
    {
     "data": {
      "text/html": [
       "<pre style=\"white-space:pre;overflow-x:auto;line-height:normal;font-family:Menlo,'DejaVu Sans Mono',consolas,'Courier New',monospace\"><span style=\"color: #800080; text-decoration-color: #800080\">╭───────── Exemple 37731 ─────────╮</span>\n",
       "<span style=\"color: #800080; text-decoration-color: #800080\">│</span> J'ai jamais été un gros dormeur <span style=\"color: #800080; text-decoration-color: #800080\">│</span>\n",
       "<span style=\"color: #800080; text-decoration-color: #800080\">│</span> Ma moyenne c'est 4H par nuit    <span style=\"color: #800080; text-decoration-color: #800080\">│</span>\n",
       "<span style=\"color: #800080; text-decoration-color: #800080\">│</span>                                 <span style=\"color: #800080; text-decoration-color: #800080\">│</span>\n",
       "<span style=\"color: #800080; text-decoration-color: #800080\">│</span> <span style=\"color: #808000; text-decoration-color: #808000\">Gemini Prediction:</span> <span style=\"font-weight: bold\">0</span>            <span style=\"color: #800080; text-decoration-color: #800080\">│</span>\n",
       "<span style=\"color: #800080; text-decoration-color: #800080\">╰─────────────────────────────────╯</span>\n",
       "</pre>\n"
      ],
      "text/plain": [
       "\u001b[35m╭─\u001b[0m\u001b[35m────────\u001b[0m\u001b[35m Exemple 37731 \u001b[0m\u001b[35m────────\u001b[0m\u001b[35m─╮\u001b[0m\n",
       "\u001b[35m│\u001b[0m J'ai jamais été un gros dormeur \u001b[35m│\u001b[0m\n",
       "\u001b[35m│\u001b[0m Ma moyenne c'est 4H par nuit    \u001b[35m│\u001b[0m\n",
       "\u001b[35m│\u001b[0m                                 \u001b[35m│\u001b[0m\n",
       "\u001b[35m│\u001b[0m \u001b[33mGemini Prediction:\u001b[0m \u001b[1m0\u001b[0m            \u001b[35m│\u001b[0m\n",
       "\u001b[35m╰─────────────────────────────────╯\u001b[0m\n"
      ]
     },
     "metadata": {},
     "output_type": "display_data"
    },
    {
     "data": {
      "text/html": [
       "<pre style=\"white-space:pre;overflow-x:auto;line-height:normal;font-family:Menlo,'DejaVu Sans Mono',consolas,'Courier New',monospace\"><span style=\"color: #800080; text-decoration-color: #800080\">╭─────────────────────────────────────────── Exemple 39992 ───────────────────────────────────────────╮</span>\n",
       "<span style=\"color: #800080; text-decoration-color: #800080\">│</span> Les famosos gilets jaunes dissidents mais triples dosés, masqués et soumis au pa-pass sans broncher <span style=\"color: #800080; text-decoration-color: #800080\">│</span>\n",
       "<span style=\"color: #800080; text-decoration-color: #800080\">│</span> Bons esclaves prêts à retourner travailler lundi                                                    <span style=\"color: #800080; text-decoration-color: #800080\">│</span>\n",
       "<span style=\"color: #800080; text-decoration-color: #800080\">│</span>                                                                                                     <span style=\"color: #800080; text-decoration-color: #800080\">│</span>\n",
       "<span style=\"color: #800080; text-decoration-color: #800080\">│</span> <span style=\"color: #808000; text-decoration-color: #808000\">Gemini Prediction:</span> <span style=\"font-weight: bold\">1</span>                                                                                <span style=\"color: #800080; text-decoration-color: #800080\">│</span>\n",
       "<span style=\"color: #800080; text-decoration-color: #800080\">╰─────────────────────────────────────────────────────────────────────────────────────────────────────╯</span>\n",
       "</pre>\n"
      ],
      "text/plain": [
       "\u001b[35m╭─\u001b[0m\u001b[35m──────────────────────────────────────────\u001b[0m\u001b[35m Exemple 39992 \u001b[0m\u001b[35m──────────────────────────────────────────\u001b[0m\u001b[35m─╮\u001b[0m\n",
       "\u001b[35m│\u001b[0m Les famosos gilets jaunes dissidents mais triples dosés, masqués et soumis au pa-pass sans broncher \u001b[35m│\u001b[0m\n",
       "\u001b[35m│\u001b[0m Bons esclaves prêts à retourner travailler lundi                                                    \u001b[35m│\u001b[0m\n",
       "\u001b[35m│\u001b[0m                                                                                                     \u001b[35m│\u001b[0m\n",
       "\u001b[35m│\u001b[0m \u001b[33mGemini Prediction:\u001b[0m \u001b[1m1\u001b[0m                                                                                \u001b[35m│\u001b[0m\n",
       "\u001b[35m╰─────────────────────────────────────────────────────────────────────────────────────────────────────╯\u001b[0m\n"
      ]
     },
     "metadata": {},
     "output_type": "display_data"
    },
    {
     "data": {
      "text/html": [
       "<pre style=\"white-space:pre;overflow-x:auto;line-height:normal;font-family:Menlo,'DejaVu Sans Mono',consolas,'Courier New',monospace\"><span style=\"color: #800080; text-decoration-color: #800080\">╭───────────────────── Exemple 8526 ─────────────────────╮</span>\n",
       "<span style=\"color: #800080; text-decoration-color: #800080\">│</span> J'irais en Chine rien que pour rencontrer cette déesse <span style=\"color: #800080; text-decoration-color: #800080\">│</span>\n",
       "<span style=\"color: #800080; text-decoration-color: #800080\">│</span> :coeur:                                                <span style=\"color: #800080; text-decoration-color: #800080\">│</span>\n",
       "<span style=\"color: #800080; text-decoration-color: #800080\">│</span>                                                        <span style=\"color: #800080; text-decoration-color: #800080\">│</span>\n",
       "<span style=\"color: #800080; text-decoration-color: #800080\">│</span> <span style=\"color: #808000; text-decoration-color: #808000\">Gemini Prediction:</span> <span style=\"font-weight: bold\">0</span>                                   <span style=\"color: #800080; text-decoration-color: #800080\">│</span>\n",
       "<span style=\"color: #800080; text-decoration-color: #800080\">╰────────────────────────────────────────────────────────╯</span>\n",
       "</pre>\n"
      ],
      "text/plain": [
       "\u001b[35m╭─\u001b[0m\u001b[35m────────────────────\u001b[0m\u001b[35m Exemple 8526 \u001b[0m\u001b[35m────────────────────\u001b[0m\u001b[35m─╮\u001b[0m\n",
       "\u001b[35m│\u001b[0m J'irais en Chine rien que pour rencontrer cette déesse \u001b[35m│\u001b[0m\n",
       "\u001b[35m│\u001b[0m :coeur:                                                \u001b[35m│\u001b[0m\n",
       "\u001b[35m│\u001b[0m                                                        \u001b[35m│\u001b[0m\n",
       "\u001b[35m│\u001b[0m \u001b[33mGemini Prediction:\u001b[0m \u001b[1m0\u001b[0m                                   \u001b[35m│\u001b[0m\n",
       "\u001b[35m╰────────────────────────────────────────────────────────╯\u001b[0m\n"
      ]
     },
     "metadata": {},
     "output_type": "display_data"
    },
    {
     "data": {
      "text/html": [
       "<pre style=\"white-space:pre;overflow-x:auto;line-height:normal;font-family:Menlo,'DejaVu Sans Mono',consolas,'Courier New',monospace\"><span style=\"color: #800080; text-decoration-color: #800080\">╭──────────── Exemple 8280 ─────────────╮</span>\n",
       "<span style=\"color: #800080; text-decoration-color: #800080\">│</span> Non avec mon AAH j’ai pas de livret A <span style=\"color: #800080; text-decoration-color: #800080\">│</span>\n",
       "<span style=\"color: #800080; text-decoration-color: #800080\">│</span>                                       <span style=\"color: #800080; text-decoration-color: #800080\">│</span>\n",
       "<span style=\"color: #800080; text-decoration-color: #800080\">│</span> <span style=\"color: #808000; text-decoration-color: #808000\">Gemini Prediction:</span> <span style=\"font-weight: bold\">0</span>                  <span style=\"color: #800080; text-decoration-color: #800080\">│</span>\n",
       "<span style=\"color: #800080; text-decoration-color: #800080\">╰───────────────────────────────────────╯</span>\n",
       "</pre>\n"
      ],
      "text/plain": [
       "\u001b[35m╭─\u001b[0m\u001b[35m───────────\u001b[0m\u001b[35m Exemple 8280 \u001b[0m\u001b[35m────────────\u001b[0m\u001b[35m─╮\u001b[0m\n",
       "\u001b[35m│\u001b[0m Non avec mon AAH j’ai pas de livret A \u001b[35m│\u001b[0m\n",
       "\u001b[35m│\u001b[0m                                       \u001b[35m│\u001b[0m\n",
       "\u001b[35m│\u001b[0m \u001b[33mGemini Prediction:\u001b[0m \u001b[1m0\u001b[0m                  \u001b[35m│\u001b[0m\n",
       "\u001b[35m╰───────────────────────────────────────╯\u001b[0m\n"
      ]
     },
     "metadata": {},
     "output_type": "display_data"
    }
   ],
   "source": [
    "for i, row in df.sample(5, random_state=42).iterrows():\n",
    "    content = Text(row['content'], style=\"bold\")\n",
    "    toxicity = f\"[yellow]Gemini Prediction:[/yellow] [bold]{int(row['gemini_prediction'])}[/bold]\"\n",
    "    panel = Panel.fit(\n",
    "        f\"{content}\\n\\n{toxicity}\",\n",
    "        title=f\"Exemple {i+1}\",\n",
    "        border_style=\"magenta\"\n",
    "    )\n",
    "    console.print(panel)"
   ]
  },
  {
   "cell_type": "code",
   "execution_count": 10,
   "id": "8a7b0428",
   "metadata": {},
   "outputs": [
    {
     "data": {
      "text/plain": [
       "gemini_prediction\n",
       "0    46336\n",
       "1    13664\n",
       "Name: count, dtype: int64"
      ]
     },
     "execution_count": 10,
     "metadata": {},
     "output_type": "execute_result"
    }
   ],
   "source": [
    "df['gemini_prediction'].value_counts()"
   ]
  },
  {
   "cell_type": "code",
   "execution_count": 11,
   "id": "50ff8533",
   "metadata": {},
   "outputs": [],
   "source": [
    "df.to_csv(output_path, index=False, encoding=\"utf-8\")"
   ]
  }
 ],
 "metadata": {
  "kernelspec": {
   "display_name": "SJTU",
   "language": "python",
   "name": "python3"
  },
  "language_info": {
   "codemirror_mode": {
    "name": "ipython",
    "version": 3
   },
   "file_extension": ".py",
   "mimetype": "text/x-python",
   "name": "python",
   "nbconvert_exporter": "python",
   "pygments_lexer": "ipython3",
   "version": "3.10.13"
  }
 },
 "nbformat": 4,
 "nbformat_minor": 5
}
